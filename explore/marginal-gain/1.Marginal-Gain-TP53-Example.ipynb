{
 "cells": [
  {
   "cell_type": "markdown",
   "metadata": {},
   "source": [
    "# Compare logistic regression models of TP53 mutation for a) covariates only and b) covariates with gene expression data to determine marginal gain using gene expression data "
   ]
  },
  {
   "cell_type": "code",
   "execution_count": 1,
   "metadata": {
    "collapsed": false
   },
   "outputs": [
    {
     "name": "stderr",
     "output_type": "stream",
     "text": [
      "//anaconda/envs/cognoma-machine-learning/lib/python3.5/site-packages/sklearn/cross_validation.py:44: DeprecationWarning: This module was deprecated in version 0.18 in favor of the model_selection module into which all the refactored classes and functions are moved. Also note that the interface of the new CV iterators are different from that of this module. This module will be removed in 0.20.\n",
      "  \"This module will be removed in 0.20.\", DeprecationWarning)\n",
      "//anaconda/envs/cognoma-machine-learning/lib/python3.5/site-packages/sklearn/grid_search.py:43: DeprecationWarning: This module was deprecated in version 0.18 in favor of the model_selection module into which all the refactored classes and functions are moved. This module will be removed in 0.20.\n",
      "  DeprecationWarning)\n"
     ]
    }
   ],
   "source": [
    "import os\n",
    "import urllib\n",
    "import random\n",
    "import warnings\n",
    "\n",
    "import pandas as pd\n",
    "import numpy as np\n",
    "import matplotlib.pyplot as plt\n",
    "import seaborn as sns\n",
    "from sklearn import preprocessing\n",
    "from sklearn.linear_model import SGDClassifier\n",
    "from sklearn.model_selection import train_test_split, GridSearchCV\n",
    "from sklearn.metrics import roc_auc_score, roc_curve\n",
    "from sklearn.pipeline import Pipeline, FeatureUnion\n",
    "from sklearn.preprocessing import StandardScaler, Imputer, FunctionTransformer\n",
    "from sklearn.feature_selection import SelectKBest\n",
    "from statsmodels.robust.scale import mad\n",
    "from sklearn_pandas import DataFrameMapper\n",
    "from IPython.display import display\n",
    "import gc"
   ]
  },
  {
   "cell_type": "code",
   "execution_count": 2,
   "metadata": {
    "collapsed": false
   },
   "outputs": [],
   "source": [
    "%matplotlib inline\n",
    "plt.style.use('seaborn-notebook')"
   ]
  },
  {
   "cell_type": "markdown",
   "metadata": {},
   "source": [
    "## Specify model configuration"
   ]
  },
  {
   "cell_type": "code",
   "execution_count": 3,
   "metadata": {
    "collapsed": true
   },
   "outputs": [],
   "source": [
    "# We're going to be building a 'TP53' classifier \n",
    "GENE = '7157' # TP53"
   ]
  },
  {
   "cell_type": "markdown",
   "metadata": {},
   "source": [
    "*Here is some [documentation](http://scikit-learn.org/stable/modules/generated/sklearn.linear_model.SGDClassifier.html) regarding the classifier and hyperparameters*\n",
    "\n",
    "*Here is some [information](https://ghr.nlm.nih.gov/gene/TP53) about TP53*"
   ]
  },
  {
   "cell_type": "markdown",
   "metadata": {},
   "source": [
    "## Load Data"
   ]
  },
  {
   "cell_type": "code",
   "execution_count": 4,
   "metadata": {
    "collapsed": false
   },
   "outputs": [
    {
     "name": "stdout",
     "output_type": "stream",
     "text": [
      "CPU times: user 3min 29s, sys: 6.37 s, total: 3min 36s\n",
      "Wall time: 3min 40s\n"
     ]
    }
   ],
   "source": [
    "%%time\n",
    "path = os.path.join('..', '..', 'download', 'covariates.tsv')\n",
    "covariates = pd.read_table(path, index_col=0)\n",
    "path = os.path.join('..', '..', 'download', 'expression-matrix.tsv.bz2')\n",
    "expression = pd.read_table(path, index_col=0)"
   ]
  },
  {
   "cell_type": "code",
   "execution_count": 5,
   "metadata": {
    "collapsed": false
   },
   "outputs": [
    {
     "name": "stdout",
     "output_type": "stream",
     "text": [
      "CPU times: user 1min 59s, sys: 5.56 s, total: 2min 5s\n",
      "Wall time: 2min 7s\n"
     ]
    }
   ],
   "source": [
    "%%time\n",
    "path = os.path.join('..','..','download', 'mutation-matrix.tsv.bz2')\n",
    "Y = pd.read_table(path, index_col=0)"
   ]
  },
  {
   "cell_type": "code",
   "execution_count": 6,
   "metadata": {
    "collapsed": false
   },
   "outputs": [
    {
     "name": "stdout",
     "output_type": "stream",
     "text": [
      "(7306, 70)\n",
      "(7306, 20600)\n"
     ]
    }
   ],
   "source": [
    "X = {}\n",
    "X['a'] = covariates\n",
    "X['b'] = pd.concat([covariates,expression], axis=1)\n",
    "for k in ['a','b']:\n",
    "    print(X[k].shape)"
   ]
  },
  {
   "cell_type": "code",
   "execution_count": 7,
   "metadata": {
    "collapsed": false
   },
   "outputs": [
    {
     "data": {
      "text/html": [
       "<div>\n",
       "<table border=\"1\" class=\"dataframe\">\n",
       "  <thead>\n",
       "    <tr style=\"text-align: right;\">\n",
       "      <th></th>\n",
       "      <th>age_diagnosed</th>\n",
       "      <th>days_survived</th>\n",
       "      <th>days_recurrence_free</th>\n",
       "      <th>acronym_ACC</th>\n",
       "      <th>acronym_BLCA</th>\n",
       "      <th>acronym_BRCA</th>\n",
       "      <th>acronym_CESC</th>\n",
       "      <th>acronym_CHOL</th>\n",
       "      <th>acronym_COAD</th>\n",
       "      <th>acronym_DLBC</th>\n",
       "      <th>...</th>\n",
       "      <th>100289341</th>\n",
       "      <th>100289635</th>\n",
       "      <th>100294720</th>\n",
       "      <th>100302401</th>\n",
       "      <th>100302640</th>\n",
       "      <th>100302650</th>\n",
       "      <th>100302692</th>\n",
       "      <th>100302736</th>\n",
       "      <th>100303453</th>\n",
       "      <th>100303728</th>\n",
       "    </tr>\n",
       "    <tr>\n",
       "      <th>sample_id</th>\n",
       "      <th></th>\n",
       "      <th></th>\n",
       "      <th></th>\n",
       "      <th></th>\n",
       "      <th></th>\n",
       "      <th></th>\n",
       "      <th></th>\n",
       "      <th></th>\n",
       "      <th></th>\n",
       "      <th></th>\n",
       "      <th></th>\n",
       "      <th></th>\n",
       "      <th></th>\n",
       "      <th></th>\n",
       "      <th></th>\n",
       "      <th></th>\n",
       "      <th></th>\n",
       "      <th></th>\n",
       "      <th></th>\n",
       "      <th></th>\n",
       "      <th></th>\n",
       "    </tr>\n",
       "  </thead>\n",
       "  <tbody>\n",
       "    <tr>\n",
       "      <th>TCGA-02-0047-01</th>\n",
       "      <td>78.0</td>\n",
       "      <td>448.0</td>\n",
       "      <td>NaN</td>\n",
       "      <td>0</td>\n",
       "      <td>0</td>\n",
       "      <td>0</td>\n",
       "      <td>0</td>\n",
       "      <td>0</td>\n",
       "      <td>0</td>\n",
       "      <td>0</td>\n",
       "      <td>...</td>\n",
       "      <td>6.58</td>\n",
       "      <td>8.76</td>\n",
       "      <td>0.000</td>\n",
       "      <td>4.68</td>\n",
       "      <td>4.49</td>\n",
       "      <td>3.66</td>\n",
       "      <td>5.27</td>\n",
       "      <td>4.50</td>\n",
       "      <td>0.000</td>\n",
       "      <td>6.38</td>\n",
       "    </tr>\n",
       "    <tr>\n",
       "      <th>TCGA-02-0055-01</th>\n",
       "      <td>62.0</td>\n",
       "      <td>76.0</td>\n",
       "      <td>NaN</td>\n",
       "      <td>0</td>\n",
       "      <td>0</td>\n",
       "      <td>0</td>\n",
       "      <td>0</td>\n",
       "      <td>0</td>\n",
       "      <td>0</td>\n",
       "      <td>0</td>\n",
       "      <td>...</td>\n",
       "      <td>6.02</td>\n",
       "      <td>8.11</td>\n",
       "      <td>0.000</td>\n",
       "      <td>5.56</td>\n",
       "      <td>5.54</td>\n",
       "      <td>6.66</td>\n",
       "      <td>5.37</td>\n",
       "      <td>7.79</td>\n",
       "      <td>0.000</td>\n",
       "      <td>5.16</td>\n",
       "    </tr>\n",
       "    <tr>\n",
       "      <th>TCGA-02-2483-01</th>\n",
       "      <td>43.0</td>\n",
       "      <td>466.0</td>\n",
       "      <td>NaN</td>\n",
       "      <td>0</td>\n",
       "      <td>0</td>\n",
       "      <td>0</td>\n",
       "      <td>0</td>\n",
       "      <td>0</td>\n",
       "      <td>0</td>\n",
       "      <td>0</td>\n",
       "      <td>...</td>\n",
       "      <td>7.84</td>\n",
       "      <td>8.98</td>\n",
       "      <td>0.508</td>\n",
       "      <td>4.86</td>\n",
       "      <td>2.50</td>\n",
       "      <td>3.24</td>\n",
       "      <td>4.38</td>\n",
       "      <td>4.36</td>\n",
       "      <td>2.030</td>\n",
       "      <td>5.05</td>\n",
       "    </tr>\n",
       "    <tr>\n",
       "      <th>TCGA-02-2485-01</th>\n",
       "      <td>53.0</td>\n",
       "      <td>470.0</td>\n",
       "      <td>NaN</td>\n",
       "      <td>0</td>\n",
       "      <td>0</td>\n",
       "      <td>0</td>\n",
       "      <td>0</td>\n",
       "      <td>0</td>\n",
       "      <td>0</td>\n",
       "      <td>0</td>\n",
       "      <td>...</td>\n",
       "      <td>5.37</td>\n",
       "      <td>8.83</td>\n",
       "      <td>0.000</td>\n",
       "      <td>4.26</td>\n",
       "      <td>3.26</td>\n",
       "      <td>7.05</td>\n",
       "      <td>3.93</td>\n",
       "      <td>6.52</td>\n",
       "      <td>0.965</td>\n",
       "      <td>6.64</td>\n",
       "    </tr>\n",
       "    <tr>\n",
       "      <th>TCGA-02-2486-01</th>\n",
       "      <td>64.0</td>\n",
       "      <td>493.0</td>\n",
       "      <td>NaN</td>\n",
       "      <td>0</td>\n",
       "      <td>0</td>\n",
       "      <td>0</td>\n",
       "      <td>0</td>\n",
       "      <td>0</td>\n",
       "      <td>0</td>\n",
       "      <td>0</td>\n",
       "      <td>...</td>\n",
       "      <td>6.08</td>\n",
       "      <td>7.84</td>\n",
       "      <td>0.000</td>\n",
       "      <td>4.67</td>\n",
       "      <td>5.41</td>\n",
       "      <td>4.92</td>\n",
       "      <td>4.89</td>\n",
       "      <td>6.08</td>\n",
       "      <td>3.580</td>\n",
       "      <td>4.80</td>\n",
       "    </tr>\n",
       "  </tbody>\n",
       "</table>\n",
       "<p>5 rows × 20600 columns</p>\n",
       "</div>"
      ],
      "text/plain": [
       "                 age_diagnosed  days_survived  days_recurrence_free  \\\n",
       "sample_id                                                             \n",
       "TCGA-02-0047-01           78.0          448.0                   NaN   \n",
       "TCGA-02-0055-01           62.0           76.0                   NaN   \n",
       "TCGA-02-2483-01           43.0          466.0                   NaN   \n",
       "TCGA-02-2485-01           53.0          470.0                   NaN   \n",
       "TCGA-02-2486-01           64.0          493.0                   NaN   \n",
       "\n",
       "                 acronym_ACC  acronym_BLCA  acronym_BRCA  acronym_CESC  \\\n",
       "sample_id                                                                \n",
       "TCGA-02-0047-01            0             0             0             0   \n",
       "TCGA-02-0055-01            0             0             0             0   \n",
       "TCGA-02-2483-01            0             0             0             0   \n",
       "TCGA-02-2485-01            0             0             0             0   \n",
       "TCGA-02-2486-01            0             0             0             0   \n",
       "\n",
       "                 acronym_CHOL  acronym_COAD  acronym_DLBC    ...      \\\n",
       "sample_id                                                    ...       \n",
       "TCGA-02-0047-01             0             0             0    ...       \n",
       "TCGA-02-0055-01             0             0             0    ...       \n",
       "TCGA-02-2483-01             0             0             0    ...       \n",
       "TCGA-02-2485-01             0             0             0    ...       \n",
       "TCGA-02-2486-01             0             0             0    ...       \n",
       "\n",
       "                 100289341  100289635  100294720  100302401  100302640  \\\n",
       "sample_id                                                                \n",
       "TCGA-02-0047-01       6.58       8.76      0.000       4.68       4.49   \n",
       "TCGA-02-0055-01       6.02       8.11      0.000       5.56       5.54   \n",
       "TCGA-02-2483-01       7.84       8.98      0.508       4.86       2.50   \n",
       "TCGA-02-2485-01       5.37       8.83      0.000       4.26       3.26   \n",
       "TCGA-02-2486-01       6.08       7.84      0.000       4.67       5.41   \n",
       "\n",
       "                 100302650  100302692  100302736  100303453  100303728  \n",
       "sample_id                                                               \n",
       "TCGA-02-0047-01       3.66       5.27       4.50      0.000       6.38  \n",
       "TCGA-02-0055-01       6.66       5.37       7.79      0.000       5.16  \n",
       "TCGA-02-2483-01       3.24       4.38       4.36      2.030       5.05  \n",
       "TCGA-02-2485-01       7.05       3.93       6.52      0.965       6.64  \n",
       "TCGA-02-2486-01       4.92       4.89       6.08      3.580       4.80  \n",
       "\n",
       "[5 rows x 20600 columns]"
      ]
     },
     "execution_count": 7,
     "metadata": {},
     "output_type": "execute_result"
    }
   ],
   "source": [
    "# Which columns have NaN values? \n",
    "X['b'].head()"
   ]
  },
  {
   "cell_type": "code",
   "execution_count": 8,
   "metadata": {
    "collapsed": false
   },
   "outputs": [],
   "source": [
    "y = Y[GENE]"
   ]
  },
  {
   "cell_type": "code",
   "execution_count": 9,
   "metadata": {
    "collapsed": false
   },
   "outputs": [
    {
     "data": {
      "text/plain": [
       "sample_id\n",
       "TCGA-02-0047-01    0\n",
       "TCGA-02-0055-01    1\n",
       "TCGA-02-2483-01    1\n",
       "TCGA-02-2485-01    1\n",
       "TCGA-02-2486-01    0\n",
       "TCGA-04-1348-01    1\n",
       "Name: 7157, dtype: int64"
      ]
     },
     "execution_count": 9,
     "metadata": {},
     "output_type": "execute_result"
    }
   ],
   "source": [
    "# The Series now holds TP53 Mutation Status for each Sample\n",
    "y.head(6)"
   ]
  },
  {
   "cell_type": "code",
   "execution_count": 10,
   "metadata": {
    "collapsed": false
   },
   "outputs": [
    {
     "data": {
      "text/plain": [
       "0    0.645907\n",
       "1    0.354093\n",
       "Name: 7157, dtype: float64"
      ]
     },
     "execution_count": 10,
     "metadata": {},
     "output_type": "execute_result"
    }
   ],
   "source": [
    "# Here are the percentage of tumors with NF1\n",
    "y.value_counts(True)"
   ]
  },
  {
   "cell_type": "markdown",
   "metadata": {},
   "source": [
    "## Set aside 10% of the data for testing"
   ]
  },
  {
   "cell_type": "code",
   "execution_count": 10,
   "metadata": {
    "collapsed": false
   },
   "outputs": [],
   "source": [
    "X_train = {}\n",
    "X_test = {}\n",
    "for k in ['a','b']:\n",
    "    X_train[k], X_test[k], y_train, y_test = train_test_split(X[k], y, test_size=0.1, random_state=0)\n",
    "    'Size: {:,} features, {:,} training samples, {:,} testing samples'.format(len(X[k].columns), \n",
    "                                                                              len(X_train[k]), len(X_test[k]))"
   ]
  },
  {
   "cell_type": "markdown",
   "metadata": {},
   "source": [
    "## Median absolute deviation feature selection"
   ]
  },
  {
   "cell_type": "code",
   "execution_count": 11,
   "metadata": {
    "collapsed": false
   },
   "outputs": [],
   "source": [
    "def fs_mad(x, y):\n",
    "    \"\"\"    \n",
    "    Get the median absolute deviation (MAD) for each column of x\n",
    "    \"\"\"\n",
    "    scores = mad(x) \n",
    "    return scores, np.array([np.NaN]*len(scores))"
   ]
  },
  {
   "cell_type": "markdown",
   "metadata": {},
   "source": [
    "## Define pipeline and Cross validation model fitting"
   ]
  },
  {
   "cell_type": "code",
   "execution_count": 153,
   "metadata": {
    "collapsed": false
   },
   "outputs": [],
   "source": [
    "# Parameter Sweep for Hyperparameters\n",
    "\n",
    "def get_cols(X,col_num, feat_type):\n",
    "    if feat_type=='expression': return X[:,col_num:]\n",
    "    return  X[:,:col_num]\n",
    "\n",
    "param_grid = {\n",
    "    'classify__loss': ['log'],\n",
    "    'classify__penalty': ['elasticnet'],\n",
    "    'classify__alpha': [1], #10.0 ** np.linspace(-3, 1, 10),\n",
    "    'classify__l1_ratio': [0.15],\n",
    "}\n",
    "\n",
    "expression_feats = Pipeline(steps=[\n",
    "    ('dim_red', FunctionTransformer(get_cols,kw_args={'col_num':covariates.shape[1],'feat_type':'expression'})),\n",
    "    ('select', SelectKBest(fs_mad,2000)),\n",
    "])\n",
    "\n",
    "covariate_feats = Pipeline(steps=[\n",
    "    ('dim_red', FunctionTransformer(get_cols,kw_args={'col_num':covariates.shape[1],'feat_type':'covariates'}))\n",
    "])\n",
    "\n",
    "combo_pipeline = Pipeline([\n",
    "    ('imputer', Imputer()),\n",
    "    ('standardize', StandardScaler()),\n",
    "    ('features', FeatureUnion([\n",
    "        ('expression_feats', expression_feats),\n",
    "        ('covariates_feats', covariate_feats),           \n",
    "    ])),\n",
    "    ('classify', SGDClassifier(random_state=0, class_weight='balanced'))\n",
    "])\n",
    "\n",
    "covariates_pipeline = Pipeline(steps=[\n",
    "    ('imputer', Imputer()),\n",
    "    ('standardize', StandardScaler()),\n",
    "    ('select', SelectKBest(fs_mad,'all')),\n",
    "    ('classify', SGDClassifier(random_state=0, class_weight='balanced'))\n",
    "])\n",
    "\n",
    "cv_pipeline = {}\n",
    "cv_pipeline['a'] = GridSearchCV(estimator=covariates_pipeline, param_grid=param_grid, scoring='roc_auc')\n",
    "cv_pipeline['b'] = GridSearchCV(estimator=combo_pipeline, param_grid=param_grid, scoring='roc_auc')"
   ]
  },
  {
   "cell_type": "markdown",
   "metadata": {},
   "source": [
    "## Alternative pipeline with DataFrameMapper and Cross validation model fitting"
   ]
  },
  {
   "cell_type": "code",
   "execution_count": 151,
   "metadata": {
    "collapsed": false
   },
   "outputs": [],
   "source": [
    "# Parameter Sweep for Hyperparameters\n",
    "\n",
    "param_grid = {\n",
    "    'classify__loss': ['log'],\n",
    "    'classify__penalty': ['elasticnet'],\n",
    "    'classify__alpha': [1], #10.0 ** np.linspace(-3, 1, 10),\n",
    "    'classify__l1_ratio': [0.15],\n",
    "}\n",
    "\n",
    "combo_pipeline = Pipeline([\n",
    "    ('select', DataFrameMapper([ # must keep select first\n",
    "                    (list(expression.columns.values), SelectKBest(fs_mad,2000)),\n",
    "                    (list(covariates.columns.values), SelectKBest('all'))\n",
    "                ])),\n",
    "    ('imputer', Imputer()),\n",
    "    ('standardize', StandardScaler()),\n",
    "    ('classify', SGDClassifier(random_state=0, class_weight='balanced'))\n",
    "])\n",
    "\n",
    "covariates_pipeline = Pipeline(steps=[\n",
    "    ('imputer', Imputer()),\n",
    "    ('standardize', StandardScaler()),\n",
    "    ('select', SelectKBest(fs_mad,'all')),\n",
    "    ('classify', SGDClassifier(random_state=0, class_weight='balanced'))\n",
    "])\n",
    "\n",
    "cv_pipeline = {}\n",
    "cv_pipeline['a'] = GridSearchCV(estimator=covariates_pipeline, param_grid=param_grid, scoring='roc_auc')\n",
    "cv_pipeline['b'] = GridSearchCV(estimator=combo_pipeline, param_grid=param_grid, scoring='roc_auc')"
   ]
  },
  {
   "cell_type": "code",
   "execution_count": 154,
   "metadata": {
    "collapsed": false
   },
   "outputs": [
    {
     "data": {
      "text/plain": [
       "GridSearchCV(cv=None, error_score='raise',\n",
       "       estimator=Pipeline(steps=[('imputer', Imputer(axis=0, copy=True, missing_values='NaN', strategy='mean', verbose=0)), ('standardize', StandardScaler(copy=True, with_mean=True, with_std=True)), ('select', SelectKBest(k='all', score_func=<function fs_mad at 0x159c6e620>)), ('classify', SGDClassifier(alpha=0.0001, average...      penalty='l2', power_t=0.5, random_state=0, shuffle=True, verbose=0,\n",
       "       warm_start=False))]),\n",
       "       fit_params={}, iid=True, n_jobs=1,\n",
       "       param_grid={'classify__alpha': [1], 'classify__l1_ratio': [0.15], 'classify__penalty': ['elasticnet'], 'classify__loss': ['log']},\n",
       "       pre_dispatch='2*n_jobs', refit=True, return_train_score=True,\n",
       "       scoring='roc_auc', verbose=0)"
      ]
     },
     "execution_count": 154,
     "metadata": {},
     "output_type": "execute_result"
    }
   ],
   "source": [
    "#%%time\n",
    "# Train model a.\n",
    "cv_pipeline['a'].fit(X=X_train['a'], y=y_train)"
   ]
  },
  {
   "cell_type": "code",
   "execution_count": 155,
   "metadata": {
    "collapsed": false
   },
   "outputs": [
    {
     "name": "stdout",
     "output_type": "stream",
     "text": [
      "CPU times: user 1.77 s, sys: 251 ms, total: 2.02 s\n",
      "Wall time: 1.17 s\n"
     ]
    },
    {
     "data": {
      "text/plain": [
       "GridSearchCV(cv=None, error_score='raise',\n",
       "       estimator=Pipeline(steps=[('imputer', Imputer(axis=0, copy=True, missing_values='NaN', strategy='mean', verbose=0)), ('standardize', StandardScaler(copy=True, with_mean=True, with_std=True)), ('features', FeatureUnion(n_jobs=1,\n",
       "       transformer_list=[('select', Pipeline(steps=[('dim_red', FunctionTransformer(accept_...      penalty='l2', power_t=0.5, random_state=0, shuffle=True, verbose=0,\n",
       "       warm_start=False))]),\n",
       "       fit_params={}, iid=True, n_jobs=1,\n",
       "       param_grid={'classify__alpha': [1], 'classify__l1_ratio': [0.15], 'classify__penalty': ['elasticnet'], 'classify__loss': ['log']},\n",
       "       pre_dispatch='2*n_jobs', refit=True, return_train_score=True,\n",
       "       scoring='roc_auc', verbose=0)"
      ]
     },
     "execution_count": 155,
     "metadata": {},
     "output_type": "execute_result"
    }
   ],
   "source": [
    "%%time\n",
    "# Train model b.\n",
    "cv_pipeline['b'].fit(X=X_train['b'].iloc[0:100], y=y_train.iloc[0:100])"
   ]
  },
  {
   "cell_type": "code",
   "execution_count": 156,
   "metadata": {
    "collapsed": false
   },
   "outputs": [
    {
     "name": "stdout",
     "output_type": "stream",
     "text": [
      "57.270%\n",
      "{'classify__alpha': 1, 'classify__l1_ratio': 0.15, 'classify__penalty': 'elasticnet', 'classify__loss': 'log'}\n",
      "76.841%\n",
      "{'classify__alpha': 1, 'classify__l1_ratio': 0.15, 'classify__penalty': 'elasticnet', 'classify__loss': 'log'}\n"
     ]
    }
   ],
   "source": [
    "# Best Params\n",
    "for k in ['a','b']:\n",
    "    print('{:.3%}'.format(cv_pipeline[k].best_score_))\n",
    "    print(cv_pipeline[k].best_params_)"
   ]
  },
  {
   "cell_type": "markdown",
   "metadata": {},
   "source": [
    "## Visualize hyperparameters performance"
   ]
  },
  {
   "cell_type": "code",
   "execution_count": 157,
   "metadata": {
    "collapsed": false
   },
   "outputs": [
    {
     "data": {
      "text/html": [
       "<div>\n",
       "<table border=\"1\" class=\"dataframe\">\n",
       "  <thead>\n",
       "    <tr style=\"text-align: right;\">\n",
       "      <th></th>\n",
       "      <th>mean_fit_time</th>\n",
       "      <th>mean_score_time</th>\n",
       "      <th>mean_test_score</th>\n",
       "      <th>mean_train_score</th>\n",
       "      <th>param_classify__alpha</th>\n",
       "      <th>param_classify__l1_ratio</th>\n",
       "      <th>param_classify__loss</th>\n",
       "      <th>param_classify__penalty</th>\n",
       "      <th>params</th>\n",
       "      <th>rank_test_score</th>\n",
       "      <th>...</th>\n",
       "      <th>split2_test_score</th>\n",
       "      <th>split2_train_score</th>\n",
       "      <th>std_fit_time</th>\n",
       "      <th>std_score_time</th>\n",
       "      <th>std_test_score</th>\n",
       "      <th>std_train_score</th>\n",
       "      <th>classify__alpha</th>\n",
       "      <th>classify__l1_ratio</th>\n",
       "      <th>classify__loss</th>\n",
       "      <th>classify__penalty</th>\n",
       "    </tr>\n",
       "  </thead>\n",
       "  <tbody>\n",
       "    <tr>\n",
       "      <th>0</th>\n",
       "      <td>0.061903</td>\n",
       "      <td>0.006933</td>\n",
       "      <td>0.572704</td>\n",
       "      <td>0.573641</td>\n",
       "      <td>1</td>\n",
       "      <td>0.15</td>\n",
       "      <td>log</td>\n",
       "      <td>elasticnet</td>\n",
       "      <td>{'classify__alpha': 1, 'classify__l1_ratio': 0...</td>\n",
       "      <td>1</td>\n",
       "      <td>...</td>\n",
       "      <td>0.5</td>\n",
       "      <td>0.5</td>\n",
       "      <td>0.004735</td>\n",
       "      <td>0.000332</td>\n",
       "      <td>0.102773</td>\n",
       "      <td>0.104144</td>\n",
       "      <td>1</td>\n",
       "      <td>0.15</td>\n",
       "      <td>log</td>\n",
       "      <td>elasticnet</td>\n",
       "    </tr>\n",
       "  </tbody>\n",
       "</table>\n",
       "<p>1 rows × 24 columns</p>\n",
       "</div>"
      ],
      "text/plain": [
       "   mean_fit_time  mean_score_time  mean_test_score  mean_train_score  \\\n",
       "0       0.061903         0.006933         0.572704          0.573641   \n",
       "\n",
       "  param_classify__alpha param_classify__l1_ratio param_classify__loss  \\\n",
       "0                     1                     0.15                  log   \n",
       "\n",
       "  param_classify__penalty                                             params  \\\n",
       "0              elasticnet  {'classify__alpha': 1, 'classify__l1_ratio': 0...   \n",
       "\n",
       "   rank_test_score        ...          split2_test_score  split2_train_score  \\\n",
       "0                1        ...                        0.5                 0.5   \n",
       "\n",
       "   std_fit_time  std_score_time  std_test_score  std_train_score  \\\n",
       "0      0.004735        0.000332        0.102773         0.104144   \n",
       "\n",
       "   classify__alpha  classify__l1_ratio  classify__loss  classify__penalty  \n",
       "0                1                0.15             log         elasticnet  \n",
       "\n",
       "[1 rows x 24 columns]"
      ]
     },
     "metadata": {},
     "output_type": "display_data"
    },
    {
     "data": {
      "text/html": [
       "<div>\n",
       "<table border=\"1\" class=\"dataframe\">\n",
       "  <thead>\n",
       "    <tr style=\"text-align: right;\">\n",
       "      <th></th>\n",
       "      <th>mean_fit_time</th>\n",
       "      <th>mean_score_time</th>\n",
       "      <th>mean_test_score</th>\n",
       "      <th>mean_train_score</th>\n",
       "      <th>param_classify__alpha</th>\n",
       "      <th>param_classify__l1_ratio</th>\n",
       "      <th>param_classify__loss</th>\n",
       "      <th>param_classify__penalty</th>\n",
       "      <th>params</th>\n",
       "      <th>rank_test_score</th>\n",
       "      <th>...</th>\n",
       "      <th>split2_test_score</th>\n",
       "      <th>split2_train_score</th>\n",
       "      <th>std_fit_time</th>\n",
       "      <th>std_score_time</th>\n",
       "      <th>std_test_score</th>\n",
       "      <th>std_train_score</th>\n",
       "      <th>classify__alpha</th>\n",
       "      <th>classify__l1_ratio</th>\n",
       "      <th>classify__loss</th>\n",
       "      <th>classify__penalty</th>\n",
       "    </tr>\n",
       "  </thead>\n",
       "  <tbody>\n",
       "    <tr>\n",
       "      <th>0</th>\n",
       "      <td>0.203273</td>\n",
       "      <td>0.031351</td>\n",
       "      <td>0.768409</td>\n",
       "      <td>0.955698</td>\n",
       "      <td>1</td>\n",
       "      <td>0.15</td>\n",
       "      <td>log</td>\n",
       "      <td>elasticnet</td>\n",
       "      <td>{'classify__alpha': 1, 'classify__l1_ratio': 0...</td>\n",
       "      <td>1</td>\n",
       "      <td>...</td>\n",
       "      <td>0.644628</td>\n",
       "      <td>0.986166</td>\n",
       "      <td>0.00979</td>\n",
       "      <td>0.001347</td>\n",
       "      <td>0.094669</td>\n",
       "      <td>0.027038</td>\n",
       "      <td>1</td>\n",
       "      <td>0.15</td>\n",
       "      <td>log</td>\n",
       "      <td>elasticnet</td>\n",
       "    </tr>\n",
       "  </tbody>\n",
       "</table>\n",
       "<p>1 rows × 24 columns</p>\n",
       "</div>"
      ],
      "text/plain": [
       "   mean_fit_time  mean_score_time  mean_test_score  mean_train_score  \\\n",
       "0       0.203273         0.031351         0.768409          0.955698   \n",
       "\n",
       "  param_classify__alpha param_classify__l1_ratio param_classify__loss  \\\n",
       "0                     1                     0.15                  log   \n",
       "\n",
       "  param_classify__penalty                                             params  \\\n",
       "0              elasticnet  {'classify__alpha': 1, 'classify__l1_ratio': 0...   \n",
       "\n",
       "   rank_test_score        ...          split2_test_score  split2_train_score  \\\n",
       "0                1        ...                   0.644628            0.986166   \n",
       "\n",
       "   std_fit_time  std_score_time  std_test_score  std_train_score  \\\n",
       "0       0.00979        0.001347        0.094669         0.027038   \n",
       "\n",
       "   classify__alpha  classify__l1_ratio  classify__loss  classify__penalty  \n",
       "0                1                0.15             log         elasticnet  \n",
       "\n",
       "[1 rows x 24 columns]"
      ]
     },
     "metadata": {},
     "output_type": "display_data"
    }
   ],
   "source": [
    "cv_result_df = {}\n",
    "for k in ['a','b']:\n",
    "    cv_result_df[k] = pd.concat([\n",
    "        pd.DataFrame(cv_pipeline[k].cv_results_),\n",
    "        pd.DataFrame.from_records(cv_pipeline[k].cv_results_['params']),\n",
    "    ], axis='columns')\n",
    "    display(cv_result_df[k].head(2))"
   ]
  },
  {
   "cell_type": "code",
   "execution_count": 158,
   "metadata": {
    "collapsed": false
   },
   "outputs": [
    {
     "data": {
      "image/png": "[encoded data removed]",
      "text/plain": [
       "<matplotlib.figure.Figure at 0x12ba7d0b8>"
      ]
     },
     "metadata": {},
     "output_type": "display_data"
    }
   ],
   "source": [
    "# Cross-validated performance heatmap\n",
    "for i,k in enumerate(['a','b']):\n",
    "    ax = plt.subplot(2,1,i+1)\n",
    "    cv_score_mat = pd.pivot_table(cv_result_df[k], values='mean_test_score', index='classify__l1_ratio', columns='classify__alpha')\n",
    "\n",
    "    ax = sns.heatmap(cv_score_mat, annot=True, fmt='.1%')\n",
    "    if i == 1: ax.set_xlabel('Regularization strength multiplier (alpha)')\n",
    "    else: ax.set_xlabel('')\n",
    "    ax.set_ylabel('Elastic net mix param (l1_ratio)');"
   ]
  },
  {
   "cell_type": "markdown",
   "metadata": {},
   "source": [
    "## Use Optimal Hyperparameters to Output ROC Curve"
   ]
  },
  {
   "cell_type": "code",
   "execution_count": 159,
   "metadata": {
    "collapsed": false
   },
   "outputs": [],
   "source": [
    "def get_threshold_metrics(y_true, y_pred):\n",
    "    roc_columns = ['fpr', 'tpr', 'threshold']\n",
    "    roc_items = zip(roc_columns, roc_curve(y_true, y_pred))\n",
    "    roc_df = pd.DataFrame.from_items(roc_items)\n",
    "    auroc = roc_auc_score(y_true, y_pred)\n",
    "    return {'auroc': auroc, 'roc_df': roc_df}\n",
    "\n",
    "y_pred_train = {}\n",
    "y_pred_test = {}\n",
    "metrics_train = {}\n",
    "metrics_test = {}\n",
    "for k in ['a','b']:\n",
    "    y_pred_train[k] = cv_pipeline[k].decision_function(X_train[k])\n",
    "    y_pred_test[k] = cv_pipeline[k].decision_function(X_test[k])\n",
    "\n",
    "    metrics_train[k] = get_threshold_metrics(y_train, y_pred_train[k])\n",
    "    metrics_test[k] = get_threshold_metrics(y_test, y_pred_test[k])"
   ]
  },
  {
   "cell_type": "code",
   "execution_count": 160,
   "metadata": {
    "collapsed": false
   },
   "outputs": [
    {
     "data": {
      "image/png": "[encoded data removed]",
      "text/plain": [
       "<matplotlib.figure.Figure at 0x12a6e6e80>"
      ]
     },
     "metadata": {},
     "output_type": "display_data"
    }
   ],
   "source": [
    "# Plot ROC\n",
    "for i,k in enumerate(['a','b']):\n",
    "    for label, metrics in ('Training', metrics_train[k]), ('Testing', metrics_test[k]):\n",
    "        roc_df = metrics['roc_df']\n",
    "        plt.plot(roc_df.fpr, roc_df.tpr,\n",
    "            label='{} (AUROC = {:.1%})'.format(label+'_'+str(k), metrics['auroc']))\n",
    "    plt.xlim([0.0, 1.0])\n",
    "    plt.ylim([0.0, 1.05])\n",
    "    plt.xlabel('False Positive Rate')\n",
    "    plt.ylabel('True Positive Rate')\n",
    "    plt.title('Predicting TP53 mutation from gene expression (ROC curves)')\n",
    "    plt.legend(loc='lower right');"
   ]
  },
  {
   "cell_type": "markdown",
   "metadata": {},
   "source": [
    "## What are the classifier coefficients?"
   ]
  },
  {
   "cell_type": "code",
   "execution_count": 162,
   "metadata": {
    "collapsed": false
   },
   "outputs": [],
   "source": [
    "final_pipeline = {}\n",
    "final_classifier = {}\n",
    "for k in ['a','b']:\n",
    "    final_pipeline[k] = cv_pipeline[k].best_estimator_\n",
    "    final_classifier[k] = final_pipeline[k].named_steps['classify']"
   ]
  },
  {
   "cell_type": "code",
   "execution_count": 197,
   "metadata": {
    "collapsed": false
   },
   "outputs": [],
   "source": [
    "coef_df = {}\n",
    "for k in ['a','b']:\n",
    "    \n",
    "    if k == 'a': select_step = 'select'\n",
    "    else: select_step = 'features'\n",
    "    \n",
    "    select_indices = final_pipeline[k].named_steps[select_step].transform(\n",
    "        np.arange(len(X[k].columns)).reshape(1, -1)\n",
    "    ).tolist()\n",
    "    \n",
    "    if k=='b': select_indices = [x for sublist in select_indices for x in sublist]\n",
    "\n",
    "    coef_df[k] = pd.DataFrame.from_items([\n",
    "        ('feature', X[k].columns[select_indices]),\n",
    "        ('weight', final_classifier[k].coef_[0]),\n",
    "    ])\n",
    "\n",
    "    coef_df[k]['abs'] = coef_df[k]['weight'].abs()\n",
    "    coef_df[k] = coef_df[k].sort_values('abs', ascending=False)\n",
    "    \n",
    "    # add positive and negatives to dataframe\n",
    "    coef_df[k]['positives'] = coef_df[k].weight > 0\n",
    "    coef_df[k]['negatives'] = coef_df[k].weight < 0"
   ]
  },
  {
   "cell_type": "code",
   "execution_count": 198,
   "metadata": {
    "collapsed": false
   },
   "outputs": [
    {
     "name": "stdout",
     "output_type": "stream",
     "text": [
      "98.6% zero coefficients; 0 negative and 1 positive coefficients\n",
      "99.3% zero coefficients; 3 negative and 12 positive coefficients\n"
     ]
    }
   ],
   "source": [
    "for k in ['a','b']:\n",
    "    print('{:.1%} zero coefficients; {:,} negative and {:,} positive coefficients'.format(\n",
    "            (coef_df[k].weight == 0).mean(),\n",
    "            ().sum(),\n",
    "            (coef_df[k].weight > 0).sum()\n",
    "    ))"
   ]
  },
  {
   "cell_type": "code",
   "execution_count": 199,
   "metadata": {
    "collapsed": false
   },
   "outputs": [
    {
     "data": {
      "text/html": [
       "<div>\n",
       "<table border=\"1\" class=\"dataframe\">\n",
       "  <thead>\n",
       "    <tr style=\"text-align: right;\">\n",
       "      <th></th>\n",
       "      <th>feature</th>\n",
       "      <th>weight</th>\n",
       "      <th>abs</th>\n",
       "    </tr>\n",
       "  </thead>\n",
       "  <tbody>\n",
       "    <tr>\n",
       "      <th>1087</th>\n",
       "      <td>55316</td>\n",
       "      <td>-0.065449</td>\n",
       "      <td>0.065449</td>\n",
       "    </tr>\n",
       "    <tr>\n",
       "      <th>1870</th>\n",
       "      <td>389336</td>\n",
       "      <td>0.062481</td>\n",
       "      <td>0.062481</td>\n",
       "    </tr>\n",
       "    <tr>\n",
       "      <th>1374</th>\n",
       "      <td>84002</td>\n",
       "      <td>0.042808</td>\n",
       "      <td>0.042808</td>\n",
       "    </tr>\n",
       "    <tr>\n",
       "      <th>425</th>\n",
       "      <td>5653</td>\n",
       "      <td>0.031213</td>\n",
       "      <td>0.031213</td>\n",
       "    </tr>\n",
       "    <tr>\n",
       "      <th>509</th>\n",
       "      <td>6732</td>\n",
       "      <td>0.030229</td>\n",
       "      <td>0.030229</td>\n",
       "    </tr>\n",
       "  </tbody>\n",
       "</table>\n",
       "</div>"
      ],
      "text/plain": [
       "     feature    weight       abs\n",
       "1087   55316 -0.065449  0.065449\n",
       "1870  389336  0.062481  0.062481\n",
       "1374   84002  0.042808  0.042808\n",
       "425     5653  0.031213  0.031213\n",
       "509     6732  0.030229  0.030229"
      ]
     },
     "metadata": {},
     "output_type": "display_data"
    },
    {
     "data": {
      "text/html": [
       "<div>\n",
       "<table border=\"1\" class=\"dataframe\">\n",
       "  <thead>\n",
       "    <tr style=\"text-align: right;\">\n",
       "      <th></th>\n",
       "      <th>feature</th>\n",
       "      <th>weight</th>\n",
       "      <th>abs</th>\n",
       "    </tr>\n",
       "  </thead>\n",
       "  <tbody>\n",
       "    <tr>\n",
       "      <th>69</th>\n",
       "      <td>n_mutations_log1p</td>\n",
       "      <td>0.028788</td>\n",
       "      <td>0.028788</td>\n",
       "    </tr>\n",
       "    <tr>\n",
       "      <th>44</th>\n",
       "      <td>organ_Eye</td>\n",
       "      <td>0.000000</td>\n",
       "      <td>0.000000</td>\n",
       "    </tr>\n",
       "    <tr>\n",
       "      <th>50</th>\n",
       "      <td>organ_Lymphatic tissue</td>\n",
       "      <td>0.000000</td>\n",
       "      <td>0.000000</td>\n",
       "    </tr>\n",
       "    <tr>\n",
       "      <th>49</th>\n",
       "      <td>organ_Lung</td>\n",
       "      <td>0.000000</td>\n",
       "      <td>0.000000</td>\n",
       "    </tr>\n",
       "    <tr>\n",
       "      <th>48</th>\n",
       "      <td>organ_Liver</td>\n",
       "      <td>0.000000</td>\n",
       "      <td>0.000000</td>\n",
       "    </tr>\n",
       "  </tbody>\n",
       "</table>\n",
       "</div>"
      ],
      "text/plain": [
       "                   feature    weight       abs\n",
       "69       n_mutations_log1p  0.028788  0.028788\n",
       "44               organ_Eye  0.000000  0.000000\n",
       "50  organ_Lymphatic tissue  0.000000  0.000000\n",
       "49              organ_Lung  0.000000  0.000000\n",
       "48             organ_Liver  0.000000  0.000000"
      ]
     },
     "metadata": {},
     "output_type": "display_data"
    }
   ],
   "source": [
    "# What are the top weighted features for model a and model b?\n",
    "display(coef_df['b'].head(5))\n",
    "display(coef_df['a'].head(5))"
   ]
  },
  {
   "cell_type": "code",
   "execution_count": 201,
   "metadata": {
    "collapsed": false
   },
   "outputs": [
    {
     "data": {
      "text/html": [
       "<div>\n",
       "<table border=\"1\" class=\"dataframe\">\n",
       "  <thead>\n",
       "    <tr style=\"text-align: right;\">\n",
       "      <th></th>\n",
       "      <th>feature</th>\n",
       "      <th>weight</th>\n",
       "      <th>abs</th>\n",
       "      <th>isFeatureFromA</th>\n",
       "    </tr>\n",
       "  </thead>\n",
       "  <tbody>\n",
       "    <tr>\n",
       "      <th>2036</th>\n",
       "      <td>organ_Bile duct</td>\n",
       "      <td>0.0</td>\n",
       "      <td>0.0</td>\n",
       "      <td>True</td>\n",
       "    </tr>\n",
       "    <tr>\n",
       "      <th>2035</th>\n",
       "      <td>organ_Adrenal gland</td>\n",
       "      <td>0.0</td>\n",
       "      <td>0.0</td>\n",
       "      <td>True</td>\n",
       "    </tr>\n",
       "    <tr>\n",
       "      <th>2034</th>\n",
       "      <td>acronym_UVM</td>\n",
       "      <td>0.0</td>\n",
       "      <td>0.0</td>\n",
       "      <td>True</td>\n",
       "    </tr>\n",
       "    <tr>\n",
       "      <th>2033</th>\n",
       "      <td>acronym_UCS</td>\n",
       "      <td>0.0</td>\n",
       "      <td>0.0</td>\n",
       "      <td>True</td>\n",
       "    </tr>\n",
       "    <tr>\n",
       "      <th>2032</th>\n",
       "      <td>acronym_UCEC</td>\n",
       "      <td>0.0</td>\n",
       "      <td>0.0</td>\n",
       "      <td>True</td>\n",
       "    </tr>\n",
       "  </tbody>\n",
       "</table>\n",
       "</div>"
      ],
      "text/plain": [
       "                  feature  weight  abs isFeatureFromA\n",
       "2036      organ_Bile duct     0.0  0.0           True\n",
       "2035  organ_Adrenal gland     0.0  0.0           True\n",
       "2034          acronym_UVM     0.0  0.0           True\n",
       "2033          acronym_UCS     0.0  0.0           True\n",
       "2032         acronym_UCEC     0.0  0.0           True"
      ]
     },
     "metadata": {},
     "output_type": "display_data"
    },
    {
     "name": "stdout",
     "output_type": "stream",
     "text": [
      "rank of model a features in model b: [ 655  656  657  658  659  660  661  662  663  664  665  666  667  668  669\n",
      "  670  671  672  673  674  675  676  677  678  679  680  681  682  683  684\n",
      "  685  686  687  688  689  690  691  692  693  694  695  696  697  698  699\n",
      "  700  701  702  703  704  705  706  707  708  709  710  711  712  713  714\n",
      "  715  716  717  718  750  752  753  754  755 2069]\n"
     ]
    }
   ],
   "source": [
    "# What are the model a features in model b?\n",
    "def RepresentsInt(s):\n",
    "    try: \n",
    "        int(s)\n",
    "        return True\n",
    "    except ValueError:\n",
    "        return False\n",
    "\n",
    "coef_df['b']['isFeatureFromA'] = [not RepresentsInt(x) for x in coef_df['b']['feature']]\n",
    "display(coef_df['b'].query('isFeatureFromA').head())\n",
    "print('rank of model a features in model b:', np.flatnonzero(coef_df['b']['isFeatureFromA']))"
   ]
  },
  {
   "cell_type": "markdown",
   "metadata": {},
   "source": [
    "## Investigate the predictions"
   ]
  },
  {
   "cell_type": "code",
   "execution_count": 268,
   "metadata": {
    "collapsed": false,
    "scrolled": false
   },
   "outputs": [],
   "source": [
    "predict_df = {}\n",
    "for k in ['a','b']:\n",
    "    predict_df[k] = pd.DataFrame.from_items([\n",
    "        ('sample_id', X[k].index),\n",
    "        ('testing', X[k].index.isin(X_test[k].index).astype(int)),\n",
    "        ('status', y),\n",
    "        ('decision_function', cv_pipeline[k].decision_function(X[k])),\n",
    "        ('probability', cv_pipeline[k].predict_proba(X[k])[:, 1]),\n",
    "    ])\n",
    "    predict_df[k]['probability_str'] = predict_df[k]['probability'].apply('{:.1%}'.format)"
   ]
  },
  {
   "cell_type": "code",
   "execution_count": 269,
   "metadata": {
    "collapsed": false
   },
   "outputs": [
    {
     "data": {
      "text/html": [
       "<div>\n",
       "<table border=\"1\" class=\"dataframe\">\n",
       "  <thead>\n",
       "    <tr style=\"text-align: right;\">\n",
       "      <th></th>\n",
       "      <th>sample_id</th>\n",
       "      <th>testing</th>\n",
       "      <th>status</th>\n",
       "      <th>decision_function</th>\n",
       "      <th>probability</th>\n",
       "      <th>probability_str</th>\n",
       "    </tr>\n",
       "    <tr>\n",
       "      <th>sample_id</th>\n",
       "      <th></th>\n",
       "      <th></th>\n",
       "      <th></th>\n",
       "      <th></th>\n",
       "      <th></th>\n",
       "      <th></th>\n",
       "    </tr>\n",
       "  </thead>\n",
       "  <tbody>\n",
       "    <tr>\n",
       "      <th>TCGA-IB-7651-01</th>\n",
       "      <td>TCGA-IB-7651-01</td>\n",
       "      <td>0</td>\n",
       "      <td>0</td>\n",
       "      <td>5.044342</td>\n",
       "      <td>0.993596</td>\n",
       "      <td>99.4%</td>\n",
       "    </tr>\n",
       "    <tr>\n",
       "      <th>TCGA-L5-A4OI-01</th>\n",
       "      <td>TCGA-L5-A4OI-01</td>\n",
       "      <td>1</td>\n",
       "      <td>0</td>\n",
       "      <td>3.889747</td>\n",
       "      <td>0.979959</td>\n",
       "      <td>98.0%</td>\n",
       "    </tr>\n",
       "    <tr>\n",
       "      <th>TCGA-L5-A8NM-01</th>\n",
       "      <td>TCGA-L5-A8NM-01</td>\n",
       "      <td>0</td>\n",
       "      <td>0</td>\n",
       "      <td>3.714916</td>\n",
       "      <td>0.976222</td>\n",
       "      <td>97.6%</td>\n",
       "    </tr>\n",
       "    <tr>\n",
       "      <th>TCGA-N7-A4Y0-01</th>\n",
       "      <td>TCGA-N7-A4Y0-01</td>\n",
       "      <td>0</td>\n",
       "      <td>0</td>\n",
       "      <td>3.321973</td>\n",
       "      <td>0.965175</td>\n",
       "      <td>96.5%</td>\n",
       "    </tr>\n",
       "    <tr>\n",
       "      <th>TCGA-CA-6717-01</th>\n",
       "      <td>TCGA-CA-6717-01</td>\n",
       "      <td>1</td>\n",
       "      <td>0</td>\n",
       "      <td>2.885321</td>\n",
       "      <td>0.947116</td>\n",
       "      <td>94.7%</td>\n",
       "    </tr>\n",
       "  </tbody>\n",
       "</table>\n",
       "</div>"
      ],
      "text/plain": [
       "                       sample_id  testing  status  decision_function  \\\n",
       "sample_id                                                              \n",
       "TCGA-IB-7651-01  TCGA-IB-7651-01        0       0           5.044342   \n",
       "TCGA-L5-A4OI-01  TCGA-L5-A4OI-01        1       0           3.889747   \n",
       "TCGA-L5-A8NM-01  TCGA-L5-A8NM-01        0       0           3.714916   \n",
       "TCGA-N7-A4Y0-01  TCGA-N7-A4Y0-01        0       0           3.321973   \n",
       "TCGA-CA-6717-01  TCGA-CA-6717-01        1       0           2.885321   \n",
       "\n",
       "                 probability probability_str  \n",
       "sample_id                                     \n",
       "TCGA-IB-7651-01     0.993596           99.4%  \n",
       "TCGA-L5-A4OI-01     0.979959           98.0%  \n",
       "TCGA-L5-A8NM-01     0.976222           97.6%  \n",
       "TCGA-N7-A4Y0-01     0.965175           96.5%  \n",
       "TCGA-CA-6717-01     0.947116           94.7%  "
      ]
     },
     "metadata": {},
     "output_type": "display_data"
    },
    {
     "data": {
      "text/html": [
       "<div>\n",
       "<table border=\"1\" class=\"dataframe\">\n",
       "  <thead>\n",
       "    <tr style=\"text-align: right;\">\n",
       "      <th></th>\n",
       "      <th>sample_id</th>\n",
       "      <th>testing</th>\n",
       "      <th>status</th>\n",
       "      <th>decision_function</th>\n",
       "      <th>probability</th>\n",
       "      <th>probability_str</th>\n",
       "    </tr>\n",
       "    <tr>\n",
       "      <th>sample_id</th>\n",
       "      <th></th>\n",
       "      <th></th>\n",
       "      <th></th>\n",
       "      <th></th>\n",
       "      <th></th>\n",
       "      <th></th>\n",
       "    </tr>\n",
       "  </thead>\n",
       "  <tbody>\n",
       "    <tr>\n",
       "      <th>TCGA-L5-A4OH-01</th>\n",
       "      <td>TCGA-L5-A4OH-01</td>\n",
       "      <td>0</td>\n",
       "      <td>0</td>\n",
       "      <td>4.922734</td>\n",
       "      <td>0.992773</td>\n",
       "      <td>99.3%</td>\n",
       "    </tr>\n",
       "    <tr>\n",
       "      <th>TCGA-L5-A8NR-01</th>\n",
       "      <td>TCGA-L5-A8NR-01</td>\n",
       "      <td>0</td>\n",
       "      <td>0</td>\n",
       "      <td>4.885036</td>\n",
       "      <td>0.992498</td>\n",
       "      <td>99.2%</td>\n",
       "    </tr>\n",
       "    <tr>\n",
       "      <th>TCGA-09-2051-01</th>\n",
       "      <td>TCGA-09-2051-01</td>\n",
       "      <td>0</td>\n",
       "      <td>0</td>\n",
       "      <td>4.870500</td>\n",
       "      <td>0.992389</td>\n",
       "      <td>99.2%</td>\n",
       "    </tr>\n",
       "    <tr>\n",
       "      <th>TCGA-B6-A0I6-01</th>\n",
       "      <td>TCGA-B6-A0I6-01</td>\n",
       "      <td>1</td>\n",
       "      <td>0</td>\n",
       "      <td>4.567853</td>\n",
       "      <td>0.989726</td>\n",
       "      <td>99.0%</td>\n",
       "    </tr>\n",
       "    <tr>\n",
       "      <th>TCGA-55-6981-01</th>\n",
       "      <td>TCGA-55-6981-01</td>\n",
       "      <td>0</td>\n",
       "      <td>0</td>\n",
       "      <td>4.275788</td>\n",
       "      <td>0.986289</td>\n",
       "      <td>98.6%</td>\n",
       "    </tr>\n",
       "  </tbody>\n",
       "</table>\n",
       "</div>"
      ],
      "text/plain": [
       "                       sample_id  testing  status  decision_function  \\\n",
       "sample_id                                                              \n",
       "TCGA-L5-A4OH-01  TCGA-L5-A4OH-01        0       0           4.922734   \n",
       "TCGA-L5-A8NR-01  TCGA-L5-A8NR-01        0       0           4.885036   \n",
       "TCGA-09-2051-01  TCGA-09-2051-01        0       0           4.870500   \n",
       "TCGA-B6-A0I6-01  TCGA-B6-A0I6-01        1       0           4.567853   \n",
       "TCGA-55-6981-01  TCGA-55-6981-01        0       0           4.275788   \n",
       "\n",
       "                 probability probability_str  \n",
       "sample_id                                     \n",
       "TCGA-L5-A4OH-01     0.992773           99.3%  \n",
       "TCGA-L5-A8NR-01     0.992498           99.2%  \n",
       "TCGA-09-2051-01     0.992389           99.2%  \n",
       "TCGA-B6-A0I6-01     0.989726           99.0%  \n",
       "TCGA-55-6981-01     0.986289           98.6%  "
      ]
     },
     "metadata": {},
     "output_type": "display_data"
    }
   ],
   "source": [
    "# Top predictions amongst negatives (potential hidden responders)\n",
    "for k in ['a','b']:\n",
    "    display(predict_df[k].sort_values('decision_function', ascending=False).query(\"status == 0\").head(5))"
   ]
  },
  {
   "cell_type": "code",
   "execution_count": 276,
   "metadata": {
    "collapsed": false
   },
   "outputs": [
    {
     "data": {
      "image/png": "[encoded data removed]",
      "text/plain": [
       "<matplotlib.figure.Figure at 0x11afdfa20>"
      ]
     },
     "metadata": {},
     "output_type": "display_data"
    }
   ],
   "source": [
    "# Ignore numpy warning caused by seaborn\n",
    "warnings.filterwarnings('ignore', 'using a non-integer number instead of an integer')\n",
    "for k in ['a','b']:\n",
    "    ax = sns.distplot(predict_df[k].query(\"status == 0\").decision_function, hist=False, label=k+' Negatives')\n",
    "    ax = sns.distplot(predict_df[k].query(\"status == 1\").decision_function, hist=False, label=k+' Positives')"
   ]
  },
  {
   "cell_type": "code",
   "execution_count": 277,
   "metadata": {
    "collapsed": false,
    "scrolled": true
   },
   "outputs": [
    {
     "data": {
      "image/png": "[encoded data removed]",
      "text/plain": [
       "<matplotlib.figure.Figure at 0x13ff08898>"
      ]
     },
     "metadata": {},
     "output_type": "display_data"
    }
   ],
   "source": [
    "for k in ['a','b']:\n",
    "    ax = sns.distplot(predict_df[k].query(\"status == 0\").probability, hist=False, label=k+' Negatives')\n",
    "    ax = sns.distplot(predict_df[k].query(\"status == 1\").probability, hist=False, label=k+' Positives')"
   ]
  },
  {
   "cell_type": "code",
   "execution_count": null,
   "metadata": {
    "collapsed": true
   },
   "outputs": [],
   "source": []
  }
 ],
 "metadata": {
  "anaconda-cloud": {},
  "kernelspec": {
   "display_name": "Python [default]",
   "language": "python",
   "name": "python3"
  },
  "language_info": {
   "codemirror_mode": {
    "name": "ipython",
    "version": 3
   },
   "file_extension": ".py",
   "mimetype": "text/x-python",
   "name": "python",
   "nbconvert_exporter": "python",
   "pygments_lexer": "ipython3",
   "version": "3.5.2"
  }
 },
 "nbformat": 4,
 "nbformat_minor": 0
}
