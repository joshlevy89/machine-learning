{
 "cells": [
  {
   "cell_type": "markdown",
   "metadata": {},
   "source": [
    "# Compare logistic regression models of several mutations for a) covariates only and b) covariates with gene expression data to determine marginal gain using gene expression data "
   ]
  },
  {
   "cell_type": "code",
   "execution_count": 4,
   "metadata": {
    "collapsed": false
   },
   "outputs": [],
   "source": [
    "import os\n",
    "import urllib\n",
    "import random\n",
    "import warnings\n",
    "\n",
    "import pandas as pd\n",
    "import numpy as np\n",
    "import matplotlib.pyplot as plt\n",
    "import seaborn as sns\n",
    "from sklearn import preprocessing\n",
    "from sklearn.linear_model import SGDClassifier\n",
    "from sklearn.model_selection import train_test_split, GridSearchCV\n",
    "from sklearn.metrics import roc_auc_score, roc_curve\n",
    "from sklearn.pipeline import Pipeline\n",
    "from sklearn.preprocessing import StandardScaler, Imputer\n",
    "from sklearn.feature_selection import SelectKBest\n",
    "from statsmodels.robust.scale import mad\n",
    "from IPython.display import display\n",
    "import gc"
   ]
  },
  {
   "cell_type": "code",
   "execution_count": 5,
   "metadata": {
    "collapsed": false
   },
   "outputs": [],
   "source": [
    "%matplotlib inline\n",
    "plt.style.use('seaborn-notebook')"
   ]
  },
  {
   "cell_type": "markdown",
   "metadata": {},
   "source": [
    "## Load Data"
   ]
  },
  {
   "cell_type": "code",
   "execution_count": 6,
   "metadata": {
    "collapsed": false
   },
   "outputs": [
    {
     "name": "stdout",
     "output_type": "stream",
     "text": [
      "CPU times: user 102 ms, sys: 12.1 ms, total: 114 ms\n",
      "Wall time: 114 ms\n"
     ]
    }
   ],
   "source": [
    "%%time\n",
    "path = os.path.join('..', '..', 'download', 'covariates.tsv')\n",
    "covariates = pd.read_table(path, index_col=0)"
   ]
  },
  {
   "cell_type": "code",
   "execution_count": 7,
   "metadata": {
    "collapsed": false
   },
   "outputs": [
    {
     "name": "stdout",
     "output_type": "stream",
     "text": [
      "CPU times: user 3min 22s, sys: 5.94 s, total: 3min 28s\n",
      "Wall time: 3min 32s\n"
     ]
    }
   ],
   "source": [
    "%%time\n",
    "path = os.path.join('..', '..', 'download', 'expression-matrix.tsv.bz2')\n",
    "expression = pd.read_table(path, index_col=0)"
   ]
  },
  {
   "cell_type": "code",
   "execution_count": 40,
   "metadata": {
    "collapsed": false
   },
   "outputs": [
    {
     "name": "stdout",
     "output_type": "stream",
     "text": [
      "CPU times: user 1min 53s, sys: 5.24 s, total: 1min 58s\n",
      "Wall time: 2min\n"
     ]
    }
   ],
   "source": [
    "%%time\n",
    "path = os.path.join('..','..','download', 'mutation-matrix.tsv.bz2')\n",
    "Y = pd.read_table(path, index_col=0)"
   ]
  },
  {
   "cell_type": "code",
   "execution_count": 41,
   "metadata": {
    "collapsed": false
   },
   "outputs": [
    {
     "name": "stdout",
     "output_type": "stream",
     "text": [
      "(7306, 70)\n",
      "(7306, 20600)\n"
     ]
    }
   ],
   "source": [
    "X = {}\n",
    "X['a'] = covariates\n",
    "X['b'] = pd.concat([covariates,expression], axis=1)\n",
    "for k in ['a','b']:\n",
    "    print(X[k].shape)"
   ]
  },
  {
   "cell_type": "code",
   "execution_count": 42,
   "metadata": {
    "collapsed": false
   },
   "outputs": [],
   "source": [
    "mutations = {\n",
    "    '7157': 'TP53',   # tumor protein p53\n",
    "    '7428': 'VHL',    # von Hippel-Lindau tumor suppressor\n",
    "    '29126': 'CD274', # CD274 molecule\n",
    "    '672': 'BRCA1',   # BRCA1, DNA repair associated\n",
    "    '675': 'BRCA2',   # BRCA2, DNA repair associated\n",
    "    '238': 'ALK',     # anaplastic lymphoma receptor tyrosine kinase\n",
    "    '4221': 'MEN1',   # menin 1\n",
    "    '5979': 'RET',    # ret proto-oncogene\n",
    "}"
   ]
  },
  {
   "cell_type": "markdown",
   "metadata": {},
   "source": [
    "## Median absolute deviation feature selection"
   ]
  },
  {
   "cell_type": "code",
   "execution_count": 43,
   "metadata": {
    "collapsed": false
   },
   "outputs": [],
   "source": [
    "def fs_mad(x, y):\n",
    "    \"\"\"    \n",
    "    Get the median absolute deviation (MAD) for each column of x\n",
    "    \"\"\"\n",
    "    scores = mad(x) \n",
    "    return scores, np.array([np.NaN]*len(scores))"
   ]
  },
  {
   "cell_type": "markdown",
   "metadata": {},
   "source": [
    "## Define pipeline and Cross validation model fitting"
   ]
  },
  {
   "cell_type": "code",
   "execution_count": 44,
   "metadata": {
    "collapsed": false
   },
   "outputs": [],
   "source": [
    "# Parameter Sweep for Hyperparameters\n",
    "param_grid = {\n",
    "    'classify__loss': ['log'],\n",
    "    'classify__penalty': ['elasticnet'],\n",
    "    'classify__alpha': [10 ** x for x in range(-3, 1)],\n",
    "    'classify__l1_ratio': [0],\n",
    "}\n",
    "\n",
    "pipeline = Pipeline(steps=[\n",
    "    ('imputer', Imputer()),    \n",
    "    ('select', SelectKBest(fs_mad)),\n",
    "    ('standardize', StandardScaler()),\n",
    "    ('classify', SGDClassifier(random_state=0, class_weight='balanced'))\n",
    "])\n",
    "\n",
    "cv_pipeline = {}\n",
    "for k in ['a','b']:\n",
    "    pg = param_grid.copy()\n",
    "    if k == 'a': pg['select__k'] = ['all']\n",
    "    elif k=='b': pg['select__k'] = [2000]\n",
    "    cv_pipeline[k] =  GridSearchCV(estimator=pipeline, param_grid=pg, scoring='roc_auc')"
   ]
  },
  {
   "cell_type": "code",
   "execution_count": 45,
   "metadata": {
    "collapsed": true
   },
   "outputs": [],
   "source": [
    "def get_aurocs(X, y, pipeline, series):\n",
    "    \"\"\"\n",
    "    Fit the classifier for the given mutation (y) and output predictions for it\n",
    "    \"\"\"\n",
    "    X_train, X_test, y_train, y_test = train_test_split(X, y, test_size=0.1, random_state=0)\n",
    "    pipeline.fit(X=X_train, y=y_train)\n",
    "    y_pred_train = pipeline.decision_function(X_train)\n",
    "    y_pred_test = pipeline.decision_function(X_test)\n",
    "    cv_score_df = grid_scores_to_df(pipeline.grid_scores_)\n",
    "    series['mean_cv_auroc'] = cv_score_df.score.max()\n",
    "    series['training_auroc'] = roc_auc_score(y_train, y_pred_train)\n",
    "    series['testing_auroc'] = roc_auc_score(y_test, y_pred_test)\n",
    "    return series\n",
    "\n",
    "def grid_scores_to_df(grid_scores):\n",
    "    \"\"\"\n",
    "    Convert a sklearn.grid_search.GridSearchCV.grid_scores_ attribute to \n",
    "    a tidy pandas DataFrame where each row is a hyperparameter-fold combinatination.\n",
    "    \"\"\"\n",
    "    rows = list()\n",
    "    for grid_score in grid_scores:\n",
    "        for fold, score in enumerate(grid_score.cv_validation_scores):\n",
    "            row = grid_score.parameters.copy()\n",
    "            row['fold'] = fold\n",
    "            row['score'] = score\n",
    "            rows.append(row)\n",
    "    df = pd.DataFrame(rows)\n",
    "    return df\n",
    "\n",
    "auroc_dfs = {}"
   ]
  },
  {
   "cell_type": "code",
   "execution_count": 46,
   "metadata": {
    "collapsed": false
   },
   "outputs": [
    {
     "name": "stdout",
     "output_type": "stream",
     "text": [
      "CPU times: user 15.4 s, sys: 708 ms, total: 16.1 s\n",
      "Wall time: 8.43 s\n"
     ]
    }
   ],
   "source": [
    "%%time\n",
    "# Train model a: covariates only.\n",
    "warnings.filterwarnings(\"ignore\") # ignore deprecation warning for grid_scores_\n",
    "rows = list()\n",
    "for m in list(mutations):\n",
    "    series = pd.Series()\n",
    "    series['mutation'] = m\n",
    "    series['symbol'] = mutations[m]\n",
    "    rows.append(get_aurocs(X['a'], Y[m], cv_pipeline['a'], series))\n",
    "auroc_dfs['a'] = pd.DataFrame(rows)\n",
    "auroc_dfs['a'].sort_values(['symbol', 'testing_auroc'], ascending=[True, False], inplace=True)"
   ]
  },
  {
   "cell_type": "code",
   "execution_count": 47,
   "metadata": {
    "collapsed": false
   },
   "outputs": [
    {
     "name": "stdout",
     "output_type": "stream",
     "text": [
      "CPU times: user 19min 34s, sys: 15min 50s, total: 35min 25s\n",
      "Wall time: 37min 53s\n"
     ]
    }
   ],
   "source": [
    "%%time\n",
    "# Train model b: covariates with gene expression data.\n",
    "warnings.filterwarnings(\"ignore\") # ignore deprecation warning for grid_scores_\n",
    "rows = list()\n",
    "for m in list(mutations):\n",
    "    series = pd.Series()\n",
    "    series['mutation'] = m\n",
    "    series['symbol'] = mutations[m]\n",
    "    rows.append(get_aurocs(X['b'], Y[m], cv_pipeline['b'], series))\n",
    "auroc_dfs['b'] = pd.DataFrame(rows)\n",
    "auroc_dfs['b'].sort_values(['symbol', 'testing_auroc'], ascending=[True, False], inplace=True)"
   ]
  },
  {
   "cell_type": "code",
   "execution_count": 50,
   "metadata": {
    "collapsed": false
   },
   "outputs": [
    {
     "data": {
      "text/html": [
       "<div>\n",
       "<table border=\"1\" class=\"dataframe\">\n",
       "  <thead>\n",
       "    <tr style=\"text-align: right;\">\n",
       "      <th></th>\n",
       "      <th>mutation</th>\n",
       "      <th>symbol</th>\n",
       "      <th>mean_cv_auroc</th>\n",
       "      <th>training_auroc</th>\n",
       "      <th>testing_auroc</th>\n",
       "    </tr>\n",
       "  </thead>\n",
       "  <tbody>\n",
       "    <tr>\n",
       "      <th>2</th>\n",
       "      <td>238</td>\n",
       "      <td>ALK</td>\n",
       "      <td>0.841804</td>\n",
       "      <td>0.848602</td>\n",
       "      <td>0.762004</td>\n",
       "    </tr>\n",
       "    <tr>\n",
       "      <th>5</th>\n",
       "      <td>672</td>\n",
       "      <td>BRCA1</td>\n",
       "      <td>0.796844</td>\n",
       "      <td>0.847730</td>\n",
       "      <td>0.848682</td>\n",
       "    </tr>\n",
       "    <tr>\n",
       "      <th>7</th>\n",
       "      <td>675</td>\n",
       "      <td>BRCA2</td>\n",
       "      <td>0.775463</td>\n",
       "      <td>0.807858</td>\n",
       "      <td>0.883579</td>\n",
       "    </tr>\n",
       "    <tr>\n",
       "      <th>1</th>\n",
       "      <td>29126</td>\n",
       "      <td>CD274</td>\n",
       "      <td>0.840078</td>\n",
       "      <td>0.946829</td>\n",
       "      <td>0.848485</td>\n",
       "    </tr>\n",
       "    <tr>\n",
       "      <th>6</th>\n",
       "      <td>4221</td>\n",
       "      <td>MEN1</td>\n",
       "      <td>0.820176</td>\n",
       "      <td>0.835378</td>\n",
       "      <td>0.750197</td>\n",
       "    </tr>\n",
       "    <tr>\n",
       "      <th>0</th>\n",
       "      <td>5979</td>\n",
       "      <td>RET</td>\n",
       "      <td>0.814067</td>\n",
       "      <td>0.812435</td>\n",
       "      <td>0.857296</td>\n",
       "    </tr>\n",
       "    <tr>\n",
       "      <th>3</th>\n",
       "      <td>7157</td>\n",
       "      <td>TP53</td>\n",
       "      <td>0.847531</td>\n",
       "      <td>0.846363</td>\n",
       "      <td>0.855607</td>\n",
       "    </tr>\n",
       "    <tr>\n",
       "      <th>4</th>\n",
       "      <td>7428</td>\n",
       "      <td>VHL</td>\n",
       "      <td>0.974001</td>\n",
       "      <td>0.983446</td>\n",
       "      <td>0.993881</td>\n",
       "    </tr>\n",
       "  </tbody>\n",
       "</table>\n",
       "</div>"
      ],
      "text/plain": [
       "  mutation symbol  mean_cv_auroc  training_auroc  testing_auroc\n",
       "2      238    ALK       0.841804        0.848602       0.762004\n",
       "5      672  BRCA1       0.796844        0.847730       0.848682\n",
       "7      675  BRCA2       0.775463        0.807858       0.883579\n",
       "1    29126  CD274       0.840078        0.946829       0.848485\n",
       "6     4221   MEN1       0.820176        0.835378       0.750197\n",
       "0     5979    RET       0.814067        0.812435       0.857296\n",
       "3     7157   TP53       0.847531        0.846363       0.855607\n",
       "4     7428    VHL       0.974001        0.983446       0.993881"
      ]
     },
     "metadata": {},
     "output_type": "display_data"
    },
    {
     "data": {
      "text/html": [
       "<div>\n",
       "<table border=\"1\" class=\"dataframe\">\n",
       "  <thead>\n",
       "    <tr style=\"text-align: right;\">\n",
       "      <th></th>\n",
       "      <th>mutation</th>\n",
       "      <th>symbol</th>\n",
       "      <th>mean_cv_auroc</th>\n",
       "      <th>training_auroc</th>\n",
       "      <th>testing_auroc</th>\n",
       "    </tr>\n",
       "  </thead>\n",
       "  <tbody>\n",
       "    <tr>\n",
       "      <th>2</th>\n",
       "      <td>238</td>\n",
       "      <td>ALK</td>\n",
       "      <td>0.758945</td>\n",
       "      <td>0.924258</td>\n",
       "      <td>0.749452</td>\n",
       "    </tr>\n",
       "    <tr>\n",
       "      <th>5</th>\n",
       "      <td>672</td>\n",
       "      <td>BRCA1</td>\n",
       "      <td>0.730720</td>\n",
       "      <td>0.937022</td>\n",
       "      <td>0.704577</td>\n",
       "    </tr>\n",
       "    <tr>\n",
       "      <th>7</th>\n",
       "      <td>675</td>\n",
       "      <td>BRCA2</td>\n",
       "      <td>0.703267</td>\n",
       "      <td>0.875129</td>\n",
       "      <td>0.790180</td>\n",
       "    </tr>\n",
       "    <tr>\n",
       "      <th>1</th>\n",
       "      <td>29126</td>\n",
       "      <td>CD274</td>\n",
       "      <td>0.814358</td>\n",
       "      <td>0.999369</td>\n",
       "      <td>0.814325</td>\n",
       "    </tr>\n",
       "    <tr>\n",
       "      <th>6</th>\n",
       "      <td>4221</td>\n",
       "      <td>MEN1</td>\n",
       "      <td>0.672373</td>\n",
       "      <td>0.975399</td>\n",
       "      <td>0.672652</td>\n",
       "    </tr>\n",
       "    <tr>\n",
       "      <th>0</th>\n",
       "      <td>5979</td>\n",
       "      <td>RET</td>\n",
       "      <td>0.791483</td>\n",
       "      <td>0.938168</td>\n",
       "      <td>0.780480</td>\n",
       "    </tr>\n",
       "    <tr>\n",
       "      <th>3</th>\n",
       "      <td>7157</td>\n",
       "      <td>TP53</td>\n",
       "      <td>0.925459</td>\n",
       "      <td>0.931855</td>\n",
       "      <td>0.915583</td>\n",
       "    </tr>\n",
       "    <tr>\n",
       "      <th>4</th>\n",
       "      <td>7428</td>\n",
       "      <td>VHL</td>\n",
       "      <td>0.981365</td>\n",
       "      <td>0.996112</td>\n",
       "      <td>0.990297</td>\n",
       "    </tr>\n",
       "  </tbody>\n",
       "</table>\n",
       "</div>"
      ],
      "text/plain": [
       "  mutation symbol  mean_cv_auroc  training_auroc  testing_auroc\n",
       "2      238    ALK       0.758945        0.924258       0.749452\n",
       "5      672  BRCA1       0.730720        0.937022       0.704577\n",
       "7      675  BRCA2       0.703267        0.875129       0.790180\n",
       "1    29126  CD274       0.814358        0.999369       0.814325\n",
       "6     4221   MEN1       0.672373        0.975399       0.672652\n",
       "0     5979    RET       0.791483        0.938168       0.780480\n",
       "3     7157   TP53       0.925459        0.931855       0.915583\n",
       "4     7428    VHL       0.981365        0.996112       0.990297"
      ]
     },
     "metadata": {},
     "output_type": "display_data"
    }
   ],
   "source": [
    "display(auroc_dfs['a'])\n",
    "display(auroc_dfs['b'])"
   ]
  },
  {
   "cell_type": "code",
   "execution_count": 65,
   "metadata": {
    "collapsed": false
   },
   "outputs": [
    {
     "data": {
      "text/html": [
       "<div>\n",
       "<table border=\"1\" class=\"dataframe\">\n",
       "  <thead>\n",
       "    <tr style=\"text-align: right;\">\n",
       "      <th></th>\n",
       "      <th>mean_cv_auroc</th>\n",
       "      <th>training_auroc</th>\n",
       "      <th>testing_auroc</th>\n",
       "      <th>mutation</th>\n",
       "      <th>symbol</th>\n",
       "    </tr>\n",
       "  </thead>\n",
       "  <tbody>\n",
       "    <tr>\n",
       "      <th>2</th>\n",
       "      <td>-0.082859</td>\n",
       "      <td>0.075656</td>\n",
       "      <td>-0.012552</td>\n",
       "      <td>238</td>\n",
       "      <td>ALK</td>\n",
       "    </tr>\n",
       "    <tr>\n",
       "      <th>5</th>\n",
       "      <td>-0.066124</td>\n",
       "      <td>0.089293</td>\n",
       "      <td>-0.144105</td>\n",
       "      <td>672</td>\n",
       "      <td>BRCA1</td>\n",
       "    </tr>\n",
       "    <tr>\n",
       "      <th>7</th>\n",
       "      <td>-0.072196</td>\n",
       "      <td>0.067271</td>\n",
       "      <td>-0.093399</td>\n",
       "      <td>675</td>\n",
       "      <td>BRCA2</td>\n",
       "    </tr>\n",
       "    <tr>\n",
       "      <th>1</th>\n",
       "      <td>-0.025720</td>\n",
       "      <td>0.052540</td>\n",
       "      <td>-0.034160</td>\n",
       "      <td>29126</td>\n",
       "      <td>CD274</td>\n",
       "    </tr>\n",
       "    <tr>\n",
       "      <th>6</th>\n",
       "      <td>-0.147803</td>\n",
       "      <td>0.140021</td>\n",
       "      <td>-0.077545</td>\n",
       "      <td>4221</td>\n",
       "      <td>MEN1</td>\n",
       "    </tr>\n",
       "    <tr>\n",
       "      <th>0</th>\n",
       "      <td>-0.022584</td>\n",
       "      <td>0.125733</td>\n",
       "      <td>-0.076816</td>\n",
       "      <td>5979</td>\n",
       "      <td>RET</td>\n",
       "    </tr>\n",
       "    <tr>\n",
       "      <th>3</th>\n",
       "      <td>0.077928</td>\n",
       "      <td>0.085492</td>\n",
       "      <td>0.059976</td>\n",
       "      <td>7157</td>\n",
       "      <td>TP53</td>\n",
       "    </tr>\n",
       "    <tr>\n",
       "      <th>4</th>\n",
       "      <td>0.007364</td>\n",
       "      <td>0.012666</td>\n",
       "      <td>-0.003584</td>\n",
       "      <td>7428</td>\n",
       "      <td>VHL</td>\n",
       "    </tr>\n",
       "  </tbody>\n",
       "</table>\n",
       "</div>"
      ],
      "text/plain": [
       "   mean_cv_auroc  training_auroc  testing_auroc mutation symbol\n",
       "2      -0.082859        0.075656      -0.012552      238    ALK\n",
       "5      -0.066124        0.089293      -0.144105      672  BRCA1\n",
       "7      -0.072196        0.067271      -0.093399      675  BRCA2\n",
       "1      -0.025720        0.052540      -0.034160    29126  CD274\n",
       "6      -0.147803        0.140021      -0.077545     4221   MEN1\n",
       "0      -0.022584        0.125733      -0.076816     5979    RET\n",
       "3       0.077928        0.085492       0.059976     7157   TP53\n",
       "4       0.007364        0.012666      -0.003584     7428    VHL"
      ]
     },
     "execution_count": 65,
     "metadata": {},
     "output_type": "execute_result"
    }
   ],
   "source": [
    "auroc_dfs['a'].to_csv('auroc_covariates_only.tsv', index=False, sep='\\t', float_format='%.5g')\n",
    "auroc_dfs['b'].to_csv('auroc_covariates_and_expression.tsv', index=False, sep='\\t', float_format='%.5g')\n",
    "auroc_dfs['diff_ba'] = auroc_dfs['b'].loc[:,'mean_cv_auroc':]-auroc_dfs['a'].loc[:,'mean_cv_auroc':]\n",
    "auroc_dfs['diff_ba'][['mutation', 'symbol']] = auroc_dfs['b'].loc[:, ['mutation', 'symbol']]\n",
    "auroc_dfs['diff_ba']"
   ]
  },
  {
   "cell_type": "markdown",
   "metadata": {},
   "source": [
    "# Covariates only vs covariates+expression model"
   ]
  },
  {
   "cell_type": "code",
   "execution_count": 68,
   "metadata": {
    "collapsed": false
   },
   "outputs": [
    {
     "data": {
      "image/png": "[encoded data removed]",
      "text/plain": [
       "<matplotlib.figure.Figure at 0x11c3110b8>"
      ]
     },
     "metadata": {},
     "output_type": "display_data"
    }
   ],
   "source": [
    "plot_df = pd.melt(auroc_dfs['diff_ba'], id_vars='symbol', value_vars=['mean_cv_auroc', 'training_auroc', 'testing_auroc'], var_name='kind', value_name='auroc')\n",
    "grid = sns.factorplot(y='symbol', x='delta auroc', hue='kind', data=plot_df, kind=\"bar\")\n",
    "#xlimits = grid.ax.set_xlim(0.5, 1)"
   ]
  },
  {
   "cell_type": "code",
   "execution_count": null,
   "metadata": {
    "collapsed": true
   },
   "outputs": [],
   "source": []
  }
 ],
 "metadata": {
  "anaconda-cloud": {},
  "kernelspec": {
   "display_name": "Python [default]",
   "language": "python",
   "name": "python3"
  },
  "language_info": {
   "codemirror_mode": {
    "name": "ipython",
    "version": 3
   },
   "file_extension": ".py",
   "mimetype": "text/x-python",
   "name": "python",
   "nbconvert_exporter": "python",
   "pygments_lexer": "ipython3",
   "version": "3.5.2"
  }
 },
 "nbformat": 4,
 "nbformat_minor": 0
}
