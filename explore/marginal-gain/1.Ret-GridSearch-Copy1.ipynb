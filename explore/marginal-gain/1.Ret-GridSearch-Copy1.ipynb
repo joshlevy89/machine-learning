{
 "cells": [
  {
   "cell_type": "markdown",
   "metadata": {},
   "source": [
    "# Compare logistic regression models of several mutations for a) covariates only and b) covariates with gene expression data to determine marginal gain using gene expression data "
   ]
  },
  {
   "cell_type": "code",
   "execution_count": 1,
   "metadata": {
    "collapsed": false
   },
   "outputs": [
    {
     "name": "stderr",
     "output_type": "stream",
     "text": [
      "//anaconda/lib/python3.5/site-packages/sklearn/cross_validation.py:44: DeprecationWarning: This module was deprecated in version 0.18 in favor of the model_selection module into which all the refactored classes and functions are moved. Also note that the interface of the new CV iterators are different from that of this module. This module will be removed in 0.20.\n",
      "  \"This module will be removed in 0.20.\", DeprecationWarning)\n",
      "//anaconda/lib/python3.5/site-packages/sklearn/grid_search.py:43: DeprecationWarning: This module was deprecated in version 0.18 in favor of the model_selection module into which all the refactored classes and functions are moved. This module will be removed in 0.20.\n",
      "  DeprecationWarning)\n"
     ]
    }
   ],
   "source": [
    "import os\n",
    "import urllib\n",
    "import random\n",
    "import warnings\n",
    "\n",
    "import pandas as pd\n",
    "import numpy as np\n",
    "import matplotlib.pyplot as plt\n",
    "import seaborn as sns\n",
    "from sklearn import preprocessing, grid_search\n",
    "from sklearn.linear_model import SGDClassifier\n",
    "from sklearn.model_selection import train_test_split, GridSearchCV\n",
    "from sklearn.metrics import roc_auc_score, roc_curve\n",
    "from sklearn.pipeline import make_pipeline, Pipeline, FeatureUnion\n",
    "from sklearn.preprocessing import StandardScaler, Imputer, FunctionTransformer\n",
    "from sklearn.feature_selection import SelectKBest, VarianceThreshold\n",
    "from statsmodels.robust.scale import mad\n",
    "from IPython.display import display\n",
    "import gc"
   ]
  },
  {
   "cell_type": "code",
   "execution_count": 2,
   "metadata": {
    "collapsed": false
   },
   "outputs": [],
   "source": [
    "%matplotlib inline\n",
    "plt.style.use('seaborn-notebook')"
   ]
  },
  {
   "cell_type": "markdown",
   "metadata": {},
   "source": [
    "## Load Data"
   ]
  },
  {
   "cell_type": "code",
   "execution_count": 3,
   "metadata": {
    "collapsed": false
   },
   "outputs": [
    {
     "name": "stdout",
     "output_type": "stream",
     "text": [
      "CPU times: user 81.5 ms, sys: 17.4 ms, total: 98.9 ms\n",
      "Wall time: 353 ms\n"
     ]
    }
   ],
   "source": [
    "%%time\n",
    "path = os.path.join('..', '..', 'download', 'covariates.tsv')\n",
    "covariates = pd.read_table(path, index_col=0)"
   ]
  },
  {
   "cell_type": "code",
   "execution_count": 12,
   "metadata": {
    "collapsed": false
   },
   "outputs": [
    {
     "name": "stdout",
     "output_type": "stream",
     "text": [
      "CPU times: user 3min 17s, sys: 5.81 s, total: 3min 23s\n",
      "Wall time: 3min 24s\n"
     ]
    }
   ],
   "source": [
    "%%time\n",
    "path = os.path.join('..', '..', 'download', 'expression-matrix.tsv.bz2')\n",
    "expression = pd.read_table(path, index_col=0)"
   ]
  },
  {
   "cell_type": "code",
   "execution_count": 4,
   "metadata": {
    "collapsed": false
   },
   "outputs": [
    {
     "name": "stdout",
     "output_type": "stream",
     "text": [
      "CPU times: user 1min 55s, sys: 5.26 s, total: 2min 1s\n",
      "Wall time: 2min 1s\n"
     ]
    }
   ],
   "source": [
    "%%time\n",
    "path = os.path.join('..','..','download', 'mutation-matrix.tsv.bz2')\n",
    "Y = pd.read_table(path, index_col=0)"
   ]
  },
  {
   "cell_type": "code",
   "execution_count": 21,
   "metadata": {
    "collapsed": false
   },
   "outputs": [
    {
     "name": "stdout",
     "output_type": "stream",
     "text": [
      "(7306, 70)\n",
      "(7306, 20600)\n",
      "(7306, 20530)\n"
     ]
    }
   ],
   "source": [
    "X = {}\n",
    "X['model a'] = covariates\n",
    "X['model b'] = pd.concat([covariates,expression], axis=1)\n",
    "X['model c'] = expression\n",
    "for k in ['model a','model b', 'model c']:\n",
    "    print(X[k].shape)"
   ]
  },
  {
   "cell_type": "code",
   "execution_count": 15,
   "metadata": {
    "collapsed": false
   },
   "outputs": [],
   "source": [
    "mutations = {\n",
    "    '5979': 'RET'    # ret proto-oncogene   \n",
    "}"
   ]
  },
  {
   "cell_type": "markdown",
   "metadata": {},
   "source": [
    "## Define pipeline and Cross validation model fitting"
   ]
  },
  {
   "cell_type": "code",
   "execution_count": 16,
   "metadata": {
    "collapsed": false
   },
   "outputs": [],
   "source": [
    "# Parameter Sweep for Hyperparameters\n",
    "\n",
    "param_grid = {\n",
    "    'classify__loss': ['log'],\n",
    "    'classify__penalty': ['elasticnet'],\n",
    "    'classify__alpha': [.1,1],#[10 ** x for x in range(-4, 2)],\n",
    "    'classify__l1_ratio':  [.2]# [0, 0.05, 0.1, 0.2, 0.5],\n",
    "}\n",
    "\n",
    "\n",
    "pipeline = Pipeline(steps=[\n",
    "    ('impute', Imputer()),\n",
    "    ('variance', VarianceThreshold()),\n",
    "    ('standardize', StandardScaler()),\n",
    "    ('classify', SGDClassifier(random_state=0, class_weight='balanced'))\n",
    "])\n"
   ]
  },
  {
   "cell_type": "code",
   "execution_count": 22,
   "metadata": {
    "collapsed": true
   },
   "outputs": [],
   "source": [
    "cv_pipeline = {}\n",
    "cv_pipeline['model a'] = GridSearchCV(estimator=pipeline, param_grid=param_grid, scoring='roc_auc')\n",
    "cv_pipeline['model b'] = GridSearchCV(estimator=pipeline, param_grid=param_grid, scoring='roc_auc')\n",
    "cv_pipeline['model c'] = GridSearchCV(estimator=pipeline, param_grid=param_grid, scoring='roc_auc')"
   ]
  },
  {
   "cell_type": "markdown",
   "metadata": {},
   "source": [
    "## Functions to get statistics for a given model "
   ]
  },
  {
   "cell_type": "code",
   "execution_count": 23,
   "metadata": {
    "collapsed": false
   },
   "outputs": [],
   "source": [
    "# Get statistics for a given model. \n",
    "\n",
    "def get_aurocs(X, y, pipeline, series, model_type):\n",
    "    \"\"\"\n",
    "    Fit the classifier for the given mutation (y) and output predictions for it\n",
    "    \"\"\"\n",
    "    X_train, X_test, y_train, y_test = train_test_split(X, y, test_size=0.25, random_state=0)\n",
    "    pipeline.fit(X=X_train, y=y_train)\n",
    "    y_pred_train = pipeline.decision_function(X_train)\n",
    "    y_pred_test = pipeline.decision_function(X_test)\n",
    "    cv_score_df = grid_scores_to_df(pipeline.grid_scores_)\n",
    "    coeff_df = get_coeffs(pipeline, X_train, model_type)\n",
    "    n_pos, n_neg = get_sign_coeffs(coeff_df)\n",
    "    cov_ranks = get_ranks_covariates_feat(coeff_df)\n",
    "    series['mean_cv_auroc'] = cv_score_df.score.max()\n",
    "    series['training_auroc'] = roc_auc_score(y_train, y_pred_train)\n",
    "    series['testing_auroc'] = roc_auc_score(y_test, y_pred_test)\n",
    "    series['best_l1_ratio'] = pipeline.best_params_['classify__l1_ratio']\n",
    "    series['best_alpha'] = pipeline.best_params_['classify__alpha']\n",
    "    series['n_pos_coeffs'] = n_pos\n",
    "    series['n_neg_coeffs'] = n_neg\n",
    "    series['n_positive_mutation'] = sum(y==1)\n",
    "    series['n_negative_mutation'] = sum(y==0)\n",
    "    series['cum_rank_cov_feat'] = cov_ranks.sum()\n",
    "    series['median_rank_cov_feat'] = np.median(cov_ranks)\n",
    "    series['mean_rank_cov_feat'] = np.mean(cov_ranks)\n",
    "    return series\n",
    "\n",
    "def grid_scores_to_df(grid_scores):\n",
    "    \"\"\"\n",
    "    Convert a sklearn.grid_search.GridSearchCV.grid_scores_ attribute to \n",
    "    a tidy pandas DataFrame where each row is a hyperparameter-fold combinatination.\n",
    "    \"\"\"\n",
    "    rows = list()\n",
    "    for grid_score in grid_scores:\n",
    "        for fold, score in enumerate(grid_score.cv_validation_scores):\n",
    "            row = grid_score.parameters.copy()\n",
    "            row['fold'] = fold\n",
    "            row['score'] = score\n",
    "            rows.append(row)\n",
    "    df = pd.DataFrame(rows)\n",
    "    return df\n",
    "\n",
    "def get_coeffs(pipeline, X_train, model_type):\n",
    "    \"\"\"\n",
    "    Get a dataframe with the training coefficients \n",
    "    \"\"\"\n",
    "    final_pipeline = pipeline.best_estimator_\n",
    "    final_classifier = final_pipeline.named_steps['classify']\n",
    "    \n",
    "    # Get indices of features\n",
    "    if model_type == 'model a': \n",
    "        #select_indices = list(range(len(covariates.columns.values)))\n",
    "        select_indices = final_pipeline.named_steps['variance'].transform(\n",
    "            np.arange(len(X_train.columns)).reshape(1, -1)\n",
    "        ).tolist()\n",
    "    else:\n",
    "#         select_indices = final_pipeline.named_steps['features'].transform(\n",
    "#             np.arange(len(X_train.columns)).reshape(1, -1)\n",
    "#         ).tolist()\n",
    "        select_indices = final_pipeline.named_steps['variance'].transform(\n",
    "            np.arange(len(X_train.columns)).reshape(1, -1)\n",
    "        ).tolist()\n",
    "        \n",
    "    select_indices = [x for sublist in select_indices for x in sublist]\n",
    "    \n",
    "    # Make df features, weights\n",
    "    coef_df = pd.DataFrame.from_items([\n",
    "        ('feature', X_train.columns[select_indices]),\n",
    "        ('weight', final_classifier.coef_[0]),\n",
    "    ])\n",
    "\n",
    "    return coef_df\n",
    "\n",
    "def get_sign_coeffs(coef_df):\n",
    "    return (coef_df.weight>0).sum(), (coef_df.weight<0).sum()\n",
    "\n",
    "def get_ranks_covariates_feat(coef_df):\n",
    "    coef_df['abs'] = coef_df['weight'].abs()\n",
    "    coef_df = coef_df.sort_values('abs', ascending=False)\n",
    "    \n",
    "    def RepresentsInt(s):\n",
    "        try: \n",
    "            int(s)\n",
    "            return True\n",
    "        except ValueError:\n",
    "            return False\n",
    "\n",
    "    coef_df['is_cov_feat'] = [not RepresentsInt(x) for x in coef_df['feature']]\n",
    "    ranks = np.flatnonzero(coef_df['is_cov_feat'])\n",
    "    return ranks\n",
    "\n",
    "auroc_dfs = {}"
   ]
  },
  {
   "cell_type": "markdown",
   "metadata": {},
   "source": [
    "## Train the models."
   ]
  },
  {
   "cell_type": "code",
   "execution_count": 24,
   "metadata": {
    "collapsed": false,
    "scrolled": false
   },
   "outputs": [
    {
     "data": {
      "text/html": [
       "<div>\n",
       "<table border=\"1\" class=\"dataframe\">\n",
       "  <thead>\n",
       "    <tr style=\"text-align: right;\">\n",
       "      <th></th>\n",
       "      <th>mutation</th>\n",
       "      <th>symbol</th>\n",
       "      <th>mean_cv_auroc</th>\n",
       "      <th>training_auroc</th>\n",
       "      <th>testing_auroc</th>\n",
       "      <th>best_l1_ratio</th>\n",
       "      <th>best_alpha</th>\n",
       "      <th>n_pos_coeffs</th>\n",
       "      <th>n_neg_coeffs</th>\n",
       "      <th>n_positive_mutation</th>\n",
       "      <th>n_negative_mutation</th>\n",
       "      <th>cum_rank_cov_feat</th>\n",
       "      <th>median_rank_cov_feat</th>\n",
       "      <th>mean_rank_cov_feat</th>\n",
       "    </tr>\n",
       "  </thead>\n",
       "  <tbody>\n",
       "    <tr>\n",
       "      <th>0</th>\n",
       "      <td>5979</td>\n",
       "      <td>RET</td>\n",
       "      <td>0.891249</td>\n",
       "      <td>0.806939</td>\n",
       "      <td>0.859125</td>\n",
       "      <td>0.2</td>\n",
       "      <td>0.1</td>\n",
       "      <td>4</td>\n",
       "      <td>1</td>\n",
       "      <td>117</td>\n",
       "      <td>7189</td>\n",
       "      <td>2415</td>\n",
       "      <td>34.5</td>\n",
       "      <td>34.5</td>\n",
       "    </tr>\n",
       "  </tbody>\n",
       "</table>\n",
       "</div>"
      ],
      "text/plain": [
       "  mutation symbol  mean_cv_auroc  training_auroc  testing_auroc  \\\n",
       "0     5979    RET       0.891249        0.806939       0.859125   \n",
       "\n",
       "   best_l1_ratio  best_alpha  n_pos_coeffs  n_neg_coeffs  n_positive_mutation  \\\n",
       "0            0.2         0.1             4             1                  117   \n",
       "\n",
       "   n_negative_mutation  cum_rank_cov_feat  median_rank_cov_feat  \\\n",
       "0                 7189               2415                  34.5   \n",
       "\n",
       "   mean_rank_cov_feat  \n",
       "0                34.5  "
      ]
     },
     "metadata": {},
     "output_type": "display_data"
    },
    {
     "name": "stdout",
     "output_type": "stream",
     "text": [
      "CPU times: user 938 ms, sys: 34.7 ms, total: 973 ms\n",
      "Wall time: 531 ms\n"
     ]
    }
   ],
   "source": [
    "%%time\n",
    "# Train model a: covariates only.\n",
    "warnings.filterwarnings(\"ignore\") # ignore deprecation warning for grid_scores_\n",
    "rows = list()\n",
    "for m in list(mutations):\n",
    "    series = pd.Series()\n",
    "    series['mutation'] = m\n",
    "    series['symbol'] = mutations[m]\n",
    "    rows.append(get_aurocs(X['model a'], Y[m], cv_pipeline['model a'], series, 'model a'))\n",
    "auroc_dfs['model a'] = pd.DataFrame(rows)\n",
    "auroc_dfs['model a'].sort_values(['symbol', 'testing_auroc'], ascending=[True, False], inplace=True)\n",
    "display(auroc_dfs['model a'])"
   ]
  },
  {
   "cell_type": "code",
   "execution_count": 26,
   "metadata": {
    "collapsed": false
   },
   "outputs": [
    {
     "data": {
      "text/html": [
       "<div>\n",
       "<table border=\"1\" class=\"dataframe\">\n",
       "  <thead>\n",
       "    <tr style=\"text-align: right;\">\n",
       "      <th></th>\n",
       "      <th>mutation</th>\n",
       "      <th>symbol</th>\n",
       "      <th>mean_cv_auroc</th>\n",
       "      <th>training_auroc</th>\n",
       "      <th>testing_auroc</th>\n",
       "      <th>best_l1_ratio</th>\n",
       "      <th>best_alpha</th>\n",
       "      <th>n_pos_coeffs</th>\n",
       "      <th>n_neg_coeffs</th>\n",
       "      <th>n_positive_mutation</th>\n",
       "      <th>n_negative_mutation</th>\n",
       "      <th>cum_rank_cov_feat</th>\n",
       "      <th>median_rank_cov_feat</th>\n",
       "      <th>mean_rank_cov_feat</th>\n",
       "    </tr>\n",
       "  </thead>\n",
       "  <tbody>\n",
       "    <tr>\n",
       "      <th>0</th>\n",
       "      <td>5979</td>\n",
       "      <td>RET</td>\n",
       "      <td>0.876012</td>\n",
       "      <td>0.5</td>\n",
       "      <td>0.5</td>\n",
       "      <td>0.2</td>\n",
       "      <td>1</td>\n",
       "      <td>0</td>\n",
       "      <td>0</td>\n",
       "      <td>117</td>\n",
       "      <td>7189</td>\n",
       "      <td>933406</td>\n",
       "      <td>13578.5</td>\n",
       "      <td>13334.371429</td>\n",
       "    </tr>\n",
       "  </tbody>\n",
       "</table>\n",
       "</div>"
      ],
      "text/plain": [
       "  mutation symbol  mean_cv_auroc  training_auroc  testing_auroc  \\\n",
       "0     5979    RET       0.876012             0.5            0.5   \n",
       "\n",
       "   best_l1_ratio  best_alpha  n_pos_coeffs  n_neg_coeffs  n_positive_mutation  \\\n",
       "0            0.2           1             0             0                  117   \n",
       "\n",
       "   n_negative_mutation  cum_rank_cov_feat  median_rank_cov_feat  \\\n",
       "0                 7189             933406               13578.5   \n",
       "\n",
       "   mean_rank_cov_feat  \n",
       "0        13334.371429  "
      ]
     },
     "metadata": {},
     "output_type": "display_data"
    },
    {
     "name": "stdout",
     "output_type": "stream",
     "text": [
      "CPU times: user 1min 56s, sys: 1min 13s, total: 3min 10s\n",
      "Wall time: 3min 15s\n"
     ]
    }
   ],
   "source": [
    "%%time\n",
    "# Train model b: covariates with gene expression data.\n",
    "warnings.filterwarnings(\"ignore\") # ignore deprecation warning for grid_scores_\n",
    "rows = list()\n",
    "for m in list(mutations):\n",
    "    series = pd.Series()\n",
    "    series['mutation'] = m\n",
    "    series['symbol'] = mutations[m]\n",
    "    rows.append(get_aurocs(X['model b'], Y[m], cv_pipeline['model b'], series, 'model b'))\n",
    "auroc_dfs['model b'] = pd.DataFrame(rows)\n",
    "auroc_dfs['model b'].sort_values(['symbol', 'testing_auroc'], ascending=[True, False], inplace=True)\n",
    "display(auroc_dfs['model b'])"
   ]
  },
  {
   "cell_type": "code",
   "execution_count": 25,
   "metadata": {
    "collapsed": false
   },
   "outputs": [
    {
     "data": {
      "text/html": [
       "<div>\n",
       "<table border=\"1\" class=\"dataframe\">\n",
       "  <thead>\n",
       "    <tr style=\"text-align: right;\">\n",
       "      <th></th>\n",
       "      <th>mutation</th>\n",
       "      <th>symbol</th>\n",
       "      <th>mean_cv_auroc</th>\n",
       "      <th>training_auroc</th>\n",
       "      <th>testing_auroc</th>\n",
       "      <th>best_l1_ratio</th>\n",
       "      <th>best_alpha</th>\n",
       "      <th>n_pos_coeffs</th>\n",
       "      <th>n_neg_coeffs</th>\n",
       "      <th>n_positive_mutation</th>\n",
       "      <th>n_negative_mutation</th>\n",
       "      <th>cum_rank_cov_feat</th>\n",
       "      <th>median_rank_cov_feat</th>\n",
       "      <th>mean_rank_cov_feat</th>\n",
       "    </tr>\n",
       "  </thead>\n",
       "  <tbody>\n",
       "    <tr>\n",
       "      <th>0</th>\n",
       "      <td>5979</td>\n",
       "      <td>RET</td>\n",
       "      <td>0.727765</td>\n",
       "      <td>0.709939</td>\n",
       "      <td>0.610216</td>\n",
       "      <td>0.2</td>\n",
       "      <td>0.1</td>\n",
       "      <td>46</td>\n",
       "      <td>17</td>\n",
       "      <td>117</td>\n",
       "      <td>7189</td>\n",
       "      <td>0</td>\n",
       "      <td>NaN</td>\n",
       "      <td>NaN</td>\n",
       "    </tr>\n",
       "  </tbody>\n",
       "</table>\n",
       "</div>"
      ],
      "text/plain": [
       "  mutation symbol  mean_cv_auroc  training_auroc  testing_auroc  \\\n",
       "0     5979    RET       0.727765        0.709939       0.610216   \n",
       "\n",
       "   best_l1_ratio  best_alpha  n_pos_coeffs  n_neg_coeffs  n_positive_mutation  \\\n",
       "0            0.2         0.1            46            17                  117   \n",
       "\n",
       "   n_negative_mutation  cum_rank_cov_feat  median_rank_cov_feat  \\\n",
       "0                 7189                  0                   NaN   \n",
       "\n",
       "   mean_rank_cov_feat  \n",
       "0                 NaN  "
      ]
     },
     "metadata": {},
     "output_type": "display_data"
    },
    {
     "name": "stdout",
     "output_type": "stream",
     "text": [
      "CPU times: user 1min 51s, sys: 51.1 s, total: 2min 42s\n",
      "Wall time: 2min 41s\n"
     ]
    }
   ],
   "source": [
    "%%time\n",
    "# Train model c: gene expression data.\n",
    "warnings.filterwarnings(\"ignore\") # ignore deprecation warning for grid_scores_\n",
    "rows = list()\n",
    "for m in list(mutations):\n",
    "    series = pd.Series()\n",
    "    series['mutation'] = m\n",
    "    series['symbol'] = mutations[m]\n",
    "    rows.append(get_aurocs(X['model c'], Y[m], cv_pipeline['model c'], series, 'model c'))\n",
    "auroc_dfs['model c'] = pd.DataFrame(rows)\n",
    "auroc_dfs['model c'].sort_values(['symbol', 'testing_auroc'], ascending=[True, False], inplace=True)\n",
    "display(auroc_dfs['model c'])"
   ]
  },
  {
   "cell_type": "code",
   "execution_count": 34,
   "metadata": {
    "collapsed": false,
    "scrolled": true
   },
   "outputs": [
    {
     "data": {
      "text/html": [
       "<div>\n",
       "<table border=\"1\" class=\"dataframe\">\n",
       "  <thead>\n",
       "    <tr style=\"text-align: right;\">\n",
       "      <th></th>\n",
       "      <th>mutation</th>\n",
       "      <th>symbol</th>\n",
       "      <th>mean_cv_auroc</th>\n",
       "      <th>training_auroc</th>\n",
       "      <th>testing_auroc</th>\n",
       "      <th>best_l1_ratio</th>\n",
       "      <th>best_alpha</th>\n",
       "      <th>n_pos_coeffs</th>\n",
       "      <th>n_neg_coeffs</th>\n",
       "      <th>n_positive_mutation</th>\n",
       "      <th>n_negative_mutation</th>\n",
       "      <th>cum_rank_cov_feat</th>\n",
       "      <th>median_rank_cov_feat</th>\n",
       "      <th>mean_rank_cov_feat</th>\n",
       "      <th>model</th>\n",
       "    </tr>\n",
       "  </thead>\n",
       "  <tbody>\n",
       "    <tr>\n",
       "      <th>0</th>\n",
       "      <td>5979</td>\n",
       "      <td>RET</td>\n",
       "      <td>0.891249</td>\n",
       "      <td>0.806939</td>\n",
       "      <td>0.859125</td>\n",
       "      <td>0.2</td>\n",
       "      <td>0.1</td>\n",
       "      <td>4</td>\n",
       "      <td>1</td>\n",
       "      <td>117</td>\n",
       "      <td>7189</td>\n",
       "      <td>2415</td>\n",
       "      <td>34.5</td>\n",
       "      <td>34.500000</td>\n",
       "      <td>covariates_only</td>\n",
       "    </tr>\n",
       "    <tr>\n",
       "      <th>0</th>\n",
       "      <td>5979</td>\n",
       "      <td>RET</td>\n",
       "      <td>0.876012</td>\n",
       "      <td>0.500000</td>\n",
       "      <td>0.500000</td>\n",
       "      <td>0.2</td>\n",
       "      <td>1.0</td>\n",
       "      <td>0</td>\n",
       "      <td>0</td>\n",
       "      <td>117</td>\n",
       "      <td>7189</td>\n",
       "      <td>933406</td>\n",
       "      <td>13578.5</td>\n",
       "      <td>13334.371429</td>\n",
       "      <td>combined</td>\n",
       "    </tr>\n",
       "  </tbody>\n",
       "</table>\n",
       "</div>"
      ],
      "text/plain": [
       "  mutation symbol  mean_cv_auroc  training_auroc  testing_auroc  \\\n",
       "0     5979    RET       0.891249        0.806939       0.859125   \n",
       "0     5979    RET       0.876012        0.500000       0.500000   \n",
       "\n",
       "   best_l1_ratio  best_alpha  n_pos_coeffs  n_neg_coeffs  n_positive_mutation  \\\n",
       "0            0.2         0.1             4             1                  117   \n",
       "0            0.2         1.0             0             0                  117   \n",
       "\n",
       "   n_negative_mutation  cum_rank_cov_feat  median_rank_cov_feat  \\\n",
       "0                 7189               2415                  34.5   \n",
       "0                 7189             933406               13578.5   \n",
       "\n",
       "   mean_rank_cov_feat            model  \n",
       "0           34.500000  covariates_only  \n",
       "0        13334.371429         combined  "
      ]
     },
     "metadata": {},
     "output_type": "display_data"
    }
   ],
   "source": [
    "auroc_dfs['model a']['model'] = 'covariates_only'\n",
    "auroc_dfs['model b']['model'] = 'combined'\n",
    "auroc_df = pd.concat([auroc_dfs['model a'],auroc_dfs['model b']])\n",
    "auroc_df.to_csv(\"./auroc_df.tsv\", sep=\"\\t\", float_format=\"%.3g\", index=False)\n",
    "display(auroc_df)"
   ]
  },
  {
   "cell_type": "code",
   "execution_count": 35,
   "metadata": {
    "collapsed": false
   },
   "outputs": [
    {
     "data": {
      "text/html": [
       "<div>\n",
       "<table border=\"1\" class=\"dataframe\">\n",
       "  <thead>\n",
       "    <tr style=\"text-align: right;\">\n",
       "      <th></th>\n",
       "      <th>mean_cv_auroc</th>\n",
       "      <th>training_auroc</th>\n",
       "      <th>testing_auroc</th>\n",
       "      <th>best_l1_ratio</th>\n",
       "      <th>best_alpha</th>\n",
       "      <th>n_pos_coeffs</th>\n",
       "      <th>n_neg_coeffs</th>\n",
       "      <th>n_positive_mutation</th>\n",
       "      <th>n_negative_mutation</th>\n",
       "      <th>cum_rank_cov_feat</th>\n",
       "      <th>median_rank_cov_feat</th>\n",
       "      <th>mean_rank_cov_feat</th>\n",
       "      <th>mutation</th>\n",
       "      <th>symbol</th>\n",
       "    </tr>\n",
       "  </thead>\n",
       "  <tbody>\n",
       "    <tr>\n",
       "      <th>0</th>\n",
       "      <td>-0.015237</td>\n",
       "      <td>-0.306939</td>\n",
       "      <td>-0.359125</td>\n",
       "      <td>0.0</td>\n",
       "      <td>0.9</td>\n",
       "      <td>-4</td>\n",
       "      <td>-1</td>\n",
       "      <td>0</td>\n",
       "      <td>0</td>\n",
       "      <td>930991</td>\n",
       "      <td>13544.0</td>\n",
       "      <td>13299.871429</td>\n",
       "      <td>5979</td>\n",
       "      <td>RET</td>\n",
       "    </tr>\n",
       "  </tbody>\n",
       "</table>\n",
       "</div>"
      ],
      "text/plain": [
       "   mean_cv_auroc  training_auroc  testing_auroc  best_l1_ratio  best_alpha  \\\n",
       "0      -0.015237       -0.306939      -0.359125            0.0         0.9   \n",
       "\n",
       "   n_pos_coeffs  n_neg_coeffs  n_positive_mutation  n_negative_mutation  \\\n",
       "0            -4            -1                    0                    0   \n",
       "\n",
       "   cum_rank_cov_feat  median_rank_cov_feat  mean_rank_cov_feat mutation symbol  \n",
       "0             930991               13544.0        13299.871429     5979    RET  "
      ]
     },
     "execution_count": 35,
     "metadata": {},
     "output_type": "execute_result"
    }
   ],
   "source": [
    "auroc_dfs['model a'] = auroc_dfs['model a'].drop('model',axis=1)\n",
    "auroc_dfs['model b'] = auroc_dfs['model b'].drop('model',axis=1)\n",
    "auroc_dfs['diff_models_ab'] = auroc_dfs['model b'].loc[:,'mean_cv_auroc':]-auroc_dfs['model a'].loc[:,'mean_cv_auroc':]\n",
    "auroc_dfs['diff_models_ab'][['mutation', 'symbol']] = auroc_dfs['model b'].loc[:, ['mutation', 'symbol']]\n",
    "auroc_dfs['diff_models_ab']"
   ]
  },
  {
   "cell_type": "markdown",
   "metadata": {},
   "source": [
    "# Covariates only vs covariates+expression model"
   ]
  },
  {
   "cell_type": "code",
   "execution_count": 36,
   "metadata": {
    "collapsed": false
   },
   "outputs": [
    {
     "data": {
      "image/png": "[encoded data removed]",
      "text/plain": [
       "<matplotlib.figure.Figure at 0x121b9e128>"
      ]
     },
     "metadata": {},
     "output_type": "display_data"
    }
   ],
   "source": [
    "plot_df = pd.melt(auroc_dfs['diff_models_ab'], id_vars='symbol', value_vars=['mean_cv_auroc', 'training_auroc', 'testing_auroc'], var_name='kind', value_name='delta auroc')\n",
    "grid = sns.factorplot(y='symbol', x='delta auroc', hue='kind', data=plot_df, kind=\"bar\")"
   ]
  },
  {
   "cell_type": "code",
   "execution_count": null,
   "metadata": {
    "collapsed": true
   },
   "outputs": [],
   "source": []
  }
 ],
 "metadata": {
  "anaconda-cloud": {},
  "kernelspec": {
   "display_name": "Python [default]",
   "language": "python",
   "name": "python3"
  },
  "language_info": {
   "codemirror_mode": {
    "name": "ipython",
    "version": 3
   },
   "file_extension": ".py",
   "mimetype": "text/x-python",
   "name": "python",
   "nbconvert_exporter": "python",
   "pygments_lexer": "ipython3",
   "version": "3.5.2"
  }
 },
 "nbformat": 4,
 "nbformat_minor": 0
}
