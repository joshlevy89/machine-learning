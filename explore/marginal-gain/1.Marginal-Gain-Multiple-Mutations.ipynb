{
 "cells": [
  {
   "cell_type": "markdown",
   "metadata": {},
   "source": [
    "# Compare logistic regression models of several mutations for a) covariates only and b) covariates with gene expression data to determine marginal gain using gene expression data "
   ]
  },
  {
   "cell_type": "code",
   "execution_count": 1,
   "metadata": {
    "collapsed": false
   },
   "outputs": [],
   "source": [
    "import os\n",
    "import urllib\n",
    "import random\n",
    "import warnings\n",
    "\n",
    "import pandas as pd\n",
    "import numpy as np\n",
    "import matplotlib.pyplot as plt\n",
    "import seaborn as sns\n",
    "from sklearn import preprocessing\n",
    "from sklearn.linear_model import SGDClassifier\n",
    "from sklearn.model_selection import train_test_split, GridSearchCV\n",
    "from sklearn.metrics import roc_auc_score, roc_curve\n",
    "from sklearn.pipeline import Pipeline, FeatureUnion\n",
    "from sklearn.preprocessing import StandardScaler, Imputer, FunctionTransformer\n",
    "from sklearn.feature_selection import SelectKBest\n",
    "from statsmodels.robust.scale import mad\n",
    "from IPython.display import display\n",
    "import gc"
   ]
  },
  {
   "cell_type": "code",
   "execution_count": 2,
   "metadata": {
    "collapsed": false
   },
   "outputs": [],
   "source": [
    "%matplotlib inline\n",
    "plt.style.use('seaborn-notebook')"
   ]
  },
  {
   "cell_type": "markdown",
   "metadata": {},
   "source": [
    "## Load Data"
   ]
  },
  {
   "cell_type": "code",
   "execution_count": 3,
   "metadata": {
    "collapsed": false
   },
   "outputs": [
    {
     "name": "stdout",
     "output_type": "stream",
     "text": [
      "CPU times: user 90.5 ms, sys: 13.3 ms, total: 104 ms\n",
      "Wall time: 134 ms\n"
     ]
    }
   ],
   "source": [
    "%%time\n",
    "path = os.path.join('..', '..', 'download', 'covariates.tsv')\n",
    "covariates = pd.read_table(path, index_col=0)"
   ]
  },
  {
   "cell_type": "code",
   "execution_count": 4,
   "metadata": {
    "collapsed": false
   },
   "outputs": [
    {
     "name": "stdout",
     "output_type": "stream",
     "text": [
      "CPU times: user 3min 18s, sys: 5.01 s, total: 3min 23s\n",
      "Wall time: 5min 12s\n"
     ]
    }
   ],
   "source": [
    "%%time\n",
    "path = os.path.join('..', '..', 'download', 'expression-matrix.tsv.bz2')\n",
    "expression = pd.read_table(path, index_col=0)"
   ]
  },
  {
   "cell_type": "code",
   "execution_count": 5,
   "metadata": {
    "collapsed": false
   },
   "outputs": [
    {
     "name": "stdout",
     "output_type": "stream",
     "text": [
      "CPU times: user 1min 51s, sys: 3.71 s, total: 1min 55s\n",
      "Wall time: 1min 55s\n"
     ]
    }
   ],
   "source": [
    "%%time\n",
    "path = os.path.join('..','..','download', 'mutation-matrix.tsv.bz2')\n",
    "Y = pd.read_table(path, index_col=0)"
   ]
  },
  {
   "cell_type": "code",
   "execution_count": 6,
   "metadata": {
    "collapsed": false
   },
   "outputs": [
    {
     "name": "stdout",
     "output_type": "stream",
     "text": [
      "(7306, 70)\n",
      "(7306, 20600)\n"
     ]
    }
   ],
   "source": [
    "X = {}\n",
    "X['model a'] = covariates\n",
    "X['model b'] = pd.concat([covariates,expression], axis=1)\n",
    "for k in ['model a','model b']:\n",
    "    print(X[k].shape)"
   ]
  },
  {
   "cell_type": "code",
   "execution_count": 80,
   "metadata": {
    "collapsed": false
   },
   "outputs": [],
   "source": [
    "mutations = {\n",
    "    '7157': 'TP53',   # tumor protein p53\n",
    "    '7428': 'VHL',    # von Hippel-Lindau tumor suppressor\n",
    "    '29126': 'CD274', # CD274 molecule\n",
    "    '672': 'BRCA1',   # BRCA1, DNA repair associated\n",
    "    '675': 'BRCA2',   # BRCA2, DNA repair associated\n",
    "    '238': 'ALK',     # anaplastic lymphoma receptor tyrosine kinase\n",
    "    '4221': 'MEN1',   # menin 1\n",
    "    '5979': 'RET',    # ret proto-oncogene\n",
    "}"
   ]
  },
  {
   "cell_type": "markdown",
   "metadata": {},
   "source": [
    "## Median absolute deviation feature selection"
   ]
  },
  {
   "cell_type": "code",
   "execution_count": 81,
   "metadata": {
    "collapsed": false
   },
   "outputs": [],
   "source": [
    "def fs_mad(x, y):\n",
    "    \"\"\"    \n",
    "    Get the median absolute deviation (MAD) for each column of x\n",
    "    \"\"\"\n",
    "    scores = mad(x) \n",
    "    return scores, np.array([np.NaN]*len(scores))"
   ]
  },
  {
   "cell_type": "markdown",
   "metadata": {},
   "source": [
    "## Define pipeline and Cross validation model fitting"
   ]
  },
  {
   "cell_type": "code",
   "execution_count": 82,
   "metadata": {
    "collapsed": false
   },
   "outputs": [],
   "source": [
    "# Parameter Sweep for Hyperparameters\n",
    "\n",
    "param_grid = {\n",
    "    'classify__loss': ['log'],\n",
    "    'classify__penalty': ['elasticnet'],\n",
    "    'classify__alpha': [1],#10.0 ** np.linspace(-3, 1, 10),\n",
    "    'classify__l1_ratio': [0.15],\n",
    "}\n",
    "\n",
    "expression_feats = Pipeline(steps=[\n",
    "    ('dim_red', FunctionTransformer(lambda X: X[:,covariates.shape[1]:])),\n",
    "    ('select', SelectKBest(fs_mad,2000)),\n",
    "])\n",
    "\n",
    "covariate_feats = Pipeline(steps=[\n",
    "    ('dim_red', FunctionTransformer(lambda X: X[:,:covariates.shape[1]])),\n",
    "])\n",
    "\n",
    "combo_pipeline = Pipeline([\n",
    "    ('imputer', Imputer()),\n",
    "    ('standardize', StandardScaler()),\n",
    "    ('features', FeatureUnion([\n",
    "        ('covariates_feats', covariate_feats),           \n",
    "        ('expression_feats', expression_feats)\n",
    "    ])),\n",
    "    ('classify', SGDClassifier(random_state=0, class_weight='balanced'))\n",
    "])\n",
    "\n",
    "covariates_pipeline = Pipeline(steps=[\n",
    "    ('imputer', Imputer()),\n",
    "    ('standardize', StandardScaler()),\n",
    "    ('select', SelectKBest(fs_mad,'all')),\n",
    "    ('classify', SGDClassifier(random_state=0, class_weight='balanced'))\n",
    "])\n",
    "\n",
    "cv_pipeline = {}\n",
    "cv_pipeline['model a'] = GridSearchCV(estimator=covariates_pipeline, param_grid=param_grid, scoring='roc_auc')\n",
    "cv_pipeline['model b'] = GridSearchCV(estimator=combo_pipeline, param_grid=param_grid, scoring='roc_auc')"
   ]
  },
  {
   "cell_type": "markdown",
   "metadata": {},
   "source": [
    "## Functions to get statistics for a given model "
   ]
  },
  {
   "cell_type": "code",
   "execution_count": 83,
   "metadata": {
    "collapsed": false
   },
   "outputs": [],
   "source": [
    "# Get statistics for a given model. \n",
    "\n",
    "def get_aurocs(X, y, pipeline, series, model_type):\n",
    "    \"\"\"\n",
    "    Fit the classifier for the given mutation (y) and output predictions for it\n",
    "    \"\"\"\n",
    "    X_train, X_test, y_train, y_test = train_test_split(X, y, test_size=0.1, random_state=0)\n",
    "    y_train[0] = 1\n",
    "    y_test[0] = 1\n",
    "    pipeline.fit(X=X_train, y=y_train)\n",
    "    y_pred_train = pipeline.decision_function(X_train)\n",
    "    y_pred_test = pipeline.decision_function(X_test)\n",
    "    cv_score_df = grid_scores_to_df(pipeline.grid_scores_)\n",
    "    coeff_df = get_coeffs(pipeline, X_train, model_type)\n",
    "    n_pos, n_neg = get_sign_coeffs(coeff_df)\n",
    "    cov_ranks = get_ranks_covariates_feat(coeff_df)\n",
    "    series['mean_cv_auroc'] = cv_score_df.score.max()\n",
    "    series['training_auroc'] = roc_auc_score(y_train, y_pred_train)\n",
    "    series['testing_auroc'] = roc_auc_score(y_test, y_pred_test)\n",
    "    series['n_pos_coeffs'] = n_pos\n",
    "    series['n_neg_coeffs'] = n_neg\n",
    "    series['cum_rank_cov_feat'] = cov_ranks.sum()\n",
    "    series['median_rank_cov_feat'] = np.median(cov_ranks)\n",
    "    series['mean_rank_cov_feat'] = np.mean(cov_ranks)\n",
    "    return series\n",
    "\n",
    "def grid_scores_to_df(grid_scores):\n",
    "    \"\"\"\n",
    "    Convert a sklearn.grid_search.GridSearchCV.grid_scores_ attribute to \n",
    "    a tidy pandas DataFrame where each row is a hyperparameter-fold combinatination.\n",
    "    \"\"\"\n",
    "    rows = list()\n",
    "    for grid_score in grid_scores:\n",
    "        for fold, score in enumerate(grid_score.cv_validation_scores):\n",
    "            row = grid_score.parameters.copy()\n",
    "            row['fold'] = fold\n",
    "            row['score'] = score\n",
    "            rows.append(row)\n",
    "    df = pd.DataFrame(rows)\n",
    "    return df\n",
    "\n",
    "def get_coeffs(pipeline, X_train, model_type):\n",
    "    \"\"\"\n",
    "    Get a dataframe with the training coefficients \n",
    "    \"\"\"\n",
    "    final_pipeline = pipeline.best_estimator_\n",
    "    final_classifier = final_pipeline.named_steps['classify']\n",
    "    \n",
    "    # Get indices of features\n",
    "    if model_type == 'model a': select_step = 'select'\n",
    "    else: select_step = 'features'\n",
    "    select_indices = final_pipeline.named_steps[select_step].transform(\n",
    "        np.arange(len(X_train.columns)).reshape(1, -1)\n",
    "    ).tolist()\n",
    "    if model_type =='model b': select_indices = [x for sublist in select_indices for x in sublist]\n",
    "    \n",
    "    # Make df features, weights\n",
    "    coef_df = pd.DataFrame.from_items([\n",
    "        ('feature', X_train.columns[select_indices]),\n",
    "        ('weight', final_classifier.coef_[0]),\n",
    "    ])\n",
    "\n",
    "    return coef_df\n",
    "\n",
    "def get_sign_coeffs(coef_df):\n",
    "    return (coef_df.weight>0).sum(), (coef_df.weight<0).sum()\n",
    "\n",
    "def get_ranks_covariates_feat(coef_df):\n",
    "    coef_df['abs'] = coef_df['weight'].abs()\n",
    "    coef_df = coef_df.sort_values('abs', ascending=False)\n",
    "    \n",
    "    def RepresentsInt(s):\n",
    "        try: \n",
    "            int(s)\n",
    "            return True\n",
    "        except ValueError:\n",
    "            return False\n",
    "\n",
    "    coef_df['is_cov_feat'] = [not RepresentsInt(x) for x in coef_df['feature']]\n",
    "    ranks = np.flatnonzero(coef_df['is_cov_feat'])\n",
    "    return ranks\n",
    "\n",
    "auroc_dfs = {}"
   ]
  },
  {
   "cell_type": "markdown",
   "metadata": {},
   "source": [
    "## Train the models."
   ]
  },
  {
   "cell_type": "code",
   "execution_count": 84,
   "metadata": {
    "collapsed": false
   },
   "outputs": [
    {
     "name": "stdout",
     "output_type": "stream",
     "text": [
      "CPU times: user 1.44 s, sys: 23.9 ms, total: 1.46 s\n",
      "Wall time: 764 ms\n"
     ]
    }
   ],
   "source": [
    "%%time\n",
    "# Train model a: covariates only.\n",
    "warnings.filterwarnings(\"ignore\") # ignore deprecation warning for grid_scores_\n",
    "rows = list()\n",
    "for m in list(mutations):\n",
    "    series = pd.Series()\n",
    "    series['mutation'] = m\n",
    "    series['symbol'] = mutations[m]\n",
    "    rows.append(get_aurocs(X['model a'].iloc[0:1000], Y[m][0:1000], cv_pipeline['model a'], series, 'model a'))\n",
    "auroc_dfs['model a'] = pd.DataFrame(rows)\n",
    "auroc_dfs['model a'].sort_values(['symbol', 'testing_auroc'], ascending=[True, False], inplace=True)"
   ]
  },
  {
   "cell_type": "code",
   "execution_count": 85,
   "metadata": {
    "collapsed": false
   },
   "outputs": [
    {
     "name": "stdout",
     "output_type": "stream",
     "text": [
      "CPU times: user 1min 20s, sys: 23.3 s, total: 1min 43s\n",
      "Wall time: 1min 27s\n"
     ]
    }
   ],
   "source": [
    "%%time\n",
    "# Train model b: covariates with gene expression data.\n",
    "warnings.filterwarnings(\"ignore\") # ignore deprecation warning for grid_scores_\n",
    "rows = list()\n",
    "for m in list(mutations):\n",
    "    series = pd.Series()\n",
    "    series['mutation'] = m\n",
    "    series['symbol'] = mutations[m]\n",
    "    rows.append(get_aurocs(X['model b'].iloc[0:1000,:], Y[m][0:1000], cv_pipeline['model b'], series, 'model b'))\n",
    "auroc_dfs['model b'] = pd.DataFrame(rows)\n",
    "auroc_dfs['model b'].sort_values(['symbol', 'testing_auroc'], ascending=[True, False], inplace=True)"
   ]
  },
  {
   "cell_type": "code",
   "execution_count": 86,
   "metadata": {
    "collapsed": false
   },
   "outputs": [
    {
     "data": {
      "text/html": [
       "<div>\n",
       "<table border=\"1\" class=\"dataframe\">\n",
       "  <thead>\n",
       "    <tr style=\"text-align: right;\">\n",
       "      <th></th>\n",
       "      <th>mutation</th>\n",
       "      <th>symbol</th>\n",
       "      <th>mean_cv_auroc</th>\n",
       "      <th>training_auroc</th>\n",
       "      <th>testing_auroc</th>\n",
       "      <th>n_pos_coeffs</th>\n",
       "      <th>n_neg_coeffs</th>\n",
       "      <th>cum_rank_cov_feat</th>\n",
       "      <th>median_rank_cov_feat</th>\n",
       "      <th>mean_rank_cov_feat</th>\n",
       "    </tr>\n",
       "  </thead>\n",
       "  <tbody>\n",
       "    <tr>\n",
       "      <th>3</th>\n",
       "      <td>238</td>\n",
       "      <td>ALK</td>\n",
       "      <td>0.831034</td>\n",
       "      <td>0.816214</td>\n",
       "      <td>0.713058</td>\n",
       "      <td>1</td>\n",
       "      <td>0</td>\n",
       "      <td>2415</td>\n",
       "      <td>34.5</td>\n",
       "      <td>34.5</td>\n",
       "    </tr>\n",
       "    <tr>\n",
       "      <th>6</th>\n",
       "      <td>672</td>\n",
       "      <td>BRCA1</td>\n",
       "      <td>0.890893</td>\n",
       "      <td>0.788336</td>\n",
       "      <td>0.808421</td>\n",
       "      <td>1</td>\n",
       "      <td>0</td>\n",
       "      <td>2415</td>\n",
       "      <td>34.5</td>\n",
       "      <td>34.5</td>\n",
       "    </tr>\n",
       "    <tr>\n",
       "      <th>1</th>\n",
       "      <td>675</td>\n",
       "      <td>BRCA2</td>\n",
       "      <td>0.799828</td>\n",
       "      <td>0.769195</td>\n",
       "      <td>0.851562</td>\n",
       "      <td>1</td>\n",
       "      <td>0</td>\n",
       "      <td>2415</td>\n",
       "      <td>34.5</td>\n",
       "      <td>34.5</td>\n",
       "    </tr>\n",
       "    <tr>\n",
       "      <th>4</th>\n",
       "      <td>29126</td>\n",
       "      <td>CD274</td>\n",
       "      <td>0.971572</td>\n",
       "      <td>0.949274</td>\n",
       "      <td>0.878788</td>\n",
       "      <td>3</td>\n",
       "      <td>0</td>\n",
       "      <td>2415</td>\n",
       "      <td>34.5</td>\n",
       "      <td>34.5</td>\n",
       "    </tr>\n",
       "    <tr>\n",
       "      <th>0</th>\n",
       "      <td>4221</td>\n",
       "      <td>MEN1</td>\n",
       "      <td>0.781145</td>\n",
       "      <td>0.500000</td>\n",
       "      <td>0.500000</td>\n",
       "      <td>0</td>\n",
       "      <td>0</td>\n",
       "      <td>2415</td>\n",
       "      <td>34.5</td>\n",
       "      <td>34.5</td>\n",
       "    </tr>\n",
       "    <tr>\n",
       "      <th>7</th>\n",
       "      <td>5979</td>\n",
       "      <td>RET</td>\n",
       "      <td>0.773649</td>\n",
       "      <td>0.715940</td>\n",
       "      <td>0.883838</td>\n",
       "      <td>1</td>\n",
       "      <td>0</td>\n",
       "      <td>2415</td>\n",
       "      <td>34.5</td>\n",
       "      <td>34.5</td>\n",
       "    </tr>\n",
       "    <tr>\n",
       "      <th>5</th>\n",
       "      <td>7157</td>\n",
       "      <td>TP53</td>\n",
       "      <td>0.804039</td>\n",
       "      <td>0.596341</td>\n",
       "      <td>0.574468</td>\n",
       "      <td>0</td>\n",
       "      <td>2</td>\n",
       "      <td>2415</td>\n",
       "      <td>34.5</td>\n",
       "      <td>34.5</td>\n",
       "    </tr>\n",
       "    <tr>\n",
       "      <th>2</th>\n",
       "      <td>7428</td>\n",
       "      <td>VHL</td>\n",
       "      <td>0.595318</td>\n",
       "      <td>0.656076</td>\n",
       "      <td>0.479798</td>\n",
       "      <td>2</td>\n",
       "      <td>0</td>\n",
       "      <td>2415</td>\n",
       "      <td>34.5</td>\n",
       "      <td>34.5</td>\n",
       "    </tr>\n",
       "  </tbody>\n",
       "</table>\n",
       "</div>"
      ],
      "text/plain": [
       "  mutation symbol  mean_cv_auroc  training_auroc  testing_auroc  n_pos_coeffs  \\\n",
       "3      238    ALK       0.831034        0.816214       0.713058             1   \n",
       "6      672  BRCA1       0.890893        0.788336       0.808421             1   \n",
       "1      675  BRCA2       0.799828        0.769195       0.851562             1   \n",
       "4    29126  CD274       0.971572        0.949274       0.878788             3   \n",
       "0     4221   MEN1       0.781145        0.500000       0.500000             0   \n",
       "7     5979    RET       0.773649        0.715940       0.883838             1   \n",
       "5     7157   TP53       0.804039        0.596341       0.574468             0   \n",
       "2     7428    VHL       0.595318        0.656076       0.479798             2   \n",
       "\n",
       "   n_neg_coeffs  cum_rank_cov_feat  median_rank_cov_feat  mean_rank_cov_feat  \n",
       "3             0               2415                  34.5                34.5  \n",
       "6             0               2415                  34.5                34.5  \n",
       "1             0               2415                  34.5                34.5  \n",
       "4             0               2415                  34.5                34.5  \n",
       "0             0               2415                  34.5                34.5  \n",
       "7             0               2415                  34.5                34.5  \n",
       "5             2               2415                  34.5                34.5  \n",
       "2             0               2415                  34.5                34.5  "
      ]
     },
     "metadata": {},
     "output_type": "display_data"
    },
    {
     "data": {
      "text/html": [
       "<div>\n",
       "<table border=\"1\" class=\"dataframe\">\n",
       "  <thead>\n",
       "    <tr style=\"text-align: right;\">\n",
       "      <th></th>\n",
       "      <th>mutation</th>\n",
       "      <th>symbol</th>\n",
       "      <th>mean_cv_auroc</th>\n",
       "      <th>training_auroc</th>\n",
       "      <th>testing_auroc</th>\n",
       "      <th>n_pos_coeffs</th>\n",
       "      <th>n_neg_coeffs</th>\n",
       "      <th>cum_rank_cov_feat</th>\n",
       "      <th>median_rank_cov_feat</th>\n",
       "      <th>mean_rank_cov_feat</th>\n",
       "    </tr>\n",
       "  </thead>\n",
       "  <tbody>\n",
       "    <tr>\n",
       "      <th>3</th>\n",
       "      <td>238</td>\n",
       "      <td>ALK</td>\n",
       "      <td>0.804844</td>\n",
       "      <td>0.818367</td>\n",
       "      <td>0.683849</td>\n",
       "      <td>1</td>\n",
       "      <td>1</td>\n",
       "      <td>94006</td>\n",
       "      <td>1387.5</td>\n",
       "      <td>1342.942857</td>\n",
       "    </tr>\n",
       "    <tr>\n",
       "      <th>6</th>\n",
       "      <td>672</td>\n",
       "      <td>BRCA1</td>\n",
       "      <td>0.782759</td>\n",
       "      <td>0.823640</td>\n",
       "      <td>0.833684</td>\n",
       "      <td>3</td>\n",
       "      <td>0</td>\n",
       "      <td>94524</td>\n",
       "      <td>1388.5</td>\n",
       "      <td>1350.342857</td>\n",
       "    </tr>\n",
       "    <tr>\n",
       "      <th>1</th>\n",
       "      <td>675</td>\n",
       "      <td>BRCA2</td>\n",
       "      <td>0.676207</td>\n",
       "      <td>0.782720</td>\n",
       "      <td>0.835938</td>\n",
       "      <td>2</td>\n",
       "      <td>1</td>\n",
       "      <td>94007</td>\n",
       "      <td>1387.5</td>\n",
       "      <td>1342.957143</td>\n",
       "    </tr>\n",
       "    <tr>\n",
       "      <th>4</th>\n",
       "      <td>29126</td>\n",
       "      <td>CD274</td>\n",
       "      <td>0.775168</td>\n",
       "      <td>0.976313</td>\n",
       "      <td>0.747475</td>\n",
       "      <td>7</td>\n",
       "      <td>14</td>\n",
       "      <td>92387</td>\n",
       "      <td>1392.5</td>\n",
       "      <td>1319.814286</td>\n",
       "    </tr>\n",
       "    <tr>\n",
       "      <th>0</th>\n",
       "      <td>4221</td>\n",
       "      <td>MEN1</td>\n",
       "      <td>0.550676</td>\n",
       "      <td>0.900674</td>\n",
       "      <td>0.275510</td>\n",
       "      <td>8</td>\n",
       "      <td>5</td>\n",
       "      <td>96115</td>\n",
       "      <td>1389.5</td>\n",
       "      <td>1373.071429</td>\n",
       "    </tr>\n",
       "    <tr>\n",
       "      <th>7</th>\n",
       "      <td>5979</td>\n",
       "      <td>RET</td>\n",
       "      <td>0.724662</td>\n",
       "      <td>0.837655</td>\n",
       "      <td>0.606061</td>\n",
       "      <td>3</td>\n",
       "      <td>6</td>\n",
       "      <td>94658</td>\n",
       "      <td>1388.5</td>\n",
       "      <td>1352.257143</td>\n",
       "    </tr>\n",
       "    <tr>\n",
       "      <th>5</th>\n",
       "      <td>7157</td>\n",
       "      <td>TP53</td>\n",
       "      <td>0.860655</td>\n",
       "      <td>0.841638</td>\n",
       "      <td>0.879968</td>\n",
       "      <td>3</td>\n",
       "      <td>3</td>\n",
       "      <td>95863</td>\n",
       "      <td>1388.5</td>\n",
       "      <td>1369.471429</td>\n",
       "    </tr>\n",
       "    <tr>\n",
       "      <th>2</th>\n",
       "      <td>7428</td>\n",
       "      <td>VHL</td>\n",
       "      <td>0.752508</td>\n",
       "      <td>0.972501</td>\n",
       "      <td>0.656566</td>\n",
       "      <td>1</td>\n",
       "      <td>1</td>\n",
       "      <td>95329</td>\n",
       "      <td>1387.5</td>\n",
       "      <td>1361.842857</td>\n",
       "    </tr>\n",
       "  </tbody>\n",
       "</table>\n",
       "</div>"
      ],
      "text/plain": [
       "  mutation symbol  mean_cv_auroc  training_auroc  testing_auroc  n_pos_coeffs  \\\n",
       "3      238    ALK       0.804844        0.818367       0.683849             1   \n",
       "6      672  BRCA1       0.782759        0.823640       0.833684             3   \n",
       "1      675  BRCA2       0.676207        0.782720       0.835938             2   \n",
       "4    29126  CD274       0.775168        0.976313       0.747475             7   \n",
       "0     4221   MEN1       0.550676        0.900674       0.275510             8   \n",
       "7     5979    RET       0.724662        0.837655       0.606061             3   \n",
       "5     7157   TP53       0.860655        0.841638       0.879968             3   \n",
       "2     7428    VHL       0.752508        0.972501       0.656566             1   \n",
       "\n",
       "   n_neg_coeffs  cum_rank_cov_feat  median_rank_cov_feat  mean_rank_cov_feat  \n",
       "3             1              94006                1387.5         1342.942857  \n",
       "6             0              94524                1388.5         1350.342857  \n",
       "1             1              94007                1387.5         1342.957143  \n",
       "4            14              92387                1392.5         1319.814286  \n",
       "0             5              96115                1389.5         1373.071429  \n",
       "7             6              94658                1388.5         1352.257143  \n",
       "5             3              95863                1388.5         1369.471429  \n",
       "2             1              95329                1387.5         1361.842857  "
      ]
     },
     "metadata": {},
     "output_type": "display_data"
    }
   ],
   "source": [
    "display(auroc_dfs['model a'])\n",
    "display(auroc_dfs['model b'])"
   ]
  },
  {
   "cell_type": "code",
   "execution_count": 87,
   "metadata": {
    "collapsed": false
   },
   "outputs": [
    {
     "data": {
      "text/html": [
       "<div>\n",
       "<table border=\"1\" class=\"dataframe\">\n",
       "  <thead>\n",
       "    <tr style=\"text-align: right;\">\n",
       "      <th></th>\n",
       "      <th>mean_cv_auroc</th>\n",
       "      <th>training_auroc</th>\n",
       "      <th>testing_auroc</th>\n",
       "      <th>n_pos_coeffs</th>\n",
       "      <th>n_neg_coeffs</th>\n",
       "      <th>cum_rank_cov_feat</th>\n",
       "      <th>median_rank_cov_feat</th>\n",
       "      <th>mean_rank_cov_feat</th>\n",
       "      <th>mutation</th>\n",
       "      <th>symbol</th>\n",
       "    </tr>\n",
       "  </thead>\n",
       "  <tbody>\n",
       "    <tr>\n",
       "      <th>3</th>\n",
       "      <td>-0.026190</td>\n",
       "      <td>0.002153</td>\n",
       "      <td>-0.029210</td>\n",
       "      <td>0</td>\n",
       "      <td>1</td>\n",
       "      <td>91591</td>\n",
       "      <td>1353.0</td>\n",
       "      <td>1308.442857</td>\n",
       "      <td>238</td>\n",
       "      <td>ALK</td>\n",
       "    </tr>\n",
       "    <tr>\n",
       "      <th>6</th>\n",
       "      <td>-0.108135</td>\n",
       "      <td>0.035305</td>\n",
       "      <td>0.025263</td>\n",
       "      <td>2</td>\n",
       "      <td>0</td>\n",
       "      <td>92109</td>\n",
       "      <td>1354.0</td>\n",
       "      <td>1315.842857</td>\n",
       "      <td>672</td>\n",
       "      <td>BRCA1</td>\n",
       "    </tr>\n",
       "    <tr>\n",
       "      <th>1</th>\n",
       "      <td>-0.123621</td>\n",
       "      <td>0.013525</td>\n",
       "      <td>-0.015625</td>\n",
       "      <td>1</td>\n",
       "      <td>1</td>\n",
       "      <td>91592</td>\n",
       "      <td>1353.0</td>\n",
       "      <td>1308.457143</td>\n",
       "      <td>675</td>\n",
       "      <td>BRCA2</td>\n",
       "    </tr>\n",
       "    <tr>\n",
       "      <th>4</th>\n",
       "      <td>-0.196404</td>\n",
       "      <td>0.027039</td>\n",
       "      <td>-0.131313</td>\n",
       "      <td>4</td>\n",
       "      <td>14</td>\n",
       "      <td>89972</td>\n",
       "      <td>1358.0</td>\n",
       "      <td>1285.314286</td>\n",
       "      <td>29126</td>\n",
       "      <td>CD274</td>\n",
       "    </tr>\n",
       "    <tr>\n",
       "      <th>0</th>\n",
       "      <td>-0.230469</td>\n",
       "      <td>0.400674</td>\n",
       "      <td>-0.224490</td>\n",
       "      <td>8</td>\n",
       "      <td>5</td>\n",
       "      <td>93700</td>\n",
       "      <td>1355.0</td>\n",
       "      <td>1338.571429</td>\n",
       "      <td>4221</td>\n",
       "      <td>MEN1</td>\n",
       "    </tr>\n",
       "    <tr>\n",
       "      <th>7</th>\n",
       "      <td>-0.048986</td>\n",
       "      <td>0.121715</td>\n",
       "      <td>-0.277778</td>\n",
       "      <td>2</td>\n",
       "      <td>6</td>\n",
       "      <td>92243</td>\n",
       "      <td>1354.0</td>\n",
       "      <td>1317.757143</td>\n",
       "      <td>5979</td>\n",
       "      <td>RET</td>\n",
       "    </tr>\n",
       "    <tr>\n",
       "      <th>5</th>\n",
       "      <td>0.056616</td>\n",
       "      <td>0.245296</td>\n",
       "      <td>0.305500</td>\n",
       "      <td>3</td>\n",
       "      <td>1</td>\n",
       "      <td>93448</td>\n",
       "      <td>1354.0</td>\n",
       "      <td>1334.971429</td>\n",
       "      <td>7157</td>\n",
       "      <td>TP53</td>\n",
       "    </tr>\n",
       "    <tr>\n",
       "      <th>2</th>\n",
       "      <td>0.157191</td>\n",
       "      <td>0.316425</td>\n",
       "      <td>0.176768</td>\n",
       "      <td>-1</td>\n",
       "      <td>1</td>\n",
       "      <td>92914</td>\n",
       "      <td>1353.0</td>\n",
       "      <td>1327.342857</td>\n",
       "      <td>7428</td>\n",
       "      <td>VHL</td>\n",
       "    </tr>\n",
       "  </tbody>\n",
       "</table>\n",
       "</div>"
      ],
      "text/plain": [
       "   mean_cv_auroc  training_auroc  testing_auroc  n_pos_coeffs  n_neg_coeffs  \\\n",
       "3      -0.026190        0.002153      -0.029210             0             1   \n",
       "6      -0.108135        0.035305       0.025263             2             0   \n",
       "1      -0.123621        0.013525      -0.015625             1             1   \n",
       "4      -0.196404        0.027039      -0.131313             4            14   \n",
       "0      -0.230469        0.400674      -0.224490             8             5   \n",
       "7      -0.048986        0.121715      -0.277778             2             6   \n",
       "5       0.056616        0.245296       0.305500             3             1   \n",
       "2       0.157191        0.316425       0.176768            -1             1   \n",
       "\n",
       "   cum_rank_cov_feat  median_rank_cov_feat  mean_rank_cov_feat mutation symbol  \n",
       "3              91591                1353.0         1308.442857      238    ALK  \n",
       "6              92109                1354.0         1315.842857      672  BRCA1  \n",
       "1              91592                1353.0         1308.457143      675  BRCA2  \n",
       "4              89972                1358.0         1285.314286    29126  CD274  \n",
       "0              93700                1355.0         1338.571429     4221   MEN1  \n",
       "7              92243                1354.0         1317.757143     5979    RET  \n",
       "5              93448                1354.0         1334.971429     7157   TP53  \n",
       "2              92914                1353.0         1327.342857     7428    VHL  "
      ]
     },
     "execution_count": 87,
     "metadata": {},
     "output_type": "execute_result"
    }
   ],
   "source": [
    "auroc_dfs['model a'].to_csv('auroc_covariates_only.tsv', index=False, sep='\\t', float_format='%.5g')\n",
    "auroc_dfs['model b'].to_csv('auroc_covariates_and_expression.tsv', index=False, sep='\\t', float_format='%.5g')\n",
    "auroc_dfs['diff_models_ab'] = auroc_dfs['model b'].loc[:,'mean_cv_auroc':]-auroc_dfs['model a'].loc[:,'mean_cv_auroc':]\n",
    "auroc_dfs['diff_models_ab'][['mutation', 'symbol']] = auroc_dfs['model b'].loc[:, ['mutation', 'symbol']]\n",
    "auroc_dfs['diff_models_ab']"
   ]
  },
  {
   "cell_type": "markdown",
   "metadata": {},
   "source": [
    "# Covariates only vs covariates+expression model"
   ]
  },
  {
   "cell_type": "code",
   "execution_count": 88,
   "metadata": {
    "collapsed": false
   },
   "outputs": [
    {
     "data": {
      "image/png": "[encoded data removed]",
      "text/plain": [
       "<matplotlib.figure.Figure at 0x1198caa90>"
      ]
     },
     "metadata": {},
     "output_type": "display_data"
    }
   ],
   "source": [
    "plot_df = pd.melt(auroc_dfs['diff_models_ab'], id_vars='symbol', value_vars=['mean_cv_auroc', 'training_auroc', 'testing_auroc'], var_name='kind', value_name='delta auroc')\n",
    "grid = sns.factorplot(y='symbol', x='delta auroc', hue='kind', data=plot_df, kind=\"bar\")"
   ]
  }
 ],
 "metadata": {
  "anaconda-cloud": {},
  "kernelspec": {
   "display_name": "Python [default]",
   "language": "python",
   "name": "python3"
  },
  "language_info": {
   "codemirror_mode": {
    "name": "ipython",
    "version": 3
   },
   "file_extension": ".py",
   "mimetype": "text/x-python",
   "name": "python",
   "nbconvert_exporter": "python",
   "pygments_lexer": "ipython3",
   "version": "3.5.2"
  }
 },
 "nbformat": 4,
 "nbformat_minor": 0
}
