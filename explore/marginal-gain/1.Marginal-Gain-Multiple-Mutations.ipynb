{
 "cells": [
  {
   "cell_type": "markdown",
   "metadata": {},
   "source": [
    "# Compare logistic regression models of several mutations for a) covariates only and b) covariates with gene expression data to determine marginal gain using gene expression data "
   ]
  },
  {
   "cell_type": "code",
   "execution_count": 1,
   "metadata": {
    "collapsed": false
   },
   "outputs": [],
   "source": [
    "import os\n",
    "import urllib\n",
    "import random\n",
    "import warnings\n",
    "\n",
    "import pandas as pd\n",
    "import numpy as np\n",
    "import matplotlib.pyplot as plt\n",
    "import seaborn as sns\n",
    "from sklearn import preprocessing\n",
    "from sklearn.linear_model import SGDClassifier\n",
    "from sklearn.model_selection import train_test_split, GridSearchCV\n",
    "from sklearn.metrics import roc_auc_score, roc_curve\n",
    "from sklearn.pipeline import Pipeline, FeatureUnion\n",
    "from sklearn.preprocessing import StandardScaler, Imputer, FunctionTransformer\n",
    "from sklearn.feature_selection import SelectKBest\n",
    "from statsmodels.robust.scale import mad\n",
    "from IPython.display import display\n",
    "import gc"
   ]
  },
  {
   "cell_type": "code",
   "execution_count": 2,
   "metadata": {
    "collapsed": false
   },
   "outputs": [],
   "source": [
    "%matplotlib inline\n",
    "plt.style.use('seaborn-notebook')"
   ]
  },
  {
   "cell_type": "markdown",
   "metadata": {},
   "source": [
    "## Load Data"
   ]
  },
  {
   "cell_type": "code",
   "execution_count": 3,
   "metadata": {
    "collapsed": false
   },
   "outputs": [
    {
     "name": "stdout",
     "output_type": "stream",
     "text": [
      "CPU times: user 109 ms, sys: 14.4 ms, total: 123 ms\n",
      "Wall time: 147 ms\n"
     ]
    }
   ],
   "source": [
    "%%time\n",
    "path = os.path.join('..', '..', 'download', 'covariates.tsv')\n",
    "covariates = pd.read_table(path, index_col=0)"
   ]
  },
  {
   "cell_type": "code",
   "execution_count": 4,
   "metadata": {
    "collapsed": false
   },
   "outputs": [
    {
     "name": "stdout",
     "output_type": "stream",
     "text": [
      "CPU times: user 3min 15s, sys: 4.76 s, total: 3min 20s\n",
      "Wall time: 3min 21s\n"
     ]
    }
   ],
   "source": [
    "%%time\n",
    "path = os.path.join('..', '..', 'download', 'expression-matrix.tsv.bz2')\n",
    "expression = pd.read_table(path, index_col=0)"
   ]
  },
  {
   "cell_type": "code",
   "execution_count": 5,
   "metadata": {
    "collapsed": false
   },
   "outputs": [
    {
     "name": "stdout",
     "output_type": "stream",
     "text": [
      "CPU times: user 1min 52s, sys: 3.61 s, total: 1min 56s\n",
      "Wall time: 1min 56s\n"
     ]
    }
   ],
   "source": [
    "%%time\n",
    "path = os.path.join('..','..','download', 'mutation-matrix.tsv.bz2')\n",
    "Y = pd.read_table(path, index_col=0)"
   ]
  },
  {
   "cell_type": "code",
   "execution_count": 6,
   "metadata": {
    "collapsed": false
   },
   "outputs": [
    {
     "name": "stdout",
     "output_type": "stream",
     "text": [
      "(7306, 70)\n",
      "(7306, 20600)\n"
     ]
    }
   ],
   "source": [
    "X = {}\n",
    "X['model a'] = covariates\n",
    "X['model b'] = pd.concat([covariates,expression], axis=1)\n",
    "for k in ['model a','model b']:\n",
    "    print(X[k].shape)"
   ]
  },
  {
   "cell_type": "code",
   "execution_count": 7,
   "metadata": {
    "collapsed": false
   },
   "outputs": [],
   "source": [
    "mutations = {\n",
    "    '7157': 'TP53',   # tumor protein p53\n",
    "    '7428': 'VHL',    # von Hippel-Lindau tumor suppressor\n",
    "    '29126': 'CD274', # CD274 molecule\n",
    "    '672': 'BRCA1',   # BRCA1, DNA repair associated\n",
    "    '675': 'BRCA2',   # BRCA2, DNA repair associated\n",
    "    '238': 'ALK',     # anaplastic lymphoma receptor tyrosine kinase\n",
    "    '4221': 'MEN1',   # menin 1\n",
    "    '5979': 'RET',    # ret proto-oncogene\n",
    "}"
   ]
  },
  {
   "cell_type": "markdown",
   "metadata": {},
   "source": [
    "## Median absolute deviation feature selection"
   ]
  },
  {
   "cell_type": "code",
   "execution_count": 8,
   "metadata": {
    "collapsed": false
   },
   "outputs": [],
   "source": [
    "def fs_mad(x, y):\n",
    "    \"\"\"    \n",
    "    Get the median absolute deviation (MAD) for each column of x\n",
    "    \"\"\"\n",
    "    scores = mad(x) \n",
    "    return scores, np.array([np.NaN]*len(scores))"
   ]
  },
  {
   "cell_type": "markdown",
   "metadata": {},
   "source": [
    "## Define pipeline and Cross validation model fitting"
   ]
  },
  {
   "cell_type": "code",
   "execution_count": 29,
   "metadata": {
    "collapsed": false
   },
   "outputs": [],
   "source": [
    "# Parameter Sweep for Hyperparameters\n",
    "\n",
    "param_grid = {\n",
    "    'classify__loss': ['log'],\n",
    "    'classify__penalty': ['elasticnet'],\n",
    "    'classify__alpha': 10.0 ** np.linspace(-3, 1, 10),\n",
    "    'classify__l1_ratio': [0.15],\n",
    "}\n",
    "\n",
    "expression_feats = Pipeline(steps=[\n",
    "    ('dim_red', FunctionTransformer(lambda X: X[:,covariates.shape[1]:])),\n",
    "    ('select', SelectKBest(fs_mad,2000)),\n",
    "])\n",
    "\n",
    "covariate_feats = Pipeline(steps=[\n",
    "    ('dim_red', FunctionTransformer(lambda X: X[:,:covariates.shape[1]])),\n",
    "])\n",
    "\n",
    "combo_pipeline = Pipeline([\n",
    "    ('imputer', Imputer()),\n",
    "    ('standardize', StandardScaler()),\n",
    "    ('features', FeatureUnion([\n",
    "        ('covariates_feats', covariate_feats),           \n",
    "        ('expression_feats', expression_feats)\n",
    "    ])),\n",
    "    ('classify', SGDClassifier(random_state=0, class_weight='balanced'))\n",
    "])\n",
    "\n",
    "covariates_pipeline = Pipeline(steps=[\n",
    "    ('imputer', Imputer()),\n",
    "    ('standardize', StandardScaler()),\n",
    "    ('classify', SGDClassifier(random_state=0, class_weight='balanced'))\n",
    "])"
   ]
  },
  {
   "cell_type": "code",
   "execution_count": 30,
   "metadata": {
    "collapsed": true
   },
   "outputs": [],
   "source": [
    "cv_pipeline = {}\n",
    "cv_pipeline['model a'] = GridSearchCV(estimator=covariates_pipeline, param_grid=param_grid, scoring='roc_auc')\n",
    "cv_pipeline['model b'] = GridSearchCV(estimator=combo_pipeline, param_grid=param_grid, scoring='roc_auc')"
   ]
  },
  {
   "cell_type": "markdown",
   "metadata": {},
   "source": [
    "## Functions to get statistics for a given model "
   ]
  },
  {
   "cell_type": "code",
   "execution_count": 39,
   "metadata": {
    "collapsed": false
   },
   "outputs": [],
   "source": [
    "# Get statistics for a given model. \n",
    "\n",
    "def get_aurocs(X, y, pipeline, series, model_type):\n",
    "    \"\"\"\n",
    "    Fit the classifier for the given mutation (y) and output predictions for it\n",
    "    \"\"\"\n",
    "    X_train, X_test, y_train, y_test = train_test_split(X, y, test_size=0.25, stratify=y, random_state=0)\n",
    "    pipeline.fit(X=X_train, y=y_train)\n",
    "    y_pred_train = pipeline.decision_function(X_train)\n",
    "    y_pred_test = pipeline.decision_function(X_test)\n",
    "    cv_score_df = grid_scores_to_df(pipeline.grid_scores_)\n",
    "    coeff_df = get_coeffs(pipeline, X_train, model_type)\n",
    "    n_pos, n_neg = get_sign_coeffs(coeff_df)\n",
    "    cov_ranks = get_ranks_covariates_feat(coeff_df)\n",
    "    series['mean_cv_auroc'] = cv_score_df.score.max()\n",
    "    series['training_auroc'] = roc_auc_score(y_train, y_pred_train)\n",
    "    series['testing_auroc'] = roc_auc_score(y_test, y_pred_test)\n",
    "    series['n_pos_coeffs'] = n_pos\n",
    "    series['n_neg_coeffs'] = n_neg\n",
    "    series['n_positive_mutation'] = sum(y==1)\n",
    "    series['n_negative_mutation'] = sum(y==0)\n",
    "    series['cum_rank_cov_feat'] = cov_ranks.sum()\n",
    "    series['median_rank_cov_feat'] = np.median(cov_ranks)\n",
    "    series['mean_rank_cov_feat'] = np.mean(cov_ranks)\n",
    "    return series\n",
    "\n",
    "def grid_scores_to_df(grid_scores):\n",
    "    \"\"\"\n",
    "    Convert a sklearn.grid_search.GridSearchCV.grid_scores_ attribute to \n",
    "    a tidy pandas DataFrame where each row is a hyperparameter-fold combinatination.\n",
    "    \"\"\"\n",
    "    rows = list()\n",
    "    for grid_score in grid_scores:\n",
    "        for fold, score in enumerate(grid_score.cv_validation_scores):\n",
    "            row = grid_score.parameters.copy()\n",
    "            row['fold'] = fold\n",
    "            row['score'] = score\n",
    "            rows.append(row)\n",
    "    df = pd.DataFrame(rows)\n",
    "    return df\n",
    "\n",
    "def get_coeffs(pipeline, X_train, model_type):\n",
    "    \"\"\"\n",
    "    Get a dataframe with the training coefficients \n",
    "    \"\"\"\n",
    "    final_pipeline = pipeline.best_estimator_\n",
    "    final_classifier = final_pipeline.named_steps['classify']\n",
    "    \n",
    "    # Get indices of features\n",
    "    if model_type == 'model a': \n",
    "        select_indices = list(range(len(covariates.columns.values)))\n",
    "    else:\n",
    "        select_indices = final_pipeline.named_steps['features'].transform(\n",
    "            np.arange(len(X_train.columns)).reshape(1, -1)\n",
    "        ).tolist()\n",
    "        select_indices = [x for sublist in select_indices for x in sublist]\n",
    "    \n",
    "    # Make df features, weights\n",
    "    coef_df = pd.DataFrame.from_items([\n",
    "        ('feature', X_train.columns[select_indices]),\n",
    "        ('weight', final_classifier.coef_[0]),\n",
    "    ])\n",
    "\n",
    "    return coef_df\n",
    "\n",
    "def get_sign_coeffs(coef_df):\n",
    "    return (coef_df.weight>0).sum(), (coef_df.weight<0).sum()\n",
    "\n",
    "def get_ranks_covariates_feat(coef_df):\n",
    "    coef_df['abs'] = coef_df['weight'].abs()\n",
    "    coef_df = coef_df.sort_values('abs', ascending=False)\n",
    "    \n",
    "    def RepresentsInt(s):\n",
    "        try: \n",
    "            int(s)\n",
    "            return True\n",
    "        except ValueError:\n",
    "            return False\n",
    "\n",
    "    coef_df['is_cov_feat'] = [not RepresentsInt(x) for x in coef_df['feature']]\n",
    "    ranks = np.flatnonzero(coef_df['is_cov_feat'])\n",
    "    return ranks\n",
    "\n",
    "auroc_dfs = {}"
   ]
  },
  {
   "cell_type": "markdown",
   "metadata": {},
   "source": [
    "## Train the models."
   ]
  },
  {
   "cell_type": "code",
   "execution_count": 40,
   "metadata": {
    "collapsed": false
   },
   "outputs": [
    {
     "data": {
      "text/html": [
       "<div>\n",
       "<table border=\"1\" class=\"dataframe\">\n",
       "  <thead>\n",
       "    <tr style=\"text-align: right;\">\n",
       "      <th></th>\n",
       "      <th>mutation</th>\n",
       "      <th>symbol</th>\n",
       "      <th>mean_cv_auroc</th>\n",
       "      <th>training_auroc</th>\n",
       "      <th>testing_auroc</th>\n",
       "      <th>n_pos_coeffs</th>\n",
       "      <th>n_neg_coeffs</th>\n",
       "      <th>n_positive_mutation</th>\n",
       "      <th>n_negative_mutation</th>\n",
       "      <th>cum_rank_cov_feat</th>\n",
       "      <th>median_rank_cov_feat</th>\n",
       "      <th>mean_rank_cov_feat</th>\n",
       "    </tr>\n",
       "  </thead>\n",
       "  <tbody>\n",
       "    <tr>\n",
       "      <th>5</th>\n",
       "      <td>238</td>\n",
       "      <td>ALK</td>\n",
       "      <td>0.840648</td>\n",
       "      <td>0.500000</td>\n",
       "      <td>0.500000</td>\n",
       "      <td>0</td>\n",
       "      <td>0</td>\n",
       "      <td>138</td>\n",
       "      <td>7168</td>\n",
       "      <td>2415</td>\n",
       "      <td>34.5</td>\n",
       "      <td>34.5</td>\n",
       "    </tr>\n",
       "    <tr>\n",
       "      <th>3</th>\n",
       "      <td>672</td>\n",
       "      <td>BRCA1</td>\n",
       "      <td>0.859306</td>\n",
       "      <td>0.500000</td>\n",
       "      <td>0.500000</td>\n",
       "      <td>0</td>\n",
       "      <td>0</td>\n",
       "      <td>136</td>\n",
       "      <td>7170</td>\n",
       "      <td>2415</td>\n",
       "      <td>34.5</td>\n",
       "      <td>34.5</td>\n",
       "    </tr>\n",
       "    <tr>\n",
       "      <th>6</th>\n",
       "      <td>675</td>\n",
       "      <td>BRCA2</td>\n",
       "      <td>0.872013</td>\n",
       "      <td>0.811153</td>\n",
       "      <td>0.790877</td>\n",
       "      <td>1</td>\n",
       "      <td>0</td>\n",
       "      <td>237</td>\n",
       "      <td>7069</td>\n",
       "      <td>2415</td>\n",
       "      <td>34.5</td>\n",
       "      <td>34.5</td>\n",
       "    </tr>\n",
       "    <tr>\n",
       "      <th>1</th>\n",
       "      <td>29126</td>\n",
       "      <td>CD274</td>\n",
       "      <td>0.887013</td>\n",
       "      <td>0.870971</td>\n",
       "      <td>0.933095</td>\n",
       "      <td>3</td>\n",
       "      <td>0</td>\n",
       "      <td>19</td>\n",
       "      <td>7287</td>\n",
       "      <td>2415</td>\n",
       "      <td>34.5</td>\n",
       "      <td>34.5</td>\n",
       "    </tr>\n",
       "    <tr>\n",
       "      <th>2</th>\n",
       "      <td>4221</td>\n",
       "      <td>MEN1</td>\n",
       "      <td>0.849791</td>\n",
       "      <td>0.804713</td>\n",
       "      <td>0.738397</td>\n",
       "      <td>4</td>\n",
       "      <td>6</td>\n",
       "      <td>57</td>\n",
       "      <td>7249</td>\n",
       "      <td>2415</td>\n",
       "      <td>34.5</td>\n",
       "      <td>34.5</td>\n",
       "    </tr>\n",
       "    <tr>\n",
       "      <th>4</th>\n",
       "      <td>5979</td>\n",
       "      <td>RET</td>\n",
       "      <td>0.854921</td>\n",
       "      <td>0.806310</td>\n",
       "      <td>0.756233</td>\n",
       "      <td>3</td>\n",
       "      <td>0</td>\n",
       "      <td>117</td>\n",
       "      <td>7189</td>\n",
       "      <td>2415</td>\n",
       "      <td>34.5</td>\n",
       "      <td>34.5</td>\n",
       "    </tr>\n",
       "    <tr>\n",
       "      <th>7</th>\n",
       "      <td>7157</td>\n",
       "      <td>TP53</td>\n",
       "      <td>0.851322</td>\n",
       "      <td>0.849591</td>\n",
       "      <td>0.844948</td>\n",
       "      <td>23</td>\n",
       "      <td>32</td>\n",
       "      <td>2587</td>\n",
       "      <td>4719</td>\n",
       "      <td>2415</td>\n",
       "      <td>34.5</td>\n",
       "      <td>34.5</td>\n",
       "    </tr>\n",
       "    <tr>\n",
       "      <th>0</th>\n",
       "      <td>7428</td>\n",
       "      <td>VHL</td>\n",
       "      <td>0.990092</td>\n",
       "      <td>0.989094</td>\n",
       "      <td>0.949362</td>\n",
       "      <td>11</td>\n",
       "      <td>10</td>\n",
       "      <td>135</td>\n",
       "      <td>7171</td>\n",
       "      <td>2415</td>\n",
       "      <td>34.5</td>\n",
       "      <td>34.5</td>\n",
       "    </tr>\n",
       "  </tbody>\n",
       "</table>\n",
       "</div>"
      ],
      "text/plain": [
       "  mutation symbol  mean_cv_auroc  training_auroc  testing_auroc  n_pos_coeffs  \\\n",
       "5      238    ALK       0.840648        0.500000       0.500000             0   \n",
       "3      672  BRCA1       0.859306        0.500000       0.500000             0   \n",
       "6      675  BRCA2       0.872013        0.811153       0.790877             1   \n",
       "1    29126  CD274       0.887013        0.870971       0.933095             3   \n",
       "2     4221   MEN1       0.849791        0.804713       0.738397             4   \n",
       "4     5979    RET       0.854921        0.806310       0.756233             3   \n",
       "7     7157   TP53       0.851322        0.849591       0.844948            23   \n",
       "0     7428    VHL       0.990092        0.989094       0.949362            11   \n",
       "\n",
       "   n_neg_coeffs  n_positive_mutation  n_negative_mutation  cum_rank_cov_feat  \\\n",
       "5             0                  138                 7168               2415   \n",
       "3             0                  136                 7170               2415   \n",
       "6             0                  237                 7069               2415   \n",
       "1             0                   19                 7287               2415   \n",
       "2             6                   57                 7249               2415   \n",
       "4             0                  117                 7189               2415   \n",
       "7            32                 2587                 4719               2415   \n",
       "0            10                  135                 7171               2415   \n",
       "\n",
       "   median_rank_cov_feat  mean_rank_cov_feat  \n",
       "5                  34.5                34.5  \n",
       "3                  34.5                34.5  \n",
       "6                  34.5                34.5  \n",
       "1                  34.5                34.5  \n",
       "2                  34.5                34.5  \n",
       "4                  34.5                34.5  \n",
       "7                  34.5                34.5  \n",
       "0                  34.5                34.5  "
      ]
     },
     "metadata": {},
     "output_type": "display_data"
    },
    {
     "name": "stdout",
     "output_type": "stream",
     "text": [
      "CPU times: user 30.7 s, sys: 1.96 s, total: 32.7 s\n",
      "Wall time: 16.9 s\n"
     ]
    }
   ],
   "source": [
    "%%time\n",
    "# Train model a: covariates only.\n",
    "warnings.filterwarnings(\"ignore\") # ignore deprecation warning for grid_scores_\n",
    "rows = list()\n",
    "for m in list(mutations):\n",
    "    series = pd.Series()\n",
    "    series['mutation'] = m\n",
    "    series['symbol'] = mutations[m]\n",
    "    rows.append(get_aurocs(X['model a'], Y[m], cv_pipeline['model a'], series, 'model a'))\n",
    "auroc_dfs['model a'] = pd.DataFrame(rows)\n",
    "auroc_dfs['model a'].sort_values(['symbol', 'testing_auroc'], ascending=[True, False], inplace=True)\n",
    "display(auroc_dfs['model a'])"
   ]
  },
  {
   "cell_type": "code",
   "execution_count": 12,
   "metadata": {
    "collapsed": false
   },
   "outputs": [
    {
     "name": "stdout",
     "output_type": "stream",
     "text": [
      "CPU times: user 58min 51s, sys: 36min 23s, total: 1h 35min 14s\n",
      "Wall time: 1h 38min 56s\n"
     ]
    }
   ],
   "source": [
    "%%time\n",
    "# Train model b: covariates with gene expression data.\n",
    "warnings.filterwarnings(\"ignore\") # ignore deprecation warning for grid_scores_\n",
    "rows = list()\n",
    "for m in list(mutations):\n",
    "    series = pd.Series()\n",
    "    series['mutation'] = m\n",
    "    series['symbol'] = mutations[m]\n",
    "    rows.append(get_aurocs(X['model b'], Y[m], cv_pipeline['model b'], series, 'model b'))\n",
    "auroc_dfs['model b'] = pd.DataFrame(rows)\n",
    "auroc_dfs['model b'].sort_values(['symbol', 'testing_auroc'], ascending=[True, False], inplace=True)"
   ]
  },
  {
   "cell_type": "code",
   "execution_count": 34,
   "metadata": {
    "collapsed": false,
    "scrolled": true
   },
   "outputs": [
    {
     "ename": "KeyError",
     "evalue": "'model b'",
     "output_type": "error",
     "traceback": [
      "\u001b[0;31m---------------------------------------------------------------------------\u001b[0m",
      "\u001b[0;31mKeyError\u001b[0m                                  Traceback (most recent call last)",
      "\u001b[0;32m<ipython-input-34-e234c42e51b4>\u001b[0m in \u001b[0;36m<module>\u001b[0;34m()\u001b[0m\n\u001b[1;32m      1\u001b[0m \u001b[0mauroc_dfs\u001b[0m\u001b[0;34m[\u001b[0m\u001b[0;34m'model a'\u001b[0m\u001b[0;34m]\u001b[0m\u001b[0;34m[\u001b[0m\u001b[0;34m'model'\u001b[0m\u001b[0;34m]\u001b[0m \u001b[0;34m=\u001b[0m \u001b[0;34m'covariates_only'\u001b[0m\u001b[0;34m\u001b[0m\u001b[0m\n\u001b[0;32m----> 2\u001b[0;31m \u001b[0mauroc_dfs\u001b[0m\u001b[0;34m[\u001b[0m\u001b[0;34m'model b'\u001b[0m\u001b[0;34m]\u001b[0m\u001b[0;34m[\u001b[0m\u001b[0;34m'model'\u001b[0m\u001b[0;34m]\u001b[0m \u001b[0;34m=\u001b[0m \u001b[0;34m'combined'\u001b[0m\u001b[0;34m\u001b[0m\u001b[0m\n\u001b[0m\u001b[1;32m      3\u001b[0m \u001b[0mauroc_df\u001b[0m \u001b[0;34m=\u001b[0m \u001b[0mpd\u001b[0m\u001b[0;34m.\u001b[0m\u001b[0mconcat\u001b[0m\u001b[0;34m(\u001b[0m\u001b[0;34m[\u001b[0m\u001b[0mauroc_dfs\u001b[0m\u001b[0;34m[\u001b[0m\u001b[0;34m'model a'\u001b[0m\u001b[0;34m]\u001b[0m\u001b[0;34m,\u001b[0m\u001b[0mauroc_dfs\u001b[0m\u001b[0;34m[\u001b[0m\u001b[0;34m'model b'\u001b[0m\u001b[0;34m]\u001b[0m\u001b[0;34m]\u001b[0m\u001b[0;34m)\u001b[0m\u001b[0;34m\u001b[0m\u001b[0m\n\u001b[1;32m      4\u001b[0m \u001b[0mauroc_df\u001b[0m\u001b[0;34m.\u001b[0m\u001b[0mto_csv\u001b[0m\u001b[0;34m(\u001b[0m\u001b[0;34m\"./auroc_df.tsv\"\u001b[0m\u001b[0;34m,\u001b[0m \u001b[0msep\u001b[0m\u001b[0;34m=\u001b[0m\u001b[0;34m\"\\t\"\u001b[0m\u001b[0;34m)\u001b[0m\u001b[0;34m\u001b[0m\u001b[0m\n\u001b[1;32m      5\u001b[0m \u001b[0mauroc_df\u001b[0m\u001b[0;34m.\u001b[0m\u001b[0mhead\u001b[0m\u001b[0;34m(\u001b[0m\u001b[0;36m2\u001b[0m\u001b[0;34m)\u001b[0m\u001b[0;34m\u001b[0m\u001b[0m\n",
      "\u001b[0;31mKeyError\u001b[0m: 'model b'"
     ]
    }
   ],
   "source": [
    "auroc_dfs['model a']['model'] = 'covariates_only'\n",
    "auroc_dfs['model b']['model'] = 'combined'\n",
    "auroc_df = pd.concat([auroc_dfs['model a'],auroc_dfs['model b']])\n",
    "auroc_df.to_csv(\"./auroc_df.tsv\", sep=\"\\t\", float_format=\"%.3g\", index=False)\n",
    "auroc_df.head(2)"
   ]
  },
  {
   "cell_type": "code",
   "execution_count": 19,
   "metadata": {
    "collapsed": false
   },
   "outputs": [
    {
     "data": {
      "text/html": [
       "<div>\n",
       "<table border=\"1\" class=\"dataframe\">\n",
       "  <thead>\n",
       "    <tr style=\"text-align: right;\">\n",
       "      <th></th>\n",
       "      <th>mean_cv_auroc</th>\n",
       "      <th>training_auroc</th>\n",
       "      <th>testing_auroc</th>\n",
       "      <th>n_pos_coeffs</th>\n",
       "      <th>n_neg_coeffs</th>\n",
       "      <th>cum_rank_cov_feat</th>\n",
       "      <th>median_rank_cov_feat</th>\n",
       "      <th>mean_rank_cov_feat</th>\n",
       "      <th>mutation</th>\n",
       "      <th>symbol</th>\n",
       "    </tr>\n",
       "  </thead>\n",
       "  <tbody>\n",
       "    <tr>\n",
       "      <th>5</th>\n",
       "      <td>-0.004248</td>\n",
       "      <td>0.106221</td>\n",
       "      <td>-0.081391</td>\n",
       "      <td>71</td>\n",
       "      <td>84</td>\n",
       "      <td>84808</td>\n",
       "      <td>1375.0</td>\n",
       "      <td>1211.542857</td>\n",
       "      <td>238</td>\n",
       "      <td>ALK</td>\n",
       "    </tr>\n",
       "    <tr>\n",
       "      <th>3</th>\n",
       "      <td>-0.005017</td>\n",
       "      <td>0.000000</td>\n",
       "      <td>0.000000</td>\n",
       "      <td>0</td>\n",
       "      <td>0</td>\n",
       "      <td>91557</td>\n",
       "      <td>1353.0</td>\n",
       "      <td>1307.957143</td>\n",
       "      <td>672</td>\n",
       "      <td>BRCA1</td>\n",
       "    </tr>\n",
       "    <tr>\n",
       "      <th>6</th>\n",
       "      <td>0.000000</td>\n",
       "      <td>0.002566</td>\n",
       "      <td>0.001637</td>\n",
       "      <td>4</td>\n",
       "      <td>1</td>\n",
       "      <td>90210</td>\n",
       "      <td>1355.0</td>\n",
       "      <td>1288.714286</td>\n",
       "      <td>675</td>\n",
       "      <td>BRCA2</td>\n",
       "    </tr>\n",
       "    <tr>\n",
       "      <th>1</th>\n",
       "      <td>0.000000</td>\n",
       "      <td>0.006184</td>\n",
       "      <td>0.015565</td>\n",
       "      <td>2</td>\n",
       "      <td>1</td>\n",
       "      <td>89728</td>\n",
       "      <td>1355.0</td>\n",
       "      <td>1281.828571</td>\n",
       "      <td>29126</td>\n",
       "      <td>CD274</td>\n",
       "    </tr>\n",
       "    <tr>\n",
       "      <th>2</th>\n",
       "      <td>-0.027329</td>\n",
       "      <td>-0.025882</td>\n",
       "      <td>-0.007893</td>\n",
       "      <td>3</td>\n",
       "      <td>-21</td>\n",
       "      <td>89897</td>\n",
       "      <td>1357.0</td>\n",
       "      <td>1284.242857</td>\n",
       "      <td>4221</td>\n",
       "      <td>MEN1</td>\n",
       "    </tr>\n",
       "    <tr>\n",
       "      <th>4</th>\n",
       "      <td>-0.009987</td>\n",
       "      <td>-0.040952</td>\n",
       "      <td>0.028069</td>\n",
       "      <td>-1</td>\n",
       "      <td>-18</td>\n",
       "      <td>91726</td>\n",
       "      <td>1354.0</td>\n",
       "      <td>1310.371429</td>\n",
       "      <td>5979</td>\n",
       "      <td>RET</td>\n",
       "    </tr>\n",
       "    <tr>\n",
       "      <th>7</th>\n",
       "      <td>0.086714</td>\n",
       "      <td>0.099317</td>\n",
       "      <td>0.084897</td>\n",
       "      <td>231</td>\n",
       "      <td>151</td>\n",
       "      <td>64784</td>\n",
       "      <td>1422.0</td>\n",
       "      <td>925.485714</td>\n",
       "      <td>7157</td>\n",
       "      <td>TP53</td>\n",
       "    </tr>\n",
       "    <tr>\n",
       "      <th>0</th>\n",
       "      <td>0.006821</td>\n",
       "      <td>0.014251</td>\n",
       "      <td>0.000131</td>\n",
       "      <td>158</td>\n",
       "      <td>104</td>\n",
       "      <td>86631</td>\n",
       "      <td>1399.0</td>\n",
       "      <td>1237.585714</td>\n",
       "      <td>7428</td>\n",
       "      <td>VHL</td>\n",
       "    </tr>\n",
       "  </tbody>\n",
       "</table>\n",
       "</div>"
      ],
      "text/plain": [
       "   mean_cv_auroc  training_auroc  testing_auroc  n_pos_coeffs  n_neg_coeffs  \\\n",
       "5      -0.004248        0.106221      -0.081391            71            84   \n",
       "3      -0.005017        0.000000       0.000000             0             0   \n",
       "6       0.000000        0.002566       0.001637             4             1   \n",
       "1       0.000000        0.006184       0.015565             2             1   \n",
       "2      -0.027329       -0.025882      -0.007893             3           -21   \n",
       "4      -0.009987       -0.040952       0.028069            -1           -18   \n",
       "7       0.086714        0.099317       0.084897           231           151   \n",
       "0       0.006821        0.014251       0.000131           158           104   \n",
       "\n",
       "   cum_rank_cov_feat  median_rank_cov_feat  mean_rank_cov_feat mutation symbol  \n",
       "5              84808                1375.0         1211.542857      238    ALK  \n",
       "3              91557                1353.0         1307.957143      672  BRCA1  \n",
       "6              90210                1355.0         1288.714286      675  BRCA2  \n",
       "1              89728                1355.0         1281.828571    29126  CD274  \n",
       "2              89897                1357.0         1284.242857     4221   MEN1  \n",
       "4              91726                1354.0         1310.371429     5979    RET  \n",
       "7              64784                1422.0          925.485714     7157   TP53  \n",
       "0              86631                1399.0         1237.585714     7428    VHL  "
      ]
     },
     "execution_count": 19,
     "metadata": {},
     "output_type": "execute_result"
    }
   ],
   "source": [
    "auroc_dfs['diff_models_ab'] = auroc_dfs['model b'].loc[:,'mean_cv_auroc':]-auroc_dfs['model a'].loc[:,'mean_cv_auroc':]\n",
    "auroc_dfs['diff_models_ab'][['mutation', 'symbol']] = auroc_dfs['model b'].loc[:, ['mutation', 'symbol']]\n",
    "auroc_dfs['diff_models_ab']"
   ]
  },
  {
   "cell_type": "markdown",
   "metadata": {},
   "source": [
    "# Covariates only vs covariates+expression model"
   ]
  },
  {
   "cell_type": "code",
   "execution_count": 20,
   "metadata": {
    "collapsed": false
   },
   "outputs": [
    {
     "data": {
      "image/png": "[encoded data removed]",
      "text/plain": [
       "<matplotlib.figure.Figure at 0x11fd75278>"
      ]
     },
     "metadata": {},
     "output_type": "display_data"
    }
   ],
   "source": [
    "plot_df = pd.melt(auroc_dfs['diff_models_ab'], id_vars='symbol', value_vars=['mean_cv_auroc', 'training_auroc', 'testing_auroc'], var_name='kind', value_name='delta auroc')\n",
    "grid = sns.factorplot(y='symbol', x='delta auroc', hue='kind', data=plot_df, kind=\"bar\")"
   ]
  }
 ],
 "metadata": {
  "anaconda-cloud": {},
  "kernelspec": {
   "display_name": "Python [default]",
   "language": "python",
   "name": "python3"
  },
  "language_info": {
   "codemirror_mode": {
    "name": "ipython",
    "version": 3
   },
   "file_extension": ".py",
   "mimetype": "text/x-python",
   "name": "python",
   "nbconvert_exporter": "python",
   "pygments_lexer": "ipython3",
   "version": "3.5.2"
  }
 },
 "nbformat": 4,
 "nbformat_minor": 0
}
