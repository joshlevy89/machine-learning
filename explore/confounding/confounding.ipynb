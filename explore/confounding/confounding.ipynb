{
 "cells": [
  {
   "cell_type": "markdown",
   "metadata": {},
   "source": [
    "# Create a logistic regression model to predict several mutations from covariates"
   ]
  },
  {
   "cell_type": "code",
   "execution_count": 1,
   "metadata": {
    "collapsed": false
   },
   "outputs": [],
   "source": [
    "import os\n",
    "import itertools\n",
    "import warnings\n",
    "import collections\n",
    "\n",
    "import pandas as pd\n",
    "import numpy as np\n",
    "import matplotlib.pyplot as plt\n",
    "import seaborn as sns\n",
    "from sklearn import preprocessing, grid_search\n",
    "from sklearn.linear_model import SGDClassifier\n",
    "from sklearn.cross_validation import train_test_split\n",
    "from sklearn.metrics import roc_auc_score, roc_curve\n",
    "from sklearn.pipeline import make_pipeline\n",
    "from sklearn.preprocessing import StandardScaler\n",
    "from scipy.special import logit"
   ]
  },
  {
   "cell_type": "code",
   "execution_count": 2,
   "metadata": {
    "collapsed": false
   },
   "outputs": [],
   "source": [
    "%matplotlib inline\n",
    "plt.style.use('seaborn-notebook')"
   ]
  },
  {
   "cell_type": "markdown",
   "metadata": {},
   "source": [
    "## Load Data"
   ]
  },
  {
   "cell_type": "code",
   "execution_count": 3,
   "metadata": {
    "collapsed": false
   },
   "outputs": [],
   "source": [
    "path = os.path.join('..', '..', 'download', 'mutation-matrix.tsv.bz2')\n",
    "Y = pd.read_table(path, index_col=0)"
   ]
  },
  {
   "cell_type": "code",
   "execution_count": 4,
   "metadata": {
    "collapsed": false
   },
   "outputs": [
    {
     "data": {
      "text/html": [
       "<div>\n",
       "<table border=\"1\" class=\"dataframe\">\n",
       "  <thead>\n",
       "    <tr style=\"text-align: right;\">\n",
       "      <th></th>\n",
       "      <th>age_diagnosed</th>\n",
       "      <th>days_survived</th>\n",
       "      <th>days_recurrence_free</th>\n",
       "      <th>disease_adrenocortical cancer</th>\n",
       "      <th>disease_bladder urothelial carcinoma</th>\n",
       "      <th>disease_brain lower grade glioma</th>\n",
       "      <th>disease_breast invasive carcinoma</th>\n",
       "      <th>disease_cervical &amp; endocervical cancer</th>\n",
       "      <th>disease_cholangiocarcinoma</th>\n",
       "      <th>disease_colon adenocarcinoma</th>\n",
       "      <th>...</th>\n",
       "      <th>organ_of_origin_Thymus</th>\n",
       "      <th>organ_of_origin_Thyroid Gland</th>\n",
       "      <th>organ_of_origin_Uterus</th>\n",
       "      <th>gender_Female</th>\n",
       "      <th>gender_Male</th>\n",
       "      <th>alive</th>\n",
       "      <th>dead</th>\n",
       "      <th>has_not_recurred</th>\n",
       "      <th>has_recurred</th>\n",
       "      <th>n_mutations_log1p</th>\n",
       "    </tr>\n",
       "    <tr>\n",
       "      <th>sample_id</th>\n",
       "      <th></th>\n",
       "      <th></th>\n",
       "      <th></th>\n",
       "      <th></th>\n",
       "      <th></th>\n",
       "      <th></th>\n",
       "      <th></th>\n",
       "      <th></th>\n",
       "      <th></th>\n",
       "      <th></th>\n",
       "      <th></th>\n",
       "      <th></th>\n",
       "      <th></th>\n",
       "      <th></th>\n",
       "      <th></th>\n",
       "      <th></th>\n",
       "      <th></th>\n",
       "      <th></th>\n",
       "      <th></th>\n",
       "      <th></th>\n",
       "      <th></th>\n",
       "    </tr>\n",
       "  </thead>\n",
       "  <tbody>\n",
       "    <tr>\n",
       "      <th>TCGA-02-0047-01</th>\n",
       "      <td>78.0</td>\n",
       "      <td>448.0</td>\n",
       "      <td>NaN</td>\n",
       "      <td>0</td>\n",
       "      <td>0</td>\n",
       "      <td>0</td>\n",
       "      <td>0</td>\n",
       "      <td>0</td>\n",
       "      <td>0</td>\n",
       "      <td>0</td>\n",
       "      <td>...</td>\n",
       "      <td>0</td>\n",
       "      <td>0</td>\n",
       "      <td>0</td>\n",
       "      <td>0</td>\n",
       "      <td>1</td>\n",
       "      <td>0</td>\n",
       "      <td>1</td>\n",
       "      <td>0</td>\n",
       "      <td>0</td>\n",
       "      <td>3.6889</td>\n",
       "    </tr>\n",
       "    <tr>\n",
       "      <th>TCGA-02-0055-01</th>\n",
       "      <td>62.0</td>\n",
       "      <td>76.0</td>\n",
       "      <td>NaN</td>\n",
       "      <td>0</td>\n",
       "      <td>0</td>\n",
       "      <td>0</td>\n",
       "      <td>0</td>\n",
       "      <td>0</td>\n",
       "      <td>0</td>\n",
       "      <td>0</td>\n",
       "      <td>...</td>\n",
       "      <td>0</td>\n",
       "      <td>0</td>\n",
       "      <td>0</td>\n",
       "      <td>1</td>\n",
       "      <td>0</td>\n",
       "      <td>0</td>\n",
       "      <td>1</td>\n",
       "      <td>0</td>\n",
       "      <td>0</td>\n",
       "      <td>3.5264</td>\n",
       "    </tr>\n",
       "  </tbody>\n",
       "</table>\n",
       "<p>2 rows × 70 columns</p>\n",
       "</div>"
      ],
      "text/plain": [
       "                 age_diagnosed  days_survived  days_recurrence_free  \\\n",
       "sample_id                                                             \n",
       "TCGA-02-0047-01           78.0          448.0                   NaN   \n",
       "TCGA-02-0055-01           62.0           76.0                   NaN   \n",
       "\n",
       "                 disease_adrenocortical cancer  \\\n",
       "sample_id                                        \n",
       "TCGA-02-0047-01                              0   \n",
       "TCGA-02-0055-01                              0   \n",
       "\n",
       "                 disease_bladder urothelial carcinoma  \\\n",
       "sample_id                                               \n",
       "TCGA-02-0047-01                                     0   \n",
       "TCGA-02-0055-01                                     0   \n",
       "\n",
       "                 disease_brain lower grade glioma  \\\n",
       "sample_id                                           \n",
       "TCGA-02-0047-01                                 0   \n",
       "TCGA-02-0055-01                                 0   \n",
       "\n",
       "                 disease_breast invasive carcinoma  \\\n",
       "sample_id                                            \n",
       "TCGA-02-0047-01                                  0   \n",
       "TCGA-02-0055-01                                  0   \n",
       "\n",
       "                 disease_cervical & endocervical cancer  \\\n",
       "sample_id                                                 \n",
       "TCGA-02-0047-01                                       0   \n",
       "TCGA-02-0055-01                                       0   \n",
       "\n",
       "                 disease_cholangiocarcinoma  disease_colon adenocarcinoma  \\\n",
       "sample_id                                                                   \n",
       "TCGA-02-0047-01                           0                             0   \n",
       "TCGA-02-0055-01                           0                             0   \n",
       "\n",
       "                       ...          organ_of_origin_Thymus  \\\n",
       "sample_id              ...                                   \n",
       "TCGA-02-0047-01        ...                               0   \n",
       "TCGA-02-0055-01        ...                               0   \n",
       "\n",
       "                 organ_of_origin_Thyroid Gland  organ_of_origin_Uterus  \\\n",
       "sample_id                                                                \n",
       "TCGA-02-0047-01                              0                       0   \n",
       "TCGA-02-0055-01                              0                       0   \n",
       "\n",
       "                 gender_Female  gender_Male  alive  dead  has_not_recurred  \\\n",
       "sample_id                                                                    \n",
       "TCGA-02-0047-01              0            1      0     1                 0   \n",
       "TCGA-02-0055-01              1            0      0     1                 0   \n",
       "\n",
       "                 has_recurred  n_mutations_log1p  \n",
       "sample_id                                         \n",
       "TCGA-02-0047-01             0             3.6889  \n",
       "TCGA-02-0055-01             0             3.5264  \n",
       "\n",
       "[2 rows x 70 columns]"
      ]
     },
     "execution_count": 4,
     "metadata": {},
     "output_type": "execute_result"
    }
   ],
   "source": [
    "# Read sample information and create a covariate TSV\n",
    "url = 'https://github.com/cognoma/cancer-data/raw/54140cf6addc48260c9723213c40b628d7c861da/data/covariates.tsv'\n",
    "covariate_df = pd.read_table(url, index_col=0)\n",
    "covariate_df.head(2)"
   ]
  },
  {
   "cell_type": "markdown",
   "metadata": {},
   "source": [
    "## Specify the type of classifier"
   ]
  },
  {
   "cell_type": "code",
   "execution_count": 5,
   "metadata": {
    "collapsed": false
   },
   "outputs": [],
   "source": [
    "param_grid = {\n",
    "    'alpha': [10 ** x for x in range(-4, 2)],\n",
    "    'l1_ratio': [0, 0.05, 0.1, 0.2, 0.5, 0.8, 0.9, 0.95, 1],\n",
    "}\n",
    "\n",
    "clf = SGDClassifier(\n",
    "    random_state=0,\n",
    "    class_weight='balanced',\n",
    "    loss='log',\n",
    "    penalty='elasticnet'\n",
    ")\n",
    "\n",
    "# joblib is used to cross-validate in parallel by setting `n_jobs=-1` in GridSearchCV\n",
    "# Supress joblib warning. See https://github.com/scikit-learn/scikit-learn/issues/6370\n",
    "warnings.filterwarnings('ignore', message='Changing the shape of non-C contiguous array')\n",
    "clf_grid = grid_search.GridSearchCV(estimator=clf, param_grid=param_grid, n_jobs=-1, scoring='roc_auc')\n",
    "pipeline = make_pipeline(\n",
    "    StandardScaler(),\n",
    "    clf_grid\n",
    ")"
   ]
  },
  {
   "cell_type": "markdown",
   "metadata": {},
   "source": [
    "## Specify covariates and outcomes"
   ]
  },
  {
   "cell_type": "code",
   "execution_count": 6,
   "metadata": {
    "collapsed": false
   },
   "outputs": [
    {
     "data": {
      "text/html": [
       "<div>\n",
       "<table border=\"1\" class=\"dataframe\">\n",
       "  <thead>\n",
       "    <tr style=\"text-align: right;\">\n",
       "      <th></th>\n",
       "      <th>mutation</th>\n",
       "      <th>disease_covariate</th>\n",
       "      <th>organ_covariate</th>\n",
       "      <th>gender_covariate</th>\n",
       "      <th>mutation_covariate</th>\n",
       "      <th>survival_covariate</th>\n",
       "      <th>symbol</th>\n",
       "    </tr>\n",
       "  </thead>\n",
       "  <tbody>\n",
       "    <tr>\n",
       "      <th>0</th>\n",
       "      <td>238</td>\n",
       "      <td>0</td>\n",
       "      <td>0</td>\n",
       "      <td>0</td>\n",
       "      <td>0</td>\n",
       "      <td>0</td>\n",
       "      <td>ALK</td>\n",
       "    </tr>\n",
       "    <tr>\n",
       "      <th>1</th>\n",
       "      <td>238</td>\n",
       "      <td>0</td>\n",
       "      <td>0</td>\n",
       "      <td>0</td>\n",
       "      <td>0</td>\n",
       "      <td>1</td>\n",
       "      <td>ALK</td>\n",
       "    </tr>\n",
       "  </tbody>\n",
       "</table>\n",
       "</div>"
      ],
      "text/plain": [
       "  mutation  disease_covariate  organ_covariate  gender_covariate  \\\n",
       "0      238                  0                0                 0   \n",
       "1      238                  0                0                 0   \n",
       "\n",
       "   mutation_covariate  survival_covariate symbol  \n",
       "0                   0                   0    ALK  \n",
       "1                   0                   1    ALK  "
      ]
     },
     "execution_count": 6,
     "metadata": {},
     "output_type": "execute_result"
    }
   ],
   "source": [
    "def expand_grid(data_dict):\n",
    "    \"\"\"Create a dataframe from every combination of given values.\"\"\"\n",
    "    rows = itertools.product(*data_dict.values())\n",
    "    return pd.DataFrame.from_records(rows, columns=data_dict.keys())\n",
    "\n",
    "mutations = {\n",
    "    '7157': 'TP53',   # tumor protein p53\n",
    "    '7428': 'VHL',    # von Hippel-Lindau tumor suppressor\n",
    "    '29126': 'CD274', # CD274 molecule\n",
    "    '672': 'BRCA1',   # BRCA1, DNA repair associated\n",
    "    '675': 'BRCA2',   # BRCA2, DNA repair associated\n",
    "    '238': 'ALK',     # anaplastic lymphoma receptor tyrosine kinase\n",
    "    '4221': 'MEN1',   # menin 1\n",
    "    '5979': 'RET',    # ret proto-oncogene\n",
    "}\n",
    "\n",
    "options = collections.OrderedDict()\n",
    "\n",
    "options['mutation'] = list(mutations)\n",
    "\n",
    "binary_options = [\n",
    "    'disease_covariate',\n",
    "    'organ_covariate',\n",
    "    'gender_covariate',\n",
    "    'mutation_covariate',\n",
    "    'survival_covariate'\n",
    "]\n",
    "\n",
    "for opt in binary_options:\n",
    "    options[opt] = [0, 1]\n",
    "\n",
    "option_df = expand_grid(options)\n",
    "option_df['symbol'] = option_df.mutation.map(mutations)\n",
    "option_df.head(2)"
   ]
  },
  {
   "cell_type": "code",
   "execution_count": 7,
   "metadata": {
    "collapsed": false
   },
   "outputs": [],
   "source": [
    "covariate_to_columns = {\n",
    "    'gender': covariate_df.columns[covariate_df.columns.str.startswith('gender')].tolist(),\n",
    "    'disease': covariate_df.columns[covariate_df.columns.str.startswith('disease')].tolist(),\n",
    "    'organ': covariate_df.columns[covariate_df.columns.str.contains('organ')].tolist(),\n",
    "    'mutation': covariate_df.columns[covariate_df.columns.str.contains('n_mutations')].tolist(),\n",
    "    'survival': ['alive', 'dead'],\n",
    "}"
   ]
  },
  {
   "cell_type": "markdown",
   "metadata": {},
   "source": [
    "## Compute performance"
   ]
  },
  {
   "cell_type": "code",
   "execution_count": 8,
   "metadata": {
    "collapsed": false
   },
   "outputs": [],
   "source": [
    "def get_aurocs(X, y, series):\n",
    "    \"\"\"\n",
    "    Fit the classifier specified by series and add the cv, training, and testing AUROCs.\n",
    "    series is a row of option_df, which specificies the which covariates and mutation\n",
    "    status to use in the classifier.\n",
    "    \"\"\"\n",
    "    X_train, X_test, y_train, y_test = train_test_split(X, y, test_size=0.1, random_state=0)\n",
    "    series['positive_prevalence'] = np.mean(y)\n",
    "    pipeline.fit(X=X_train, y=y_train)\n",
    "    y_pred_train = pipeline.decision_function(X_train)\n",
    "    y_pred_test = pipeline.decision_function(X_test)\n",
    "    cv_score_df = grid_scores_to_df(clf_grid.grid_scores_)\n",
    "    series['mean_cv_auroc'] = cv_score_df.score.max()\n",
    "    series['training_auroc'] = roc_auc_score(y_train, y_pred_train)\n",
    "    series['testing_auroc'] = roc_auc_score(y_test, y_pred_test)\n",
    "    return series\n",
    "\n",
    "def grid_scores_to_df(grid_scores):\n",
    "    \"\"\"\n",
    "    Convert a sklearn.grid_search.GridSearchCV.grid_scores_ attribute to \n",
    "    a tidy pandas DataFrame where each row is a hyperparameter-fold combinatination.\n",
    "    \"\"\"\n",
    "    rows = list()\n",
    "    for grid_score in grid_scores:\n",
    "        for fold, score in enumerate(grid_score.cv_validation_scores):\n",
    "            row = grid_score.parameters.copy()\n",
    "            row['fold'] = fold\n",
    "            row['score'] = score\n",
    "            rows.append(row)\n",
    "    df = pd.DataFrame(rows)\n",
    "    return df"
   ]
  },
  {
   "cell_type": "code",
   "execution_count": 9,
   "metadata": {
    "collapsed": false
   },
   "outputs": [],
   "source": [
    "rows = list()\n",
    "for i, series in option_df.iterrows():\n",
    "    columns = list()\n",
    "    for name, add_columns in covariate_to_columns.items():\n",
    "        if series[name + '_covariate']:\n",
    "            columns.extend(add_columns)\n",
    "    if not columns:\n",
    "        continue\n",
    "    X = covariate_df[columns]\n",
    "    y = Y[series.mutation]\n",
    "    rows.append(get_aurocs(X, y, series))\n",
    "auroc_df = pd.DataFrame(rows)\n",
    "auroc_df.sort_values(['symbol', 'testing_auroc'], ascending=[True, False], inplace=True)"
   ]
  },
  {
   "cell_type": "code",
   "execution_count": 10,
   "metadata": {
    "collapsed": false
   },
   "outputs": [
    {
     "data": {
      "text/html": [
       "<div>\n",
       "<table border=\"1\" class=\"dataframe\">\n",
       "  <thead>\n",
       "    <tr style=\"text-align: right;\">\n",
       "      <th></th>\n",
       "      <th>mutation</th>\n",
       "      <th>disease_covariate</th>\n",
       "      <th>organ_covariate</th>\n",
       "      <th>gender_covariate</th>\n",
       "      <th>mutation_covariate</th>\n",
       "      <th>survival_covariate</th>\n",
       "      <th>symbol</th>\n",
       "      <th>positive_prevalence</th>\n",
       "      <th>mean_cv_auroc</th>\n",
       "      <th>training_auroc</th>\n",
       "      <th>testing_auroc</th>\n",
       "    </tr>\n",
       "  </thead>\n",
       "  <tbody>\n",
       "    <tr>\n",
       "      <th>19</th>\n",
       "      <td>238</td>\n",
       "      <td>1</td>\n",
       "      <td>0</td>\n",
       "      <td>0</td>\n",
       "      <td>1</td>\n",
       "      <td>1</td>\n",
       "      <td>ALK</td>\n",
       "      <td>0.018889</td>\n",
       "      <td>0.856415</td>\n",
       "      <td>0.827638</td>\n",
       "      <td>0.846732</td>\n",
       "    </tr>\n",
       "    <tr>\n",
       "      <th>22</th>\n",
       "      <td>238</td>\n",
       "      <td>1</td>\n",
       "      <td>0</td>\n",
       "      <td>1</td>\n",
       "      <td>1</td>\n",
       "      <td>0</td>\n",
       "      <td>ALK</td>\n",
       "      <td>0.018889</td>\n",
       "      <td>0.857618</td>\n",
       "      <td>0.829357</td>\n",
       "      <td>0.846334</td>\n",
       "    </tr>\n",
       "    <tr>\n",
       "      <th>23</th>\n",
       "      <td>238</td>\n",
       "      <td>1</td>\n",
       "      <td>0</td>\n",
       "      <td>1</td>\n",
       "      <td>1</td>\n",
       "      <td>1</td>\n",
       "      <td>ALK</td>\n",
       "      <td>0.018889</td>\n",
       "      <td>0.856177</td>\n",
       "      <td>0.829393</td>\n",
       "      <td>0.846135</td>\n",
       "    </tr>\n",
       "    <tr>\n",
       "      <th>30</th>\n",
       "      <td>238</td>\n",
       "      <td>1</td>\n",
       "      <td>1</td>\n",
       "      <td>1</td>\n",
       "      <td>1</td>\n",
       "      <td>0</td>\n",
       "      <td>ALK</td>\n",
       "      <td>0.018889</td>\n",
       "      <td>0.853851</td>\n",
       "      <td>0.829066</td>\n",
       "      <td>0.846035</td>\n",
       "    </tr>\n",
       "    <tr>\n",
       "      <th>31</th>\n",
       "      <td>238</td>\n",
       "      <td>1</td>\n",
       "      <td>1</td>\n",
       "      <td>1</td>\n",
       "      <td>1</td>\n",
       "      <td>1</td>\n",
       "      <td>ALK</td>\n",
       "      <td>0.018889</td>\n",
       "      <td>0.853125</td>\n",
       "      <td>0.828207</td>\n",
       "      <td>0.845637</td>\n",
       "    </tr>\n",
       "  </tbody>\n",
       "</table>\n",
       "</div>"
      ],
      "text/plain": [
       "   mutation  disease_covariate  organ_covariate  gender_covariate  \\\n",
       "19      238                  1                0                 0   \n",
       "22      238                  1                0                 1   \n",
       "23      238                  1                0                 1   \n",
       "30      238                  1                1                 1   \n",
       "31      238                  1                1                 1   \n",
       "\n",
       "    mutation_covariate  survival_covariate symbol  positive_prevalence  \\\n",
       "19                   1                   1    ALK             0.018889   \n",
       "22                   1                   0    ALK             0.018889   \n",
       "23                   1                   1    ALK             0.018889   \n",
       "30                   1                   0    ALK             0.018889   \n",
       "31                   1                   1    ALK             0.018889   \n",
       "\n",
       "    mean_cv_auroc  training_auroc  testing_auroc  \n",
       "19       0.856415        0.827638       0.846732  \n",
       "22       0.857618        0.829357       0.846334  \n",
       "23       0.856177        0.829393       0.846135  \n",
       "30       0.853851        0.829066       0.846035  \n",
       "31       0.853125        0.828207       0.845637  "
      ]
     },
     "execution_count": 10,
     "metadata": {},
     "output_type": "execute_result"
    }
   ],
   "source": [
    "auroc_df.head()"
   ]
  },
  {
   "cell_type": "code",
   "execution_count": 11,
   "metadata": {
    "collapsed": true
   },
   "outputs": [],
   "source": [
    "auroc_df.to_csv('auroc.tsv', index=False, sep='\\t', float_format='%.5g')"
   ]
  },
  {
   "cell_type": "markdown",
   "metadata": {},
   "source": [
    "## Covariate performance by mutation"
   ]
  },
  {
   "cell_type": "code",
   "execution_count": 12,
   "metadata": {
    "collapsed": false,
    "scrolled": false
   },
   "outputs": [
    {
     "data": {
      "image/png": "[encoded data removed]",
      "text/plain": [
       "<matplotlib.figure.Figure at 0x7f777946c7b8>"
      ]
     },
     "metadata": {},
     "output_type": "display_data"
    }
   ],
   "source": [
    "# Filter for models which include all covariates\n",
    "plot_df = auroc_df[auroc_df[binary_options].all(axis='columns')]\n",
    "plot_df = pd.melt(plot_df, id_vars='symbol', value_vars=['mean_cv_auroc', 'training_auroc', 'testing_auroc'], var_name='kind', value_name='auroc')\n",
    "grid = sns.factorplot(y='symbol', x='auroc', hue='kind', data=plot_df, kind=\"bar\")\n",
    "xlimits = grid.ax.set_xlim(0.5, 1)"
   ]
  }
 ],
 "metadata": {
  "anaconda-cloud": {},
  "kernelspec": {
   "display_name": "Python [default]",
   "language": "python",
   "name": "python3"
  },
  "language_info": {
   "codemirror_mode": {
    "name": "ipython",
    "version": 3
   },
   "file_extension": ".py",
   "mimetype": "text/x-python",
   "name": "python",
   "nbconvert_exporter": "python",
   "pygments_lexer": "ipython3",
   "version": "3.5.2"
  }
 },
 "nbformat": 4,
 "nbformat_minor": 0
}
